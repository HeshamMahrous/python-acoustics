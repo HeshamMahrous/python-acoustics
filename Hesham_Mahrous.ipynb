{
  "nbformat": 4,
  "nbformat_minor": 0,
  "metadata": {
    "colab": {
      "name": "Hesham-Mahrous.ipynb",
      "version": "0.3.2",
      "provenance": [],
      "collapsed_sections": [],
      "toc_visible": true,
      "include_colab_link": true
    },
    "kernelspec": {
      "name": "python2",
      "display_name": "Python 2"
    },
    "accelerator": "GPU"
  },
  "cells": [
    {
      "cell_type": "markdown",
      "metadata": {
        "id": "view-in-github",
        "colab_type": "text"
      },
      "source": [
        "[View in Colaboratory](https://colab.research.google.com/github/HeshamMahrous/python-acoustics/blob/master/Hesham_Mahrous.ipynb)"
      ]
    },
    {
      "metadata": {
        "id": "Jh_ZkVCbGsI2",
        "colab_type": "text"
      },
      "cell_type": "markdown",
      "source": [
        "# Instructions\n",
        "\n",
        "This is an imperfect implementation of ResNet configured to train with the CIFAR-10 dataset.\n",
        "\n",
        "There are a few bugs and it should be able to reach a higher accuracy. See what you can do to fix it and write a few paragraphs about what you did."
      ]
    },
    {
      "metadata": {
        "id": "4iI079DBDSW9",
        "colab_type": "text"
      },
      "cell_type": "markdown",
      "source": [
        "# Imports"
      ]
    },
    {
      "metadata": {
        "id": "2iVqm5Jr-078",
        "colab_type": "code",
        "colab": {
          "base_uri": "https://localhost:8080/",
          "height": 51
        },
        "outputId": "5ff2b84f-39c5-45d0-9d3a-3d7e2f54f246"
      },
      "cell_type": "code",
      "source": [
        "from __future__ import absolute_import\n",
        "from __future__ import print_function\n",
        "from __future__ import division\n",
        "\n",
        "import os\n",
        "import time\n",
        "import tarfile\n",
        "import tensorflow as tf\n",
        "import matplotlib.pyplot as plt\n",
        "\n",
        "from google.colab import files\n",
        "\n",
        "print('TensorFlow Version:', tf.VERSION)\n",
        "print('TensorFlow GPU:', tf.test.gpu_device_name())"
      ],
      "execution_count": 1,
      "outputs": [
        {
          "output_type": "stream",
          "text": [
            "TensorFlow Version: 1.9.0\n",
            "TensorFlow GPU: /device:GPU:0\n"
          ],
          "name": "stdout"
        }
      ]
    },
    {
      "metadata": {
        "id": "JKaCOUwrK1au",
        "colab_type": "text"
      },
      "cell_type": "markdown",
      "source": [
        "# Data"
      ]
    },
    {
      "metadata": {
        "id": "7gy8inTwL8lI",
        "colab_type": "code",
        "colab": {
          "base_uri": "https://localhost:8080/",
          "height": 105
        },
        "outputId": "a54ff955-0ed8-416a-fe5e-ae90ea60c28c"
      },
      "cell_type": "code",
      "source": [
        "data_name = 'cifar-10-batches-bin'\n",
        "data_dir = os.path.join('/content/.keras/datasets', data_name)\n",
        "data_url = 'https://www.cs.toronto.edu/~kriz/cifar-10-binary.tar.gz'\n",
        "tf.keras.utils.get_file(data_name, data_url, untar=True)"
      ],
      "execution_count": 4,
      "outputs": [
        {
          "output_type": "stream",
          "text": [
            "Downloading data from https://www.cs.toronto.edu/~kriz/cifar-10-binary.tar.gz\n",
            "136372224/170052171 [=======================>......] - ETA: 10s"
          ],
          "name": "stdout"
        },
        {
          "output_type": "stream",
          "text": [
            "170057728/170052171 [==============================] - 53s 0us/step\n",
            "170065920/170052171 [==============================] - 53s 0us/step\n"
          ],
          "name": "stdout"
        },
        {
          "output_type": "execute_result",
          "data": {
            "text/plain": [
              "'/content/.keras/datasets/cifar-10-batches-bin'"
            ]
          },
          "metadata": {
            "tags": []
          },
          "execution_count": 4
        }
      ]
    },
    {
      "metadata": {
        "id": "H_xuw_3zKwhs",
        "colab_type": "text"
      },
      "cell_type": "markdown",
      "source": [
        "# Inputs"
      ]
    },
    {
      "metadata": {
        "id": "DRE_SKGgKzQb",
        "colab_type": "code",
        "colab": {}
      },
      "cell_type": "code",
      "source": [
        "def get_input_fn(filenames, batch_size, num_epochs, shuffle=False, augment=False):\n",
        "    label_bytes = 1\n",
        "    image_height = 32\n",
        "    image_width = 32\n",
        "    image_depth = 3\n",
        "    image_bytes = image_height * image_width * image_depth\n",
        "    record_bytes = label_bytes + image_bytes\n",
        "\n",
        "    def _parse_record(value):\n",
        "        raw_data = tf.decode_raw(value, tf.uint8)\n",
        "        raw_data.set_shape([record_bytes])\n",
        "        label = tf.squeeze(tf.cast(raw_data[:label_bytes], tf.int32), axis=0)\n",
        "        depth_major = tf.reshape(\n",
        "            raw_data[label_bytes:],\n",
        "            [image_depth, image_height, image_width])\n",
        "        image = tf.transpose(depth_major, [1, 2, 0])\n",
        "        image = tf.to_float(image) / 255\n",
        "        if augment:\n",
        "            image = tf.image.random_flip_left_right(image)\n",
        "            image = tf.image.random_brightness(image, max_delta=0.2)\n",
        "            image = tf.image.random_contrast(image, lower=0.2, upper=1.8)\n",
        "            image = tf.clip_by_value(image, 0.0, 1.0)\n",
        "        features = {'image': image}\n",
        "        labels = {'label': label}\n",
        "        return features, labels\n",
        "        \n",
        "    def _input_fn():\n",
        "        with tf.device('/cpu:0'):\n",
        "            dataset = tf.data.FixedLengthRecordDataset(filenames, record_bytes)\n",
        "            dataset = dataset.map(\n",
        "                map_func=_parse_record,\n",
        "                num_parallel_calls=4)\n",
        "            if shuffle:\n",
        "                dataset = dataset.shuffle(buffer_size=10000)\n",
        "            dataset = dataset.batch(batch_size)\n",
        "            dataset = dataset.prefetch(buffer_size=1000)\n",
        "            dataset = dataset.repeat(num_epochs)\n",
        "            iterator = dataset.make_one_shot_iterator()\n",
        "            return iterator.get_next()\n",
        "    return _input_fn"
      ],
      "execution_count": 0,
      "outputs": []
    },
    {
      "metadata": {
        "id": "GbF8GxfvMs5K",
        "colab_type": "code",
        "colab": {
          "base_uri": "https://localhost:8080/",
          "height": 598
        },
        "outputId": "5b278d8d-fa61-49d7-c455-998204bd632b"
      },
      "cell_type": "code",
      "source": [
        "with tf.Session() as sess:\n",
        "    input_fn = get_input_fn(\n",
        "        filenames=[os.path.join(data_dir, 'test_batch.bin')],\n",
        "        batch_size=16,\n",
        "        num_epochs=1,\n",
        "        shuffle=False,\n",
        "        augment=True)\n",
        "\n",
        "    features, labels = input_fn()\n",
        "    image_batch, label_batch = sess.run([features['image'], labels['label']])\n",
        "    print('Images Min:', image_batch.min(), 'Max:', image_batch.max())\n",
        "\n",
        "    fig, axes = plt.subplots(4, 4, figsize=(8, 8))\n",
        "    for i, ax in enumerate(axes.ravel()):\n",
        "        ax.imshow(image_batch[i])\n",
        "        ax.grid(False)\n",
        "        ax.axis('off')\n",
        "        ax.set_title('Label: {}'.format(label_batch[i]))\n",
        "    plt.tight_layout()"
      ],
      "execution_count": 6,
      "outputs": [
        {
          "output_type": "stream",
          "text": [
            "Images Min: 0.0 Max: 1.0\n"
          ],
          "name": "stdout"
        },
        {
          "output_type": "display_data",
          "data": {
            "image/png": "[encoded data removed]",
            "text/plain": [
              "<matplotlib.figure.Figure at 0x7f5c857df990>"
            ]
          },
          "metadata": {
            "tags": []
          }
        }
      ]
    },
    {
      "metadata": {
        "id": "v9ih6KgrLCgf",
        "colab_type": "text"
      },
      "cell_type": "markdown",
      "source": [
        "# Model"
      ]
    },
    {
      "metadata": {
        "id": "RbGhOg7vkwPo",
        "colab_type": "code",
        "colab": {}
      },
      "cell_type": "code",
      "source": [
        "def batch_norm(inputs, momentum, training):\n",
        "    return tf.layers.batch_normalization(\n",
        "        inputs=inputs,\n",
        "        scale=False,\n",
        "        momentum=momentum,\n",
        "        training=training,\n",
        "        fused=True)\n",
        "\n",
        "def resnet_block(inputs, filters, strides, training, params):\n",
        "    kernel_initializer = tf.initializers.variance_scaling(scale=2.0)\n",
        "    kernel_regularizer = tf.contrib.layers.l2_regularizer(scale=params['l2_scale'])\n",
        "\n",
        "    inputs = batch_norm(\n",
        "        inputs=inputs,\n",
        "        momentum=params['bn_momentum'],\n",
        "        training=training)\n",
        "    inputs = tf.nn.relu(inputs)\n",
        "\n",
        "    hidden = tf.layers.conv2d(\n",
        "        inputs=inputs,\n",
        "        filters=filters,\n",
        "        kernel_size=3,\n",
        "        strides=strides,\n",
        "        use_bias=False,\n",
        "        kernel_initializer=kernel_initializer,\n",
        "        kernel_regularizer=kernel_regularizer,\n",
        "        padding='same')\n",
        "\n",
        "    hidden = batch_norm(\n",
        "        inputs=hidden,\n",
        "        momentum=params['bn_momentum'],\n",
        "        training=training)\n",
        "    hidden = tf.nn.relu(hidden)\n",
        "    hidden = tf.layers.conv2d(\n",
        "        inputs=hidden,\n",
        "        filters=filters,\n",
        "        kernel_size=3,\n",
        "        strides=1,\n",
        "        use_bias=False,\n",
        "        kernel_initializer=kernel_initializer,\n",
        "        kernel_regularizer=kernel_regularizer,\n",
        "        padding='same')\n",
        "\n",
        "    inputs_padded = tf.layers.conv2d(\n",
        "        inputs=inputs,\n",
        "        filters=filters,\n",
        "        kernel_size=1,\n",
        "        strides=strides,\n",
        "        use_bias=False,\n",
        "        padding='same',\n",
        "        kernel_initializer=kernel_initializer,\n",
        "        kernel_regularizer=kernel_regularizer)\n",
        "    hidden = hidden + inputs_padded\n",
        "    \n",
        "    return hidden\n",
        "\n",
        "def resnet_layer(inputs, filters, strides, training, params):\n",
        "    hidden = resnet_block(inputs, filters, strides, training, params)\n",
        "    hidden = resnet_block(hidden, filters, 1, training, params)\n",
        "    hidden = resnet_block(hidden, filters, 1, training, params)\n",
        "    hidden = resnet_block(hidden, filters, 1, training, params)\n",
        "    hidden = resnet_block(hidden, filters, 1, training, params)\n",
        "    hidden = resnet_block(hidden, filters, 1, training, params)\n",
        "    return hidden"
      ],
      "execution_count": 0,
      "outputs": []
    },
    {
      "metadata": {
        "id": "Ch-hDue_LEu-",
        "colab_type": "code",
        "colab": {}
      },
      "cell_type": "code",
      "source": [
        "def model_fn(features, labels, mode, params):\n",
        "    kernel_initializer = tf.initializers.variance_scaling(scale=2.0)\n",
        "    kernel_regularizer = tf.contrib.layers.l2_regularizer(scale=params['l2_scale'])\n",
        "    training = (mode == tf.estimator.ModeKeys.TRAIN)\n",
        "    num_classes = 10\n",
        "\n",
        "    inputs = features['image'] * 2 - 1\n",
        "\n",
        "    hidden = tf.layers.conv2d(\n",
        "        inputs=inputs,\n",
        "        filters=16,\n",
        "        kernel_size=3,\n",
        "        kernel_initializer=kernel_initializer,\n",
        "        kernel_regularizer=kernel_regularizer,\n",
        "        padding='same')\n",
        "\n",
        "    hidden = resnet_layer(hidden, filters=16, strides=2, training=training, params=params)\n",
        "    #hidden = resnet_layer(hidden, filters=16, strides=1, training=training, params=params)\n",
        "    #hidden = resnet_layer(hidden, filters=16, strides=1, training=training, params=params)\n",
        "    #hidden = resnet_layer(hidden, filters=32, strides=1, training=training, params=params)\n",
        "    #hidden = resnet_layer(hidden, filters=64, strides=1, training=training, params=params)\n",
        "\n",
        "    hidden = batch_norm(\n",
        "        inputs=hidden,\n",
        "        momentum=params['bn_momentum'],\n",
        "        training=training)\n",
        "    hidden = tf.nn.relu(hidden)\n",
        "\n",
        "    hidden = tf.reduce_mean(hidden, axis=[1, 2])\n",
        "\n",
        "    logits = tf.layers.dense(\n",
        "        inputs=hidden,\n",
        "        units=num_classes,\n",
        "        kernel_initializer=kernel_initializer,\n",
        "        kernel_regularizer=kernel_regularizer)\n",
        "\n",
        "    outputs = tf.nn.softmax(logits)\n",
        "    prediction = tf.argmax(outputs, axis=-1)\n",
        "    \n",
        "    predictions = {\n",
        "        'prediction': prediction\n",
        "    }\n",
        "\n",
        "    loss = None\n",
        "    if mode != tf.estimator.ModeKeys.PREDICT:\n",
        "        loss = tf.losses.sparse_softmax_cross_entropy(\n",
        "            labels=labels['label'],\n",
        "            logits=logits)\n",
        "        loss = tf.losses.get_total_loss()\n",
        "        \n",
        "    train_op = None\n",
        "    if mode == tf.estimator.ModeKeys.TRAIN:\n",
        "        global_step = tf.train.get_or_create_global_step()\n",
        "        learning_rate = tf.train.piecewise_constant(\n",
        "            boundaries=params['lr_boundaries'],\n",
        "            values=params['lr_values'],\n",
        "            x=global_step)\n",
        "\n",
        "        optimizer = tf.train.MomentumOptimizer(\n",
        "            learning_rate=learning_rate,\n",
        "            momentum=params['momentum'])\n",
        "        with tf.control_dependencies(tf.get_collection(tf.GraphKeys.UPDATE_OPS)):\n",
        "            train_op = optimizer.minimize(\n",
        "                global_step=global_step,\n",
        "                loss=loss)\n",
        "\n",
        "    eval_metric_ops = None\n",
        "    if mode != tf.estimator.ModeKeys.PREDICT:\n",
        "        eval_metric_ops = {\n",
        "            'accuracy': tf.metrics.accuracy(\n",
        "                predictions=predictions['prediction'],\n",
        "                labels=labels['label'])\n",
        "        }\n",
        "\n",
        "    estimator_spec = tf.estimator.EstimatorSpec(\n",
        "        loss=loss,\n",
        "        mode=mode,\n",
        "        train_op=train_op,\n",
        "        predictions=predictions,\n",
        "        eval_metric_ops=eval_metric_ops)\n",
        "    return estimator_spec"
      ],
      "execution_count": 0,
      "outputs": []
    },
    {
      "metadata": {
        "id": "Zx_enNtMKsuH",
        "colab_type": "text"
      },
      "cell_type": "markdown",
      "source": [
        "# Training"
      ]
    },
    {
      "metadata": {
        "id": "nvBISqbuDu1k",
        "colab_type": "code",
        "colab": {
          "base_uri": "https://localhost:8080/",
          "height": 23956
        },
        "outputId": "c42d49de-845a-48d5-d96b-cb0e14a39444"
      },
      "cell_type": "code",
      "source": [
        "max_steps_train = 10000\n",
        "batch_size = 256\n",
        "model_dir = os.path.join('jobs/', str(int(time.time())))\n",
        "print('Model Directory:', model_dir)\n",
        "\n",
        "params = {\n",
        "    'l2_scale': 1e-4,\n",
        "    'lr_values': [1e-1, 1e-2, 1e-3],\n",
        "    'lr_boundaries': [max_steps_train // 3, max_steps_train // 3 * 2],\n",
        "    'bn_momentum': 0.99,\n",
        "    'momentum': 0.9,\n",
        "}\n",
        "print('Hyperparameters:', params)\n",
        "\n",
        "config = tf.estimator.RunConfig(\n",
        "    save_checkpoints_steps=1000,\n",
        "    save_checkpoints_secs=None,\n",
        "    save_summary_steps=100)\n",
        "\n",
        "tf.logging.set_verbosity(tf.logging.INFO)\n",
        "\n",
        "estimator = tf.estimator.Estimator(\n",
        "    model_fn=model_fn,\n",
        "    model_dir=model_dir,\n",
        "    config=config,\n",
        "    params=params)\n",
        "\n",
        "filenames_train = [\n",
        "    os.path.join(data_dir, 'data_batch_{}.bin'.format(i))\n",
        "    for i in xrange(1, 6)]\n",
        "filenames_eval = [os.path.join(data_dir, 'test_batch.bin')]\n",
        "\n",
        "input_fn_train = get_input_fn(\n",
        "    filenames=filenames_train,\n",
        "    batch_size=batch_size,\n",
        "    num_epochs=1,\n",
        "    shuffle=True,\n",
        "    augment=True)\n",
        "input_fn_eval = get_input_fn(\n",
        "    filenames=filenames_eval,\n",
        "    batch_size=batch_size,\n",
        "    num_epochs=1,\n",
        "    shuffle=False,\n",
        "    augment=False)\n",
        "\n",
        "train_spec = tf.estimator.TrainSpec(\n",
        "    input_fn=input_fn_train,\n",
        "    max_steps=max_steps_train)\n",
        "eval_spec = tf.estimator.EvalSpec(\n",
        "    input_fn=input_fn_eval,\n",
        "    start_delay_secs=0,\n",
        "    throttle_secs=60 * 5)\n",
        "\n",
        "tf.estimator.train_and_evaluate(\n",
        "    train_spec=train_spec,\n",
        "    eval_spec=eval_spec,\n",
        "    estimator=estimator)"
      ],
      "execution_count": 29,
      "outputs": [
        {
          "output_type": "stream",
          "text": [
            "Model Directory: jobs/1531952916\n",
            "Hyperparameters: {'lr_boundaries': [3333, 6666], 'momentum': 0.9, 'bn_momentum': 0.99, 'l2_scale': 0.0001, 'lr_values': [0.1, 0.01, 0.001]}\n",
            "INFO:tensorflow:Using config: {'_save_checkpoints_secs': None, '_session_config': None, '_keep_checkpoint_max': 5, '_task_type': 'worker', '_global_id_in_cluster': 0, '_is_chief': True, '_cluster_spec': <tensorflow.python.training.server_lib.ClusterSpec object at 0x7fb1720fa0d0>, '_evaluation_master': '', '_save_checkpoints_steps': 1000, '_keep_checkpoint_every_n_hours': 10000, '_service': None, '_num_ps_replicas': 0, '_tf_random_seed': None, '_master': '', '_device_fn': None, '_num_worker_replicas': 1, '_task_id': 0, '_log_step_count_steps': 100, '_model_dir': 'jobs/1531952916', '_train_distribute': None, '_save_summary_steps': 100}\n",
            "INFO:tensorflow:Running training and evaluation locally (non-distributed).\n",
            "INFO:tensorflow:Start train and evaluate loop. The evaluate will happen after 300 secs (eval_spec.throttle_secs) or training is finished.\n",
            "INFO:tensorflow:Calling model_fn.\n",
            "INFO:tensorflow:Done calling model_fn.\n",
            "INFO:tensorflow:Create CheckpointSaverHook.\n",
            "INFO:tensorflow:Graph was finalized.\n",
            "INFO:tensorflow:Running local_init_op.\n",
            "INFO:tensorflow:Done running local_init_op.\n",
            "INFO:tensorflow:Saving checkpoints for 0 into jobs/1531952916/model.ckpt.\n",
            "INFO:tensorflow:loss = 2.4838855, step = 0\n",
            "INFO:tensorflow:global_step/sec: 11.3384\n",
            "INFO:tensorflow:loss = 1.8623706, step = 100 (8.827 sec)\n",
            "INFO:tensorflow:Saving checkpoints for 196 into jobs/1531952916/model.ckpt.\n",
            "INFO:tensorflow:Loss for final step: 1.7237809.\n",
            "INFO:tensorflow:Calling model_fn.\n",
            "INFO:tensorflow:Done calling model_fn.\n",
            "INFO:tensorflow:Starting evaluation at 2018-07-18-22:29:00\n",
            "INFO:tensorflow:Graph was finalized.\n",
            "INFO:tensorflow:Restoring parameters from jobs/1531952916/model.ckpt-196\n",
            "INFO:tensorflow:Running local_init_op.\n",
            "INFO:tensorflow:Done running local_init_op.\n",
            "INFO:tensorflow:Evaluation [10/100]\n",
            "INFO:tensorflow:Evaluation [20/100]\n",
            "INFO:tensorflow:Evaluation [30/100]\n",
            "INFO:tensorflow:Evaluation [40/100]\n",
            "INFO:tensorflow:Finished evaluation at 2018-07-18-22:29:02\n",
            "INFO:tensorflow:Saving dict for global step 196: accuracy = 0.2678, global_step = 196, loss = 2.6064448\n",
            "INFO:tensorflow:Saving 'checkpoint_path' summary for global step 196: jobs/1531952916/model.ckpt-196\n",
            "INFO:tensorflow:Calling model_fn.\n",
            "INFO:tensorflow:Done calling model_fn.\n",
            "INFO:tensorflow:Create CheckpointSaverHook.\n",
            "INFO:tensorflow:Graph was finalized.\n",
            "INFO:tensorflow:Restoring parameters from jobs/1531952916/model.ckpt-196\n",
            "INFO:tensorflow:Running local_init_op.\n",
            "INFO:tensorflow:Done running local_init_op.\n",
            "INFO:tensorflow:Saving checkpoints for 196 into jobs/1531952916/model.ckpt.\n",
            "INFO:tensorflow:loss = 1.7155201, step = 196\n",
            "INFO:tensorflow:global_step/sec: 11.4069\n",
            "INFO:tensorflow:loss = 1.5001843, step = 296 (8.770 sec)\n",
            "INFO:tensorflow:Saving checkpoints for 392 into jobs/1531952916/model.ckpt.\n",
            "INFO:tensorflow:Loss for final step: 1.3162559.\n",
            "INFO:tensorflow:Calling model_fn.\n",
            "INFO:tensorflow:Done calling model_fn.\n",
            "INFO:tensorflow:Starting evaluation at 2018-07-18-22:29:26\n",
            "INFO:tensorflow:Graph was finalized.\n",
            "INFO:tensorflow:Restoring parameters from jobs/1531952916/model.ckpt-392\n",
            "INFO:tensorflow:Running local_init_op.\n"
          ],
          "name": "stdout"
        },
        {
          "output_type": "stream",
          "text": [
            "INFO:tensorflow:Done running local_init_op.\n",
            "INFO:tensorflow:Evaluation [10/100]\n",
            "INFO:tensorflow:Evaluation [20/100]\n",
            "INFO:tensorflow:Evaluation [30/100]\n",
            "INFO:tensorflow:Evaluation [40/100]\n",
            "INFO:tensorflow:Finished evaluation at 2018-07-18-22:29:29\n",
            "INFO:tensorflow:Saving dict for global step 392: accuracy = 0.3945, global_step = 392, loss = 1.7490101\n",
            "INFO:tensorflow:Saving 'checkpoint_path' summary for global step 392: jobs/1531952916/model.ckpt-392\n",
            "INFO:tensorflow:Calling model_fn.\n",
            "INFO:tensorflow:Done calling model_fn.\n",
            "INFO:tensorflow:Create CheckpointSaverHook.\n",
            "INFO:tensorflow:Graph was finalized.\n",
            "INFO:tensorflow:Restoring parameters from jobs/1531952916/model.ckpt-392\n",
            "INFO:tensorflow:Running local_init_op.\n",
            "INFO:tensorflow:Done running local_init_op.\n",
            "INFO:tensorflow:Saving checkpoints for 392 into jobs/1531952916/model.ckpt.\n",
            "INFO:tensorflow:loss = 1.4242495, step = 392\n",
            "INFO:tensorflow:global_step/sec: 11.5145\n",
            "INFO:tensorflow:loss = 1.4302735, step = 492 (8.687 sec)\n",
            "INFO:tensorflow:Saving checkpoints for 588 into jobs/1531952916/model.ckpt.\n",
            "INFO:tensorflow:Loss for final step: 1.1255481.\n",
            "INFO:tensorflow:Calling model_fn.\n",
            "INFO:tensorflow:Done calling model_fn.\n",
            "INFO:tensorflow:Starting evaluation at 2018-07-18-22:29:52\n",
            "INFO:tensorflow:Graph was finalized.\n",
            "INFO:tensorflow:Restoring parameters from jobs/1531952916/model.ckpt-588\n",
            "INFO:tensorflow:Running local_init_op.\n",
            "INFO:tensorflow:Done running local_init_op.\n",
            "INFO:tensorflow:Evaluation [10/100]\n",
            "INFO:tensorflow:Evaluation [20/100]\n",
            "INFO:tensorflow:Evaluation [30/100]\n",
            "INFO:tensorflow:Evaluation [40/100]\n",
            "INFO:tensorflow:Finished evaluation at 2018-07-18-22:29:54\n",
            "INFO:tensorflow:Saving dict for global step 588: accuracy = 0.4239, global_step = 588, loss = 1.7936857\n",
            "INFO:tensorflow:Saving 'checkpoint_path' summary for global step 588: jobs/1531952916/model.ckpt-588\n",
            "INFO:tensorflow:Calling model_fn.\n",
            "INFO:tensorflow:Done calling model_fn.\n",
            "INFO:tensorflow:Create CheckpointSaverHook.\n",
            "INFO:tensorflow:Graph was finalized.\n",
            "INFO:tensorflow:Restoring parameters from jobs/1531952916/model.ckpt-588\n",
            "INFO:tensorflow:Running local_init_op.\n",
            "INFO:tensorflow:Done running local_init_op.\n",
            "INFO:tensorflow:Saving checkpoints for 588 into jobs/1531952916/model.ckpt.\n",
            "INFO:tensorflow:loss = 1.309706, step = 588\n",
            "INFO:tensorflow:global_step/sec: 11.4844\n",
            "INFO:tensorflow:loss = 1.28865, step = 688 (8.710 sec)\n",
            "INFO:tensorflow:Saving checkpoints for 784 into jobs/1531952916/model.ckpt.\n",
            "INFO:tensorflow:Loss for final step: 1.2341523.\n",
            "INFO:tensorflow:Calling model_fn.\n",
            "INFO:tensorflow:Done calling model_fn.\n",
            "INFO:tensorflow:Starting evaluation at 2018-07-18-22:30:18\n",
            "INFO:tensorflow:Graph was finalized.\n",
            "INFO:tensorflow:Restoring parameters from jobs/1531952916/model.ckpt-784\n",
            "INFO:tensorflow:Running local_init_op.\n",
            "INFO:tensorflow:Done running local_init_op.\n",
            "INFO:tensorflow:Evaluation [10/100]\n",
            "INFO:tensorflow:Evaluation [20/100]\n",
            "INFO:tensorflow:Evaluation [30/100]\n",
            "INFO:tensorflow:Evaluation [40/100]\n",
            "INFO:tensorflow:Finished evaluation at 2018-07-18-22:30:20\n",
            "INFO:tensorflow:Saving dict for global step 784: accuracy = 0.4168, global_step = 784, loss = 1.7930431\n",
            "INFO:tensorflow:Saving 'checkpoint_path' summary for global step 784: jobs/1531952916/model.ckpt-784\n"
          ],
          "name": "stdout"
        },
        {
          "output_type": "stream",
          "text": [
            "INFO:tensorflow:Calling model_fn.\n",
            "INFO:tensorflow:Done calling model_fn.\n",
            "INFO:tensorflow:Create CheckpointSaverHook.\n",
            "INFO:tensorflow:Graph was finalized.\n",
            "INFO:tensorflow:Restoring parameters from jobs/1531952916/model.ckpt-784\n",
            "INFO:tensorflow:Running local_init_op.\n",
            "INFO:tensorflow:Done running local_init_op.\n",
            "INFO:tensorflow:Saving checkpoints for 784 into jobs/1531952916/model.ckpt.\n",
            "INFO:tensorflow:loss = 1.0909792, step = 784\n",
            "INFO:tensorflow:global_step/sec: 11.454\n",
            "INFO:tensorflow:loss = 1.1268712, step = 884 (8.738 sec)\n",
            "INFO:tensorflow:Saving checkpoints for 980 into jobs/1531952916/model.ckpt.\n",
            "INFO:tensorflow:Loss for final step: 1.4879646.\n",
            "INFO:tensorflow:Calling model_fn.\n",
            "INFO:tensorflow:Done calling model_fn.\n",
            "INFO:tensorflow:Starting evaluation at 2018-07-18-22:30:43\n",
            "INFO:tensorflow:Graph was finalized.\n",
            "INFO:tensorflow:Restoring parameters from jobs/1531952916/model.ckpt-980\n",
            "INFO:tensorflow:Running local_init_op.\n",
            "INFO:tensorflow:Done running local_init_op.\n",
            "INFO:tensorflow:Evaluation [10/100]\n",
            "INFO:tensorflow:Evaluation [20/100]\n",
            "INFO:tensorflow:Evaluation [30/100]\n",
            "INFO:tensorflow:Evaluation [40/100]\n",
            "INFO:tensorflow:Finished evaluation at 2018-07-18-22:30:46\n",
            "INFO:tensorflow:Saving dict for global step 980: accuracy = 0.3837, global_step = 980, loss = 2.1597047\n",
            "INFO:tensorflow:Saving 'checkpoint_path' summary for global step 980: jobs/1531952916/model.ckpt-980\n",
            "INFO:tensorflow:Calling model_fn.\n",
            "INFO:tensorflow:Done calling model_fn.\n",
            "INFO:tensorflow:Create CheckpointSaverHook.\n",
            "INFO:tensorflow:Graph was finalized.\n",
            "INFO:tensorflow:Restoring parameters from jobs/1531952916/model.ckpt-980\n",
            "INFO:tensorflow:Running local_init_op.\n",
            "INFO:tensorflow:Done running local_init_op.\n",
            "INFO:tensorflow:Saving checkpoints for 980 into jobs/1531952916/model.ckpt.\n",
            "INFO:tensorflow:loss = 1.1241015, step = 980\n",
            "INFO:tensorflow:global_step/sec: 11.3692\n",
            "INFO:tensorflow:loss = 1.0107336, step = 1080 (8.796 sec)\n",
            "INFO:tensorflow:Saving checkpoints for 1176 into jobs/1531952916/model.ckpt.\n",
            "INFO:tensorflow:Loss for final step: 1.3549275.\n",
            "INFO:tensorflow:Calling model_fn.\n",
            "INFO:tensorflow:Done calling model_fn.\n",
            "INFO:tensorflow:Starting evaluation at 2018-07-18-22:31:09\n",
            "INFO:tensorflow:Graph was finalized.\n",
            "INFO:tensorflow:Restoring parameters from jobs/1531952916/model.ckpt-1176\n",
            "INFO:tensorflow:Running local_init_op.\n",
            "INFO:tensorflow:Done running local_init_op.\n",
            "INFO:tensorflow:Evaluation [10/100]\n",
            "INFO:tensorflow:Evaluation [20/100]\n",
            "INFO:tensorflow:Evaluation [30/100]\n",
            "INFO:tensorflow:Evaluation [40/100]\n",
            "INFO:tensorflow:Finished evaluation at 2018-07-18-22:31:12\n",
            "INFO:tensorflow:Saving dict for global step 1176: accuracy = 0.5478, global_step = 1176, loss = 1.3173625\n",
            "INFO:tensorflow:Saving 'checkpoint_path' summary for global step 1176: jobs/1531952916/model.ckpt-1176\n",
            "INFO:tensorflow:Calling model_fn.\n",
            "INFO:tensorflow:Done calling model_fn.\n",
            "INFO:tensorflow:Create CheckpointSaverHook.\n",
            "INFO:tensorflow:Graph was finalized.\n",
            "INFO:tensorflow:Restoring parameters from jobs/1531952916/model.ckpt-1176\n",
            "INFO:tensorflow:Running local_init_op.\n",
            "INFO:tensorflow:Done running local_init_op.\n",
            "INFO:tensorflow:Saving checkpoints for 1176 into jobs/1531952916/model.ckpt.\n"
          ],
          "name": "stdout"
        },
        {
          "output_type": "stream",
          "text": [
            "INFO:tensorflow:loss = 1.0860685, step = 1176\n",
            "INFO:tensorflow:global_step/sec: 11.3388\n",
            "INFO:tensorflow:loss = 1.0931851, step = 1276 (8.824 sec)\n",
            "INFO:tensorflow:Saving checkpoints for 1372 into jobs/1531952916/model.ckpt.\n",
            "INFO:tensorflow:Loss for final step: 1.064633.\n",
            "INFO:tensorflow:Calling model_fn.\n",
            "INFO:tensorflow:Done calling model_fn.\n",
            "INFO:tensorflow:Starting evaluation at 2018-07-18-22:31:35\n",
            "INFO:tensorflow:Graph was finalized.\n",
            "INFO:tensorflow:Restoring parameters from jobs/1531952916/model.ckpt-1372\n",
            "INFO:tensorflow:Running local_init_op.\n",
            "INFO:tensorflow:Done running local_init_op.\n",
            "INFO:tensorflow:Evaluation [10/100]\n",
            "INFO:tensorflow:Evaluation [20/100]\n",
            "INFO:tensorflow:Evaluation [30/100]\n",
            "INFO:tensorflow:Evaluation [40/100]\n",
            "INFO:tensorflow:Finished evaluation at 2018-07-18-22:31:38\n",
            "INFO:tensorflow:Saving dict for global step 1372: accuracy = 0.6232, global_step = 1372, loss = 1.096455\n",
            "INFO:tensorflow:Saving 'checkpoint_path' summary for global step 1372: jobs/1531952916/model.ckpt-1372\n",
            "INFO:tensorflow:Calling model_fn.\n",
            "INFO:tensorflow:Done calling model_fn.\n",
            "INFO:tensorflow:Create CheckpointSaverHook.\n",
            "INFO:tensorflow:Graph was finalized.\n",
            "INFO:tensorflow:Restoring parameters from jobs/1531952916/model.ckpt-1372\n",
            "INFO:tensorflow:Running local_init_op.\n",
            "INFO:tensorflow:Done running local_init_op.\n",
            "INFO:tensorflow:Saving checkpoints for 1372 into jobs/1531952916/model.ckpt.\n",
            "INFO:tensorflow:loss = 0.9806318, step = 1372\n",
            "INFO:tensorflow:global_step/sec: 11.3618\n",
            "INFO:tensorflow:loss = 0.99406123, step = 1472 (8.806 sec)\n",
            "INFO:tensorflow:Saving checkpoints for 1568 into jobs/1531952916/model.ckpt.\n",
            "INFO:tensorflow:Loss for final step: 1.0858879.\n",
            "INFO:tensorflow:Calling model_fn.\n",
            "INFO:tensorflow:Done calling model_fn.\n",
            "INFO:tensorflow:Starting evaluation at 2018-07-18-22:32:01\n",
            "INFO:tensorflow:Graph was finalized.\n",
            "INFO:tensorflow:Restoring parameters from jobs/1531952916/model.ckpt-1568\n",
            "INFO:tensorflow:Running local_init_op.\n",
            "INFO:tensorflow:Done running local_init_op.\n",
            "INFO:tensorflow:Evaluation [10/100]\n",
            "INFO:tensorflow:Evaluation [20/100]\n",
            "INFO:tensorflow:Evaluation [30/100]\n",
            "INFO:tensorflow:Evaluation [40/100]\n",
            "INFO:tensorflow:Finished evaluation at 2018-07-18-22:32:04\n",
            "INFO:tensorflow:Saving dict for global step 1568: accuracy = 0.5825, global_step = 1568, loss = 1.3200023\n",
            "INFO:tensorflow:Saving 'checkpoint_path' summary for global step 1568: jobs/1531952916/model.ckpt-1568\n",
            "INFO:tensorflow:Calling model_fn.\n",
            "INFO:tensorflow:Done calling model_fn.\n",
            "INFO:tensorflow:Create CheckpointSaverHook.\n",
            "INFO:tensorflow:Graph was finalized.\n",
            "INFO:tensorflow:Restoring parameters from jobs/1531952916/model.ckpt-1568\n",
            "INFO:tensorflow:Running local_init_op.\n",
            "INFO:tensorflow:Done running local_init_op.\n",
            "INFO:tensorflow:Saving checkpoints for 1568 into jobs/1531952916/model.ckpt.\n",
            "INFO:tensorflow:loss = 0.9181829, step = 1568\n",
            "INFO:tensorflow:global_step/sec: 11.4091\n",
            "INFO:tensorflow:loss = 0.9378718, step = 1668 (8.767 sec)\n",
            "INFO:tensorflow:Saving checkpoints for 1764 into jobs/1531952916/model.ckpt.\n",
            "INFO:tensorflow:Loss for final step: 1.1040463.\n",
            "INFO:tensorflow:Calling model_fn.\n",
            "INFO:tensorflow:Done calling model_fn.\n",
            "INFO:tensorflow:Starting evaluation at 2018-07-18-22:32:27\n"
          ],
          "name": "stdout"
        },
        {
          "output_type": "stream",
          "text": [
            "INFO:tensorflow:Graph was finalized.\n",
            "INFO:tensorflow:Restoring parameters from jobs/1531952916/model.ckpt-1764\n",
            "INFO:tensorflow:Running local_init_op.\n",
            "INFO:tensorflow:Done running local_init_op.\n",
            "INFO:tensorflow:Evaluation [10/100]\n",
            "INFO:tensorflow:Evaluation [20/100]\n",
            "INFO:tensorflow:Evaluation [30/100]\n",
            "INFO:tensorflow:Evaluation [40/100]\n",
            "INFO:tensorflow:Finished evaluation at 2018-07-18-22:32:30\n",
            "INFO:tensorflow:Saving dict for global step 1764: accuracy = 0.6119, global_step = 1764, loss = 1.1428801\n",
            "INFO:tensorflow:Saving 'checkpoint_path' summary for global step 1764: jobs/1531952916/model.ckpt-1764\n",
            "INFO:tensorflow:Calling model_fn.\n",
            "INFO:tensorflow:Done calling model_fn.\n",
            "INFO:tensorflow:Create CheckpointSaverHook.\n",
            "INFO:tensorflow:Graph was finalized.\n",
            "INFO:tensorflow:Restoring parameters from jobs/1531952916/model.ckpt-1764\n",
            "INFO:tensorflow:Running local_init_op.\n",
            "INFO:tensorflow:Done running local_init_op.\n",
            "INFO:tensorflow:Saving checkpoints for 1764 into jobs/1531952916/model.ckpt.\n",
            "INFO:tensorflow:loss = 0.8880346, step = 1764\n",
            "INFO:tensorflow:global_step/sec: 11.0727\n",
            "INFO:tensorflow:loss = 0.9848317, step = 1864 (9.041 sec)\n",
            "INFO:tensorflow:Saving checkpoints for 1960 into jobs/1531952916/model.ckpt.\n",
            "INFO:tensorflow:Loss for final step: 1.0743121.\n",
            "INFO:tensorflow:Calling model_fn.\n",
            "INFO:tensorflow:Done calling model_fn.\n",
            "INFO:tensorflow:Starting evaluation at 2018-07-18-22:32:54\n",
            "INFO:tensorflow:Graph was finalized.\n",
            "INFO:tensorflow:Restoring parameters from jobs/1531952916/model.ckpt-1960\n",
            "INFO:tensorflow:Running local_init_op.\n",
            "INFO:tensorflow:Done running local_init_op.\n",
            "INFO:tensorflow:Evaluation [10/100]\n",
            "INFO:tensorflow:Evaluation [20/100]\n",
            "INFO:tensorflow:Evaluation [30/100]\n",
            "INFO:tensorflow:Evaluation [40/100]\n",
            "INFO:tensorflow:Finished evaluation at 2018-07-18-22:32:57\n",
            "INFO:tensorflow:Saving dict for global step 1960: accuracy = 0.6108, global_step = 1960, loss = 1.2004073\n",
            "INFO:tensorflow:Saving 'checkpoint_path' summary for global step 1960: jobs/1531952916/model.ckpt-1960\n",
            "INFO:tensorflow:Calling model_fn.\n",
            "INFO:tensorflow:Done calling model_fn.\n",
            "INFO:tensorflow:Create CheckpointSaverHook.\n",
            "INFO:tensorflow:Graph was finalized.\n",
            "INFO:tensorflow:Restoring parameters from jobs/1531952916/model.ckpt-1960\n",
            "INFO:tensorflow:Running local_init_op.\n",
            "INFO:tensorflow:Done running local_init_op.\n",
            "INFO:tensorflow:Saving checkpoints for 1960 into jobs/1531952916/model.ckpt.\n",
            "INFO:tensorflow:loss = 0.8654091, step = 1960\n",
            "INFO:tensorflow:global_step/sec: 11.1339\n",
            "INFO:tensorflow:loss = 0.91284686, step = 2060 (8.989 sec)\n",
            "INFO:tensorflow:Saving checkpoints for 2156 into jobs/1531952916/model.ckpt.\n",
            "INFO:tensorflow:Loss for final step: 0.9257901.\n",
            "INFO:tensorflow:Calling model_fn.\n",
            "INFO:tensorflow:Done calling model_fn.\n",
            "INFO:tensorflow:Starting evaluation at 2018-07-18-22:33:21\n",
            "INFO:tensorflow:Graph was finalized.\n",
            "INFO:tensorflow:Restoring parameters from jobs/1531952916/model.ckpt-2156\n",
            "INFO:tensorflow:Running local_init_op.\n",
            "INFO:tensorflow:Done running local_init_op.\n",
            "INFO:tensorflow:Evaluation [10/100]\n",
            "INFO:tensorflow:Evaluation [20/100]\n",
            "INFO:tensorflow:Evaluation [30/100]\n"
          ],
          "name": "stdout"
        },
        {
          "output_type": "stream",
          "text": [
            "INFO:tensorflow:Evaluation [40/100]\n",
            "INFO:tensorflow:Finished evaluation at 2018-07-18-22:33:23\n",
            "INFO:tensorflow:Saving dict for global step 2156: accuracy = 0.6415, global_step = 2156, loss = 1.1274569\n",
            "INFO:tensorflow:Saving 'checkpoint_path' summary for global step 2156: jobs/1531952916/model.ckpt-2156\n",
            "INFO:tensorflow:Calling model_fn.\n",
            "INFO:tensorflow:Done calling model_fn.\n",
            "INFO:tensorflow:Create CheckpointSaverHook.\n",
            "INFO:tensorflow:Graph was finalized.\n",
            "INFO:tensorflow:Restoring parameters from jobs/1531952916/model.ckpt-2156\n",
            "INFO:tensorflow:Running local_init_op.\n",
            "INFO:tensorflow:Done running local_init_op.\n",
            "INFO:tensorflow:Saving checkpoints for 2156 into jobs/1531952916/model.ckpt.\n",
            "INFO:tensorflow:loss = 0.94911015, step = 2156\n",
            "INFO:tensorflow:global_step/sec: 11.209\n",
            "INFO:tensorflow:loss = 0.8609535, step = 2256 (8.932 sec)\n",
            "INFO:tensorflow:Saving checkpoints for 2352 into jobs/1531952916/model.ckpt.\n",
            "INFO:tensorflow:Loss for final step: 0.87007284.\n",
            "INFO:tensorflow:Calling model_fn.\n",
            "INFO:tensorflow:Done calling model_fn.\n",
            "INFO:tensorflow:Starting evaluation at 2018-07-18-22:33:47\n",
            "INFO:tensorflow:Graph was finalized.\n",
            "INFO:tensorflow:Restoring parameters from jobs/1531952916/model.ckpt-2352\n",
            "INFO:tensorflow:Running local_init_op.\n",
            "INFO:tensorflow:Done running local_init_op.\n",
            "INFO:tensorflow:Evaluation [10/100]\n",
            "INFO:tensorflow:Evaluation [20/100]\n",
            "INFO:tensorflow:Evaluation [30/100]\n",
            "INFO:tensorflow:Evaluation [40/100]\n",
            "INFO:tensorflow:Finished evaluation at 2018-07-18-22:33:49\n",
            "INFO:tensorflow:Saving dict for global step 2352: accuracy = 0.5574, global_step = 2352, loss = 1.4971086\n",
            "INFO:tensorflow:Saving 'checkpoint_path' summary for global step 2352: jobs/1531952916/model.ckpt-2352\n",
            "INFO:tensorflow:Calling model_fn.\n",
            "INFO:tensorflow:Done calling model_fn.\n",
            "INFO:tensorflow:Create CheckpointSaverHook.\n",
            "INFO:tensorflow:Graph was finalized.\n",
            "INFO:tensorflow:Restoring parameters from jobs/1531952916/model.ckpt-2352\n",
            "INFO:tensorflow:Running local_init_op.\n",
            "INFO:tensorflow:Done running local_init_op.\n",
            "INFO:tensorflow:Saving checkpoints for 2352 into jobs/1531952916/model.ckpt.\n",
            "INFO:tensorflow:loss = 0.83129436, step = 2352\n",
            "INFO:tensorflow:global_step/sec: 11.214\n",
            "INFO:tensorflow:loss = 0.8424908, step = 2452 (8.924 sec)\n",
            "INFO:tensorflow:Saving checkpoints for 2548 into jobs/1531952916/model.ckpt.\n",
            "INFO:tensorflow:Loss for final step: 0.99488956.\n",
            "INFO:tensorflow:Calling model_fn.\n",
            "INFO:tensorflow:Done calling model_fn.\n",
            "INFO:tensorflow:Starting evaluation at 2018-07-18-22:34:13\n",
            "INFO:tensorflow:Graph was finalized.\n",
            "INFO:tensorflow:Restoring parameters from jobs/1531952916/model.ckpt-2548\n",
            "INFO:tensorflow:Running local_init_op.\n",
            "INFO:tensorflow:Done running local_init_op.\n",
            "INFO:tensorflow:Evaluation [10/100]\n",
            "INFO:tensorflow:Evaluation [20/100]\n",
            "INFO:tensorflow:Evaluation [30/100]\n",
            "INFO:tensorflow:Evaluation [40/100]\n",
            "INFO:tensorflow:Finished evaluation at 2018-07-18-22:34:16\n",
            "INFO:tensorflow:Saving dict for global step 2548: accuracy = 0.5923, global_step = 2548, loss = 1.2805121\n",
            "INFO:tensorflow:Saving 'checkpoint_path' summary for global step 2548: jobs/1531952916/model.ckpt-2548\n",
            "INFO:tensorflow:Calling model_fn.\n",
            "INFO:tensorflow:Done calling model_fn.\n"
          ],
          "name": "stdout"
        },
        {
          "output_type": "stream",
          "text": [
            "INFO:tensorflow:Create CheckpointSaverHook.\n",
            "INFO:tensorflow:Graph was finalized.\n",
            "INFO:tensorflow:Restoring parameters from jobs/1531952916/model.ckpt-2548\n",
            "INFO:tensorflow:Running local_init_op.\n",
            "INFO:tensorflow:Done running local_init_op.\n",
            "INFO:tensorflow:Saving checkpoints for 2548 into jobs/1531952916/model.ckpt.\n",
            "INFO:tensorflow:loss = 0.8279925, step = 2548\n",
            "INFO:tensorflow:global_step/sec: 11.1867\n",
            "INFO:tensorflow:loss = 0.93484825, step = 2648 (8.941 sec)\n",
            "INFO:tensorflow:Saving checkpoints for 2744 into jobs/1531952916/model.ckpt.\n",
            "INFO:tensorflow:Loss for final step: 0.7830824.\n",
            "INFO:tensorflow:Calling model_fn.\n",
            "INFO:tensorflow:Done calling model_fn.\n",
            "INFO:tensorflow:Starting evaluation at 2018-07-18-22:34:40\n",
            "INFO:tensorflow:Graph was finalized.\n",
            "INFO:tensorflow:Restoring parameters from jobs/1531952916/model.ckpt-2744\n",
            "INFO:tensorflow:Running local_init_op.\n",
            "INFO:tensorflow:Done running local_init_op.\n",
            "INFO:tensorflow:Evaluation [10/100]\n",
            "INFO:tensorflow:Evaluation [20/100]\n",
            "INFO:tensorflow:Evaluation [30/100]\n",
            "INFO:tensorflow:Evaluation [40/100]\n",
            "INFO:tensorflow:Finished evaluation at 2018-07-18-22:34:43\n",
            "INFO:tensorflow:Saving dict for global step 2744: accuracy = 0.6179, global_step = 2744, loss = 1.1846114\n",
            "INFO:tensorflow:Saving 'checkpoint_path' summary for global step 2744: jobs/1531952916/model.ckpt-2744\n",
            "INFO:tensorflow:Calling model_fn.\n",
            "INFO:tensorflow:Done calling model_fn.\n",
            "INFO:tensorflow:Create CheckpointSaverHook.\n",
            "INFO:tensorflow:Graph was finalized.\n",
            "INFO:tensorflow:Restoring parameters from jobs/1531952916/model.ckpt-2744\n",
            "INFO:tensorflow:Running local_init_op.\n",
            "INFO:tensorflow:Done running local_init_op.\n",
            "INFO:tensorflow:Saving checkpoints for 2744 into jobs/1531952916/model.ckpt.\n",
            "INFO:tensorflow:loss = 0.8832915, step = 2744\n",
            "INFO:tensorflow:global_step/sec: 11.2838\n",
            "INFO:tensorflow:loss = 0.9257704, step = 2844 (8.872 sec)\n",
            "INFO:tensorflow:Saving checkpoints for 2940 into jobs/1531952916/model.ckpt.\n",
            "INFO:tensorflow:Loss for final step: 0.96155787.\n",
            "INFO:tensorflow:Calling model_fn.\n",
            "INFO:tensorflow:Done calling model_fn.\n",
            "INFO:tensorflow:Starting evaluation at 2018-07-18-22:35:06\n",
            "INFO:tensorflow:Graph was finalized.\n",
            "INFO:tensorflow:Restoring parameters from jobs/1531952916/model.ckpt-2940\n",
            "INFO:tensorflow:Running local_init_op.\n",
            "INFO:tensorflow:Done running local_init_op.\n",
            "INFO:tensorflow:Evaluation [10/100]\n",
            "INFO:tensorflow:Evaluation [20/100]\n",
            "INFO:tensorflow:Evaluation [30/100]\n",
            "INFO:tensorflow:Evaluation [40/100]\n",
            "INFO:tensorflow:Finished evaluation at 2018-07-18-22:35:09\n",
            "INFO:tensorflow:Saving dict for global step 2940: accuracy = 0.6513, global_step = 2940, loss = 1.0692822\n",
            "INFO:tensorflow:Saving 'checkpoint_path' summary for global step 2940: jobs/1531952916/model.ckpt-2940\n",
            "INFO:tensorflow:Calling model_fn.\n",
            "INFO:tensorflow:Done calling model_fn.\n",
            "INFO:tensorflow:Create CheckpointSaverHook.\n",
            "INFO:tensorflow:Graph was finalized.\n",
            "INFO:tensorflow:Restoring parameters from jobs/1531952916/model.ckpt-2940\n",
            "INFO:tensorflow:Running local_init_op.\n",
            "INFO:tensorflow:Done running local_init_op.\n",
            "INFO:tensorflow:Saving checkpoints for 2940 into jobs/1531952916/model.ckpt.\n",
            "INFO:tensorflow:loss = 0.8055238, step = 2940\n"
          ],
          "name": "stdout"
        },
        {
          "output_type": "stream",
          "text": [
            "INFO:tensorflow:global_step/sec: 11.1435\n",
            "INFO:tensorflow:loss = 0.8387805, step = 3040 (8.983 sec)\n",
            "INFO:tensorflow:Saving checkpoints for 3136 into jobs/1531952916/model.ckpt.\n",
            "INFO:tensorflow:Loss for final step: 0.78830624.\n",
            "INFO:tensorflow:Calling model_fn.\n",
            "INFO:tensorflow:Done calling model_fn.\n",
            "INFO:tensorflow:Starting evaluation at 2018-07-18-22:35:33\n",
            "INFO:tensorflow:Graph was finalized.\n",
            "INFO:tensorflow:Restoring parameters from jobs/1531952916/model.ckpt-3136\n",
            "INFO:tensorflow:Running local_init_op.\n",
            "INFO:tensorflow:Done running local_init_op.\n",
            "INFO:tensorflow:Evaluation [10/100]\n",
            "INFO:tensorflow:Evaluation [20/100]\n",
            "INFO:tensorflow:Evaluation [30/100]\n",
            "INFO:tensorflow:Evaluation [40/100]\n",
            "INFO:tensorflow:Finished evaluation at 2018-07-18-22:35:35\n",
            "INFO:tensorflow:Saving dict for global step 3136: accuracy = 0.523, global_step = 3136, loss = 1.601244\n",
            "INFO:tensorflow:Saving 'checkpoint_path' summary for global step 3136: jobs/1531952916/model.ckpt-3136\n",
            "INFO:tensorflow:Calling model_fn.\n",
            "INFO:tensorflow:Done calling model_fn.\n",
            "INFO:tensorflow:Create CheckpointSaverHook.\n",
            "INFO:tensorflow:Graph was finalized.\n",
            "INFO:tensorflow:Restoring parameters from jobs/1531952916/model.ckpt-3136\n",
            "INFO:tensorflow:Running local_init_op.\n",
            "INFO:tensorflow:Done running local_init_op.\n",
            "INFO:tensorflow:Saving checkpoints for 3136 into jobs/1531952916/model.ckpt.\n",
            "INFO:tensorflow:loss = 0.80289876, step = 3136\n",
            "INFO:tensorflow:global_step/sec: 11.1908\n",
            "INFO:tensorflow:loss = 0.91529673, step = 3236 (8.941 sec)\n",
            "INFO:tensorflow:Saving checkpoints for 3332 into jobs/1531952916/model.ckpt.\n",
            "INFO:tensorflow:Loss for final step: 0.8893519.\n",
            "INFO:tensorflow:Calling model_fn.\n",
            "INFO:tensorflow:Done calling model_fn.\n",
            "INFO:tensorflow:Starting evaluation at 2018-07-18-22:35:59\n",
            "INFO:tensorflow:Graph was finalized.\n",
            "INFO:tensorflow:Restoring parameters from jobs/1531952916/model.ckpt-3332\n",
            "INFO:tensorflow:Running local_init_op.\n",
            "INFO:tensorflow:Done running local_init_op.\n",
            "INFO:tensorflow:Evaluation [10/100]\n",
            "INFO:tensorflow:Evaluation [20/100]\n",
            "INFO:tensorflow:Evaluation [30/100]\n",
            "INFO:tensorflow:Evaluation [40/100]\n",
            "INFO:tensorflow:Finished evaluation at 2018-07-18-22:36:02\n",
            "INFO:tensorflow:Saving dict for global step 3332: accuracy = 0.6052, global_step = 3332, loss = 1.2646499\n",
            "INFO:tensorflow:Saving 'checkpoint_path' summary for global step 3332: jobs/1531952916/model.ckpt-3332\n",
            "INFO:tensorflow:Calling model_fn.\n",
            "INFO:tensorflow:Done calling model_fn.\n",
            "INFO:tensorflow:Create CheckpointSaverHook.\n",
            "INFO:tensorflow:Graph was finalized.\n",
            "INFO:tensorflow:Restoring parameters from jobs/1531952916/model.ckpt-3332\n",
            "INFO:tensorflow:Running local_init_op.\n",
            "INFO:tensorflow:Done running local_init_op.\n",
            "INFO:tensorflow:Saving checkpoints for 3332 into jobs/1531952916/model.ckpt.\n",
            "INFO:tensorflow:loss = 0.73463625, step = 3332\n",
            "INFO:tensorflow:global_step/sec: 11.19\n",
            "INFO:tensorflow:loss = 0.7580766, step = 3432 (8.944 sec)\n",
            "INFO:tensorflow:Saving checkpoints for 3528 into jobs/1531952916/model.ckpt.\n",
            "INFO:tensorflow:Loss for final step: 0.7243248.\n",
            "INFO:tensorflow:Calling model_fn.\n",
            "INFO:tensorflow:Done calling model_fn.\n",
            "INFO:tensorflow:Starting evaluation at 2018-07-18-22:36:26\n"
          ],
          "name": "stdout"
        },
        {
          "output_type": "stream",
          "text": [
            "INFO:tensorflow:Graph was finalized.\n",
            "INFO:tensorflow:Restoring parameters from jobs/1531952916/model.ckpt-3528\n",
            "INFO:tensorflow:Running local_init_op.\n",
            "INFO:tensorflow:Done running local_init_op.\n",
            "INFO:tensorflow:Evaluation [10/100]\n",
            "INFO:tensorflow:Evaluation [20/100]\n",
            "INFO:tensorflow:Evaluation [30/100]\n",
            "INFO:tensorflow:Evaluation [40/100]\n",
            "INFO:tensorflow:Finished evaluation at 2018-07-18-22:36:28\n",
            "INFO:tensorflow:Saving dict for global step 3528: accuracy = 0.7604, global_step = 3528, loss = 0.76718336\n",
            "INFO:tensorflow:Saving 'checkpoint_path' summary for global step 3528: jobs/1531952916/model.ckpt-3528\n",
            "INFO:tensorflow:Calling model_fn.\n",
            "INFO:tensorflow:Done calling model_fn.\n",
            "INFO:tensorflow:Create CheckpointSaverHook.\n",
            "INFO:tensorflow:Graph was finalized.\n",
            "INFO:tensorflow:Restoring parameters from jobs/1531952916/model.ckpt-3528\n",
            "INFO:tensorflow:Running local_init_op.\n",
            "INFO:tensorflow:Done running local_init_op.\n",
            "INFO:tensorflow:Saving checkpoints for 3528 into jobs/1531952916/model.ckpt.\n",
            "INFO:tensorflow:loss = 0.7788293, step = 3528\n",
            "INFO:tensorflow:global_step/sec: 11.2225\n",
            "INFO:tensorflow:loss = 0.73244584, step = 3628 (8.921 sec)\n",
            "INFO:tensorflow:Saving checkpoints for 3724 into jobs/1531952916/model.ckpt.\n",
            "INFO:tensorflow:Loss for final step: 0.8578875.\n",
            "INFO:tensorflow:Calling model_fn.\n",
            "INFO:tensorflow:Done calling model_fn.\n",
            "INFO:tensorflow:Starting evaluation at 2018-07-18-22:36:52\n",
            "INFO:tensorflow:Graph was finalized.\n",
            "INFO:tensorflow:Restoring parameters from jobs/1531952916/model.ckpt-3724\n",
            "INFO:tensorflow:Running local_init_op.\n",
            "INFO:tensorflow:Done running local_init_op.\n",
            "INFO:tensorflow:Evaluation [10/100]\n",
            "INFO:tensorflow:Evaluation [20/100]\n",
            "INFO:tensorflow:Evaluation [30/100]\n",
            "INFO:tensorflow:Evaluation [40/100]\n",
            "INFO:tensorflow:Finished evaluation at 2018-07-18-22:36:55\n",
            "INFO:tensorflow:Saving dict for global step 3724: accuracy = 0.7572, global_step = 3724, loss = 0.7762702\n",
            "INFO:tensorflow:Saving 'checkpoint_path' summary for global step 3724: jobs/1531952916/model.ckpt-3724\n",
            "INFO:tensorflow:Calling model_fn.\n",
            "INFO:tensorflow:Done calling model_fn.\n",
            "INFO:tensorflow:Create CheckpointSaverHook.\n",
            "INFO:tensorflow:Graph was finalized.\n",
            "INFO:tensorflow:Restoring parameters from jobs/1531952916/model.ckpt-3724\n",
            "INFO:tensorflow:Running local_init_op.\n",
            "INFO:tensorflow:Done running local_init_op.\n",
            "INFO:tensorflow:Saving checkpoints for 3724 into jobs/1531952916/model.ckpt.\n",
            "INFO:tensorflow:loss = 0.6998098, step = 3724\n",
            "INFO:tensorflow:global_step/sec: 11.2464\n",
            "INFO:tensorflow:loss = 0.74538773, step = 3824 (8.893 sec)\n",
            "INFO:tensorflow:Saving checkpoints for 3920 into jobs/1531952916/model.ckpt.\n",
            "INFO:tensorflow:Loss for final step: 0.8896414.\n",
            "INFO:tensorflow:Calling model_fn.\n",
            "INFO:tensorflow:Done calling model_fn.\n",
            "INFO:tensorflow:Starting evaluation at 2018-07-18-22:37:18\n",
            "INFO:tensorflow:Graph was finalized.\n",
            "INFO:tensorflow:Restoring parameters from jobs/1531952916/model.ckpt-3920\n",
            "INFO:tensorflow:Running local_init_op.\n",
            "INFO:tensorflow:Done running local_init_op.\n",
            "INFO:tensorflow:Evaluation [10/100]\n",
            "INFO:tensorflow:Evaluation [20/100]\n",
            "INFO:tensorflow:Evaluation [30/100]\n"
          ],
          "name": "stdout"
        },
        {
          "output_type": "stream",
          "text": [
            "INFO:tensorflow:Evaluation [40/100]\n",
            "INFO:tensorflow:Finished evaluation at 2018-07-18-22:37:21\n",
            "INFO:tensorflow:Saving dict for global step 3920: accuracy = 0.76, global_step = 3920, loss = 0.75979644\n",
            "INFO:tensorflow:Saving 'checkpoint_path' summary for global step 3920: jobs/1531952916/model.ckpt-3920\n",
            "INFO:tensorflow:Calling model_fn.\n",
            "INFO:tensorflow:Done calling model_fn.\n",
            "INFO:tensorflow:Create CheckpointSaverHook.\n",
            "INFO:tensorflow:Graph was finalized.\n",
            "INFO:tensorflow:Restoring parameters from jobs/1531952916/model.ckpt-3920\n",
            "INFO:tensorflow:Running local_init_op.\n",
            "INFO:tensorflow:Done running local_init_op.\n",
            "INFO:tensorflow:Saving checkpoints for 3920 into jobs/1531952916/model.ckpt.\n",
            "INFO:tensorflow:loss = 0.6686795, step = 3920\n",
            "INFO:tensorflow:global_step/sec: 11.2101\n",
            "INFO:tensorflow:loss = 0.6853267, step = 4020 (8.922 sec)\n",
            "INFO:tensorflow:Saving checkpoints for 4116 into jobs/1531952916/model.ckpt.\n",
            "INFO:tensorflow:Loss for final step: 1.000063.\n",
            "INFO:tensorflow:Calling model_fn.\n",
            "INFO:tensorflow:Done calling model_fn.\n",
            "INFO:tensorflow:Starting evaluation at 2018-07-18-22:37:45\n",
            "INFO:tensorflow:Graph was finalized.\n",
            "INFO:tensorflow:Restoring parameters from jobs/1531952916/model.ckpt-4116\n",
            "INFO:tensorflow:Running local_init_op.\n",
            "INFO:tensorflow:Done running local_init_op.\n",
            "INFO:tensorflow:Evaluation [10/100]\n",
            "INFO:tensorflow:Evaluation [20/100]\n",
            "INFO:tensorflow:Evaluation [30/100]\n",
            "INFO:tensorflow:Evaluation [40/100]\n",
            "INFO:tensorflow:Finished evaluation at 2018-07-18-22:37:48\n",
            "INFO:tensorflow:Saving dict for global step 4116: accuracy = 0.7624, global_step = 4116, loss = 0.7551577\n",
            "INFO:tensorflow:Saving 'checkpoint_path' summary for global step 4116: jobs/1531952916/model.ckpt-4116\n",
            "INFO:tensorflow:Calling model_fn.\n",
            "INFO:tensorflow:Done calling model_fn.\n",
            "INFO:tensorflow:Create CheckpointSaverHook.\n",
            "INFO:tensorflow:Graph was finalized.\n",
            "INFO:tensorflow:Restoring parameters from jobs/1531952916/model.ckpt-4116\n",
            "INFO:tensorflow:Running local_init_op.\n",
            "INFO:tensorflow:Done running local_init_op.\n",
            "INFO:tensorflow:Saving checkpoints for 4116 into jobs/1531952916/model.ckpt.\n",
            "INFO:tensorflow:loss = 0.7034513, step = 4116\n",
            "INFO:tensorflow:global_step/sec: 11.2708\n",
            "INFO:tensorflow:loss = 0.6725441, step = 4216 (8.883 sec)\n",
            "INFO:tensorflow:Saving checkpoints for 4312 into jobs/1531952916/model.ckpt.\n",
            "INFO:tensorflow:Loss for final step: 0.722518.\n",
            "INFO:tensorflow:Calling model_fn.\n",
            "INFO:tensorflow:Done calling model_fn.\n",
            "INFO:tensorflow:Starting evaluation at 2018-07-18-22:38:11\n",
            "INFO:tensorflow:Graph was finalized.\n",
            "INFO:tensorflow:Restoring parameters from jobs/1531952916/model.ckpt-4312\n",
            "INFO:tensorflow:Running local_init_op.\n",
            "INFO:tensorflow:Done running local_init_op.\n",
            "INFO:tensorflow:Evaluation [10/100]\n",
            "INFO:tensorflow:Evaluation [20/100]\n",
            "INFO:tensorflow:Evaluation [30/100]\n",
            "INFO:tensorflow:Evaluation [40/100]\n",
            "INFO:tensorflow:Finished evaluation at 2018-07-18-22:38:14\n",
            "INFO:tensorflow:Saving dict for global step 4312: accuracy = 0.7594, global_step = 4312, loss = 0.7651348\n",
            "INFO:tensorflow:Saving 'checkpoint_path' summary for global step 4312: jobs/1531952916/model.ckpt-4312\n",
            "INFO:tensorflow:Calling model_fn.\n",
            "INFO:tensorflow:Done calling model_fn.\n"
          ],
          "name": "stdout"
        },
        {
          "output_type": "stream",
          "text": [
            "INFO:tensorflow:Create CheckpointSaverHook.\n",
            "INFO:tensorflow:Graph was finalized.\n",
            "INFO:tensorflow:Restoring parameters from jobs/1531952916/model.ckpt-4312\n",
            "INFO:tensorflow:Running local_init_op.\n",
            "INFO:tensorflow:Done running local_init_op.\n",
            "INFO:tensorflow:Saving checkpoints for 4312 into jobs/1531952916/model.ckpt.\n",
            "INFO:tensorflow:loss = 0.7040085, step = 4312\n",
            "INFO:tensorflow:global_step/sec: 11.3348\n",
            "INFO:tensorflow:loss = 0.7605391, step = 4412 (8.828 sec)\n",
            "INFO:tensorflow:Saving checkpoints for 4508 into jobs/1531952916/model.ckpt.\n",
            "INFO:tensorflow:Loss for final step: 0.7755406.\n",
            "INFO:tensorflow:Calling model_fn.\n",
            "INFO:tensorflow:Done calling model_fn.\n",
            "INFO:tensorflow:Starting evaluation at 2018-07-18-22:38:38\n",
            "INFO:tensorflow:Graph was finalized.\n",
            "INFO:tensorflow:Restoring parameters from jobs/1531952916/model.ckpt-4508\n",
            "INFO:tensorflow:Running local_init_op.\n",
            "INFO:tensorflow:Done running local_init_op.\n",
            "INFO:tensorflow:Evaluation [10/100]\n",
            "INFO:tensorflow:Evaluation [20/100]\n",
            "INFO:tensorflow:Evaluation [30/100]\n",
            "INFO:tensorflow:Evaluation [40/100]\n",
            "INFO:tensorflow:Finished evaluation at 2018-07-18-22:38:40\n",
            "INFO:tensorflow:Saving dict for global step 4508: accuracy = 0.7659, global_step = 4508, loss = 0.7505754\n",
            "INFO:tensorflow:Saving 'checkpoint_path' summary for global step 4508: jobs/1531952916/model.ckpt-4508\n",
            "INFO:tensorflow:Calling model_fn.\n",
            "INFO:tensorflow:Done calling model_fn.\n",
            "INFO:tensorflow:Create CheckpointSaverHook.\n",
            "INFO:tensorflow:Graph was finalized.\n",
            "INFO:tensorflow:Restoring parameters from jobs/1531952916/model.ckpt-4508\n",
            "INFO:tensorflow:Running local_init_op.\n",
            "INFO:tensorflow:Done running local_init_op.\n",
            "INFO:tensorflow:Saving checkpoints for 4508 into jobs/1531952916/model.ckpt.\n",
            "INFO:tensorflow:loss = 0.7666167, step = 4508\n",
            "INFO:tensorflow:global_step/sec: 11.2598\n",
            "INFO:tensorflow:loss = 0.76293063, step = 4608 (8.885 sec)\n",
            "INFO:tensorflow:Saving checkpoints for 4704 into jobs/1531952916/model.ckpt.\n",
            "INFO:tensorflow:Loss for final step: 0.77649844.\n",
            "INFO:tensorflow:Calling model_fn.\n",
            "INFO:tensorflow:Done calling model_fn.\n",
            "INFO:tensorflow:Starting evaluation at 2018-07-18-22:39:04\n",
            "INFO:tensorflow:Graph was finalized.\n",
            "INFO:tensorflow:Restoring parameters from jobs/1531952916/model.ckpt-4704\n",
            "INFO:tensorflow:Running local_init_op.\n",
            "INFO:tensorflow:Done running local_init_op.\n",
            "INFO:tensorflow:Evaluation [10/100]\n",
            "INFO:tensorflow:Evaluation [20/100]\n",
            "INFO:tensorflow:Evaluation [30/100]\n",
            "INFO:tensorflow:Evaluation [40/100]\n",
            "INFO:tensorflow:Finished evaluation at 2018-07-18-22:39:06\n",
            "INFO:tensorflow:Saving dict for global step 4704: accuracy = 0.7596, global_step = 4704, loss = 0.76321745\n",
            "INFO:tensorflow:Saving 'checkpoint_path' summary for global step 4704: jobs/1531952916/model.ckpt-4704\n",
            "INFO:tensorflow:Calling model_fn.\n",
            "INFO:tensorflow:Done calling model_fn.\n",
            "INFO:tensorflow:Create CheckpointSaverHook.\n",
            "INFO:tensorflow:Graph was finalized.\n",
            "INFO:tensorflow:Restoring parameters from jobs/1531952916/model.ckpt-4704\n",
            "INFO:tensorflow:Running local_init_op.\n",
            "INFO:tensorflow:Done running local_init_op.\n",
            "INFO:tensorflow:Saving checkpoints for 4704 into jobs/1531952916/model.ckpt.\n",
            "INFO:tensorflow:loss = 0.76077443, step = 4704\n"
          ],
          "name": "stdout"
        },
        {
          "output_type": "stream",
          "text": [
            "INFO:tensorflow:global_step/sec: 11.377\n",
            "INFO:tensorflow:loss = 0.67542446, step = 4804 (8.800 sec)\n",
            "INFO:tensorflow:Saving checkpoints for 4900 into jobs/1531952916/model.ckpt.\n",
            "INFO:tensorflow:Loss for final step: 0.66576976.\n",
            "INFO:tensorflow:Calling model_fn.\n",
            "INFO:tensorflow:Done calling model_fn.\n",
            "INFO:tensorflow:Starting evaluation at 2018-07-18-22:39:30\n",
            "INFO:tensorflow:Graph was finalized.\n",
            "INFO:tensorflow:Restoring parameters from jobs/1531952916/model.ckpt-4900\n",
            "INFO:tensorflow:Running local_init_op.\n",
            "INFO:tensorflow:Done running local_init_op.\n",
            "INFO:tensorflow:Evaluation [10/100]\n",
            "INFO:tensorflow:Evaluation [20/100]\n",
            "INFO:tensorflow:Evaluation [30/100]\n",
            "INFO:tensorflow:Evaluation [40/100]\n",
            "INFO:tensorflow:Finished evaluation at 2018-07-18-22:39:32\n",
            "INFO:tensorflow:Saving dict for global step 4900: accuracy = 0.7682, global_step = 4900, loss = 0.74170864\n",
            "INFO:tensorflow:Saving 'checkpoint_path' summary for global step 4900: jobs/1531952916/model.ckpt-4900\n",
            "INFO:tensorflow:Calling model_fn.\n",
            "INFO:tensorflow:Done calling model_fn.\n",
            "INFO:tensorflow:Create CheckpointSaverHook.\n",
            "INFO:tensorflow:Graph was finalized.\n",
            "INFO:tensorflow:Restoring parameters from jobs/1531952916/model.ckpt-4900\n",
            "INFO:tensorflow:Running local_init_op.\n",
            "INFO:tensorflow:Done running local_init_op.\n",
            "INFO:tensorflow:Saving checkpoints for 4900 into jobs/1531952916/model.ckpt.\n",
            "INFO:tensorflow:loss = 0.6667714, step = 4900\n",
            "INFO:tensorflow:global_step/sec: 11.2436\n",
            "INFO:tensorflow:loss = 0.6580727, step = 5000 (8.902 sec)\n",
            "INFO:tensorflow:Saving checkpoints for 5096 into jobs/1531952916/model.ckpt.\n",
            "INFO:tensorflow:Loss for final step: 0.49480826.\n",
            "INFO:tensorflow:Calling model_fn.\n",
            "INFO:tensorflow:Done calling model_fn.\n",
            "INFO:tensorflow:Starting evaluation at 2018-07-18-22:39:56\n",
            "INFO:tensorflow:Graph was finalized.\n",
            "INFO:tensorflow:Restoring parameters from jobs/1531952916/model.ckpt-5096\n",
            "INFO:tensorflow:Running local_init_op.\n",
            "INFO:tensorflow:Done running local_init_op.\n",
            "INFO:tensorflow:Evaluation [10/100]\n",
            "INFO:tensorflow:Evaluation [20/100]\n",
            "INFO:tensorflow:Evaluation [30/100]\n",
            "INFO:tensorflow:Evaluation [40/100]\n",
            "INFO:tensorflow:Finished evaluation at 2018-07-18-22:39:58\n",
            "INFO:tensorflow:Saving dict for global step 5096: accuracy = 0.7617, global_step = 5096, loss = 0.7556547\n",
            "INFO:tensorflow:Saving 'checkpoint_path' summary for global step 5096: jobs/1531952916/model.ckpt-5096\n",
            "INFO:tensorflow:Calling model_fn.\n",
            "INFO:tensorflow:Done calling model_fn.\n",
            "INFO:tensorflow:Create CheckpointSaverHook.\n",
            "INFO:tensorflow:Graph was finalized.\n",
            "INFO:tensorflow:Restoring parameters from jobs/1531952916/model.ckpt-5096\n",
            "INFO:tensorflow:Running local_init_op.\n",
            "INFO:tensorflow:Done running local_init_op.\n",
            "INFO:tensorflow:Saving checkpoints for 5096 into jobs/1531952916/model.ckpt.\n",
            "INFO:tensorflow:loss = 0.7001108, step = 5096\n",
            "INFO:tensorflow:global_step/sec: 11.2269\n",
            "INFO:tensorflow:loss = 0.7415611, step = 5196 (8.911 sec)\n",
            "INFO:tensorflow:Saving checkpoints for 5292 into jobs/1531952916/model.ckpt.\n",
            "INFO:tensorflow:Loss for final step: 0.575736.\n",
            "INFO:tensorflow:Calling model_fn.\n",
            "INFO:tensorflow:Done calling model_fn.\n",
            "INFO:tensorflow:Starting evaluation at 2018-07-18-22:40:22\n"
          ],
          "name": "stdout"
        },
        {
          "output_type": "stream",
          "text": [
            "INFO:tensorflow:Graph was finalized.\n",
            "INFO:tensorflow:Restoring parameters from jobs/1531952916/model.ckpt-5292\n",
            "INFO:tensorflow:Running local_init_op.\n",
            "INFO:tensorflow:Done running local_init_op.\n",
            "INFO:tensorflow:Evaluation [10/100]\n",
            "INFO:tensorflow:Evaluation [20/100]\n",
            "INFO:tensorflow:Evaluation [30/100]\n",
            "INFO:tensorflow:Evaluation [40/100]\n",
            "INFO:tensorflow:Finished evaluation at 2018-07-18-22:40:25\n",
            "INFO:tensorflow:Saving dict for global step 5292: accuracy = 0.7619, global_step = 5292, loss = 0.7607501\n",
            "INFO:tensorflow:Saving 'checkpoint_path' summary for global step 5292: jobs/1531952916/model.ckpt-5292\n",
            "INFO:tensorflow:Calling model_fn.\n",
            "INFO:tensorflow:Done calling model_fn.\n",
            "INFO:tensorflow:Create CheckpointSaverHook.\n",
            "INFO:tensorflow:Graph was finalized.\n",
            "INFO:tensorflow:Restoring parameters from jobs/1531952916/model.ckpt-5292\n",
            "INFO:tensorflow:Running local_init_op.\n",
            "INFO:tensorflow:Done running local_init_op.\n",
            "INFO:tensorflow:Saving checkpoints for 5292 into jobs/1531952916/model.ckpt.\n",
            "INFO:tensorflow:loss = 0.8782901, step = 5292\n",
            "INFO:tensorflow:global_step/sec: 11.2836\n",
            "INFO:tensorflow:loss = 0.699166, step = 5392 (8.872 sec)\n",
            "INFO:tensorflow:Saving checkpoints for 5488 into jobs/1531952916/model.ckpt.\n",
            "INFO:tensorflow:Loss for final step: 0.7202938.\n",
            "INFO:tensorflow:Calling model_fn.\n",
            "INFO:tensorflow:Done calling model_fn.\n",
            "INFO:tensorflow:Starting evaluation at 2018-07-18-22:40:48\n",
            "INFO:tensorflow:Graph was finalized.\n",
            "INFO:tensorflow:Restoring parameters from jobs/1531952916/model.ckpt-5488\n",
            "INFO:tensorflow:Running local_init_op.\n",
            "INFO:tensorflow:Done running local_init_op.\n",
            "INFO:tensorflow:Evaluation [10/100]\n",
            "INFO:tensorflow:Evaluation [20/100]\n",
            "INFO:tensorflow:Evaluation [30/100]\n",
            "INFO:tensorflow:Evaluation [40/100]\n",
            "INFO:tensorflow:Finished evaluation at 2018-07-18-22:40:51\n",
            "INFO:tensorflow:Saving dict for global step 5488: accuracy = 0.7638, global_step = 5488, loss = 0.751526\n",
            "INFO:tensorflow:Saving 'checkpoint_path' summary for global step 5488: jobs/1531952916/model.ckpt-5488\n",
            "INFO:tensorflow:Calling model_fn.\n",
            "INFO:tensorflow:Done calling model_fn.\n",
            "INFO:tensorflow:Create CheckpointSaverHook.\n",
            "INFO:tensorflow:Graph was finalized.\n",
            "INFO:tensorflow:Restoring parameters from jobs/1531952916/model.ckpt-5488\n",
            "INFO:tensorflow:Running local_init_op.\n",
            "INFO:tensorflow:Done running local_init_op.\n",
            "INFO:tensorflow:Saving checkpoints for 5488 into jobs/1531952916/model.ckpt.\n",
            "INFO:tensorflow:loss = 0.65738666, step = 5488\n",
            "INFO:tensorflow:global_step/sec: 11.3027\n",
            "INFO:tensorflow:loss = 0.66434574, step = 5588 (8.857 sec)\n",
            "INFO:tensorflow:Saving checkpoints for 5684 into jobs/1531952916/model.ckpt.\n",
            "INFO:tensorflow:Loss for final step: 0.71894705.\n",
            "INFO:tensorflow:Calling model_fn.\n",
            "INFO:tensorflow:Done calling model_fn.\n",
            "INFO:tensorflow:Starting evaluation at 2018-07-18-22:41:15\n",
            "INFO:tensorflow:Graph was finalized.\n",
            "INFO:tensorflow:Restoring parameters from jobs/1531952916/model.ckpt-5684\n",
            "INFO:tensorflow:Running local_init_op.\n",
            "INFO:tensorflow:Done running local_init_op.\n",
            "INFO:tensorflow:Evaluation [10/100]\n",
            "INFO:tensorflow:Evaluation [20/100]\n",
            "INFO:tensorflow:Evaluation [30/100]\n"
          ],
          "name": "stdout"
        },
        {
          "output_type": "stream",
          "text": [
            "INFO:tensorflow:Evaluation [40/100]\n",
            "INFO:tensorflow:Finished evaluation at 2018-07-18-22:41:17\n",
            "INFO:tensorflow:Saving dict for global step 5684: accuracy = 0.7613, global_step = 5684, loss = 0.7622845\n",
            "INFO:tensorflow:Saving 'checkpoint_path' summary for global step 5684: jobs/1531952916/model.ckpt-5684\n",
            "INFO:tensorflow:Calling model_fn.\n",
            "INFO:tensorflow:Done calling model_fn.\n",
            "INFO:tensorflow:Create CheckpointSaverHook.\n",
            "INFO:tensorflow:Graph was finalized.\n",
            "INFO:tensorflow:Restoring parameters from jobs/1531952916/model.ckpt-5684\n",
            "INFO:tensorflow:Running local_init_op.\n",
            "INFO:tensorflow:Done running local_init_op.\n",
            "INFO:tensorflow:Saving checkpoints for 5684 into jobs/1531952916/model.ckpt.\n",
            "INFO:tensorflow:loss = 0.6320765, step = 5684\n",
            "INFO:tensorflow:global_step/sec: 11.2459\n",
            "INFO:tensorflow:loss = 0.6329513, step = 5784 (8.900 sec)\n",
            "INFO:tensorflow:Saving checkpoints for 5880 into jobs/1531952916/model.ckpt.\n",
            "INFO:tensorflow:Loss for final step: 0.6165414.\n",
            "INFO:tensorflow:Calling model_fn.\n",
            "INFO:tensorflow:Done calling model_fn.\n",
            "INFO:tensorflow:Starting evaluation at 2018-07-18-22:41:41\n",
            "INFO:tensorflow:Graph was finalized.\n",
            "INFO:tensorflow:Restoring parameters from jobs/1531952916/model.ckpt-5880\n",
            "INFO:tensorflow:Running local_init_op.\n",
            "INFO:tensorflow:Done running local_init_op.\n",
            "INFO:tensorflow:Evaluation [10/100]\n",
            "INFO:tensorflow:Evaluation [20/100]\n",
            "INFO:tensorflow:Evaluation [30/100]\n",
            "INFO:tensorflow:Evaluation [40/100]\n",
            "INFO:tensorflow:Finished evaluation at 2018-07-18-22:41:43\n",
            "INFO:tensorflow:Saving dict for global step 5880: accuracy = 0.7668, global_step = 5880, loss = 0.7388958\n",
            "INFO:tensorflow:Saving 'checkpoint_path' summary for global step 5880: jobs/1531952916/model.ckpt-5880\n",
            "INFO:tensorflow:Calling model_fn.\n",
            "INFO:tensorflow:Done calling model_fn.\n",
            "INFO:tensorflow:Create CheckpointSaverHook.\n",
            "INFO:tensorflow:Graph was finalized.\n",
            "INFO:tensorflow:Restoring parameters from jobs/1531952916/model.ckpt-5880\n",
            "INFO:tensorflow:Running local_init_op.\n",
            "INFO:tensorflow:Done running local_init_op.\n",
            "INFO:tensorflow:Saving checkpoints for 5880 into jobs/1531952916/model.ckpt.\n",
            "INFO:tensorflow:loss = 0.65292215, step = 5880\n",
            "INFO:tensorflow:global_step/sec: 11.3646\n",
            "INFO:tensorflow:loss = 0.62946296, step = 5980 (8.811 sec)\n",
            "INFO:tensorflow:Saving checkpoints for 6076 into jobs/1531952916/model.ckpt.\n",
            "INFO:tensorflow:Loss for final step: 0.82710797.\n",
            "INFO:tensorflow:Calling model_fn.\n",
            "INFO:tensorflow:Done calling model_fn.\n",
            "INFO:tensorflow:Starting evaluation at 2018-07-18-22:42:07\n",
            "INFO:tensorflow:Graph was finalized.\n",
            "INFO:tensorflow:Restoring parameters from jobs/1531952916/model.ckpt-6076\n",
            "INFO:tensorflow:Running local_init_op.\n",
            "INFO:tensorflow:Done running local_init_op.\n",
            "INFO:tensorflow:Evaluation [10/100]\n",
            "INFO:tensorflow:Evaluation [20/100]\n",
            "INFO:tensorflow:Evaluation [30/100]\n",
            "INFO:tensorflow:Evaluation [40/100]\n",
            "INFO:tensorflow:Finished evaluation at 2018-07-18-22:42:10\n",
            "INFO:tensorflow:Saving dict for global step 6076: accuracy = 0.7682, global_step = 6076, loss = 0.7320436\n",
            "INFO:tensorflow:Saving 'checkpoint_path' summary for global step 6076: jobs/1531952916/model.ckpt-6076\n",
            "INFO:tensorflow:Calling model_fn.\n",
            "INFO:tensorflow:Done calling model_fn.\n"
          ],
          "name": "stdout"
        },
        {
          "output_type": "stream",
          "text": [
            "INFO:tensorflow:Create CheckpointSaverHook.\n",
            "INFO:tensorflow:Graph was finalized.\n",
            "INFO:tensorflow:Restoring parameters from jobs/1531952916/model.ckpt-6076\n",
            "INFO:tensorflow:Running local_init_op.\n",
            "INFO:tensorflow:Done running local_init_op.\n",
            "INFO:tensorflow:Saving checkpoints for 6076 into jobs/1531952916/model.ckpt.\n",
            "INFO:tensorflow:loss = 0.71315354, step = 6076\n",
            "INFO:tensorflow:global_step/sec: 11.2546\n",
            "INFO:tensorflow:loss = 0.75931525, step = 6176 (8.896 sec)\n",
            "INFO:tensorflow:Saving checkpoints for 6272 into jobs/1531952916/model.ckpt.\n",
            "INFO:tensorflow:Loss for final step: 0.8739346.\n",
            "INFO:tensorflow:Calling model_fn.\n",
            "INFO:tensorflow:Done calling model_fn.\n",
            "INFO:tensorflow:Starting evaluation at 2018-07-18-22:42:34\n",
            "INFO:tensorflow:Graph was finalized.\n",
            "INFO:tensorflow:Restoring parameters from jobs/1531952916/model.ckpt-6272\n",
            "INFO:tensorflow:Running local_init_op.\n",
            "INFO:tensorflow:Done running local_init_op.\n",
            "INFO:tensorflow:Evaluation [10/100]\n",
            "INFO:tensorflow:Evaluation [20/100]\n",
            "INFO:tensorflow:Evaluation [30/100]\n",
            "INFO:tensorflow:Evaluation [40/100]\n",
            "INFO:tensorflow:Finished evaluation at 2018-07-18-22:42:36\n",
            "INFO:tensorflow:Saving dict for global step 6272: accuracy = 0.7643, global_step = 6272, loss = 0.7580651\n",
            "INFO:tensorflow:Saving 'checkpoint_path' summary for global step 6272: jobs/1531952916/model.ckpt-6272\n",
            "INFO:tensorflow:Calling model_fn.\n",
            "INFO:tensorflow:Done calling model_fn.\n",
            "INFO:tensorflow:Create CheckpointSaverHook.\n",
            "INFO:tensorflow:Graph was finalized.\n",
            "INFO:tensorflow:Restoring parameters from jobs/1531952916/model.ckpt-6272\n",
            "INFO:tensorflow:Running local_init_op.\n",
            "INFO:tensorflow:Done running local_init_op.\n",
            "INFO:tensorflow:Saving checkpoints for 6272 into jobs/1531952916/model.ckpt.\n",
            "INFO:tensorflow:loss = 0.71093273, step = 6272\n",
            "INFO:tensorflow:global_step/sec: 11.324\n",
            "INFO:tensorflow:loss = 0.58646804, step = 6372 (8.844 sec)\n",
            "INFO:tensorflow:Saving checkpoints for 6468 into jobs/1531952916/model.ckpt.\n",
            "INFO:tensorflow:Loss for final step: 0.77834177.\n",
            "INFO:tensorflow:Calling model_fn.\n",
            "INFO:tensorflow:Done calling model_fn.\n",
            "INFO:tensorflow:Starting evaluation at 2018-07-18-22:43:00\n",
            "INFO:tensorflow:Graph was finalized.\n",
            "INFO:tensorflow:Restoring parameters from jobs/1531952916/model.ckpt-6468\n",
            "INFO:tensorflow:Running local_init_op.\n",
            "INFO:tensorflow:Done running local_init_op.\n",
            "INFO:tensorflow:Evaluation [10/100]\n",
            "INFO:tensorflow:Evaluation [20/100]\n",
            "INFO:tensorflow:Evaluation [30/100]\n",
            "INFO:tensorflow:Evaluation [40/100]\n",
            "INFO:tensorflow:Finished evaluation at 2018-07-18-22:43:03\n",
            "INFO:tensorflow:Saving dict for global step 6468: accuracy = 0.7721, global_step = 6468, loss = 0.7300981\n",
            "INFO:tensorflow:Saving 'checkpoint_path' summary for global step 6468: jobs/1531952916/model.ckpt-6468\n",
            "INFO:tensorflow:Calling model_fn.\n",
            "INFO:tensorflow:Done calling model_fn.\n",
            "INFO:tensorflow:Create CheckpointSaverHook.\n",
            "INFO:tensorflow:Graph was finalized.\n",
            "INFO:tensorflow:Restoring parameters from jobs/1531952916/model.ckpt-6468\n",
            "INFO:tensorflow:Running local_init_op.\n",
            "INFO:tensorflow:Done running local_init_op.\n",
            "INFO:tensorflow:Saving checkpoints for 6468 into jobs/1531952916/model.ckpt.\n",
            "INFO:tensorflow:loss = 0.6076568, step = 6468\n"
          ],
          "name": "stdout"
        },
        {
          "output_type": "stream",
          "text": [
            "INFO:tensorflow:global_step/sec: 11.3089\n",
            "INFO:tensorflow:loss = 0.73263127, step = 6568 (8.852 sec)\n",
            "INFO:tensorflow:Saving checkpoints for 6664 into jobs/1531952916/model.ckpt.\n",
            "INFO:tensorflow:Loss for final step: 0.9045149.\n",
            "INFO:tensorflow:Calling model_fn.\n",
            "INFO:tensorflow:Done calling model_fn.\n",
            "INFO:tensorflow:Starting evaluation at 2018-07-18-22:43:26\n",
            "INFO:tensorflow:Graph was finalized.\n",
            "INFO:tensorflow:Restoring parameters from jobs/1531952916/model.ckpt-6664\n",
            "INFO:tensorflow:Running local_init_op.\n",
            "INFO:tensorflow:Done running local_init_op.\n",
            "INFO:tensorflow:Evaluation [10/100]\n",
            "INFO:tensorflow:Evaluation [20/100]\n",
            "INFO:tensorflow:Evaluation [30/100]\n",
            "INFO:tensorflow:Evaluation [40/100]\n",
            "INFO:tensorflow:Finished evaluation at 2018-07-18-22:43:29\n",
            "INFO:tensorflow:Saving dict for global step 6664: accuracy = 0.7686, global_step = 6664, loss = 0.73358506\n",
            "INFO:tensorflow:Saving 'checkpoint_path' summary for global step 6664: jobs/1531952916/model.ckpt-6664\n",
            "INFO:tensorflow:Calling model_fn.\n",
            "INFO:tensorflow:Done calling model_fn.\n",
            "INFO:tensorflow:Create CheckpointSaverHook.\n",
            "INFO:tensorflow:Graph was finalized.\n",
            "INFO:tensorflow:Restoring parameters from jobs/1531952916/model.ckpt-6664\n",
            "INFO:tensorflow:Running local_init_op.\n",
            "INFO:tensorflow:Done running local_init_op.\n",
            "INFO:tensorflow:Saving checkpoints for 6664 into jobs/1531952916/model.ckpt.\n",
            "INFO:tensorflow:loss = 0.6542358, step = 6664\n",
            "INFO:tensorflow:global_step/sec: 11.3008\n",
            "INFO:tensorflow:loss = 0.68739146, step = 6764 (8.859 sec)\n",
            "INFO:tensorflow:Saving checkpoints for 6860 into jobs/1531952916/model.ckpt.\n",
            "INFO:tensorflow:Loss for final step: 0.7286077.\n",
            "INFO:tensorflow:Calling model_fn.\n",
            "INFO:tensorflow:Done calling model_fn.\n",
            "INFO:tensorflow:Starting evaluation at 2018-07-18-22:43:52\n",
            "INFO:tensorflow:Graph was finalized.\n",
            "INFO:tensorflow:Restoring parameters from jobs/1531952916/model.ckpt-6860\n",
            "INFO:tensorflow:Running local_init_op.\n",
            "INFO:tensorflow:Done running local_init_op.\n",
            "INFO:tensorflow:Evaluation [10/100]\n",
            "INFO:tensorflow:Evaluation [20/100]\n",
            "INFO:tensorflow:Evaluation [30/100]\n",
            "INFO:tensorflow:Evaluation [40/100]\n",
            "INFO:tensorflow:Finished evaluation at 2018-07-18-22:43:55\n",
            "INFO:tensorflow:Saving dict for global step 6860: accuracy = 0.7752, global_step = 6860, loss = 0.720822\n",
            "INFO:tensorflow:Saving 'checkpoint_path' summary for global step 6860: jobs/1531952916/model.ckpt-6860\n",
            "INFO:tensorflow:Calling model_fn.\n",
            "INFO:tensorflow:Done calling model_fn.\n",
            "INFO:tensorflow:Create CheckpointSaverHook.\n",
            "INFO:tensorflow:Graph was finalized.\n",
            "INFO:tensorflow:Restoring parameters from jobs/1531952916/model.ckpt-6860\n",
            "INFO:tensorflow:Running local_init_op.\n",
            "INFO:tensorflow:Done running local_init_op.\n",
            "INFO:tensorflow:Saving checkpoints for 6860 into jobs/1531952916/model.ckpt.\n",
            "INFO:tensorflow:loss = 0.7054318, step = 6860\n",
            "INFO:tensorflow:global_step/sec: 11.2111\n",
            "INFO:tensorflow:loss = 0.6499827, step = 6960 (8.923 sec)\n",
            "INFO:tensorflow:Saving checkpoints for 7056 into jobs/1531952916/model.ckpt.\n",
            "INFO:tensorflow:Loss for final step: 0.5435903.\n",
            "INFO:tensorflow:Calling model_fn.\n",
            "INFO:tensorflow:Done calling model_fn.\n",
            "INFO:tensorflow:Starting evaluation at 2018-07-18-22:44:18\n"
          ],
          "name": "stdout"
        },
        {
          "output_type": "stream",
          "text": [
            "INFO:tensorflow:Graph was finalized.\n",
            "INFO:tensorflow:Restoring parameters from jobs/1531952916/model.ckpt-7056\n",
            "INFO:tensorflow:Running local_init_op.\n",
            "INFO:tensorflow:Done running local_init_op.\n",
            "INFO:tensorflow:Evaluation [10/100]\n",
            "INFO:tensorflow:Evaluation [20/100]\n",
            "INFO:tensorflow:Evaluation [30/100]\n",
            "INFO:tensorflow:Evaluation [40/100]\n",
            "INFO:tensorflow:Finished evaluation at 2018-07-18-22:44:21\n",
            "INFO:tensorflow:Saving dict for global step 7056: accuracy = 0.7744, global_step = 7056, loss = 0.71964824\n",
            "INFO:tensorflow:Saving 'checkpoint_path' summary for global step 7056: jobs/1531952916/model.ckpt-7056\n",
            "INFO:tensorflow:Calling model_fn.\n",
            "INFO:tensorflow:Done calling model_fn.\n",
            "INFO:tensorflow:Create CheckpointSaverHook.\n",
            "INFO:tensorflow:Graph was finalized.\n",
            "INFO:tensorflow:Restoring parameters from jobs/1531952916/model.ckpt-7056\n",
            "INFO:tensorflow:Running local_init_op.\n",
            "INFO:tensorflow:Done running local_init_op.\n",
            "INFO:tensorflow:Saving checkpoints for 7056 into jobs/1531952916/model.ckpt.\n",
            "INFO:tensorflow:loss = 0.60164243, step = 7056\n",
            "INFO:tensorflow:global_step/sec: 11.4623\n",
            "INFO:tensorflow:loss = 0.7527237, step = 7156 (8.732 sec)\n",
            "INFO:tensorflow:Saving checkpoints for 7252 into jobs/1531952916/model.ckpt.\n",
            "INFO:tensorflow:Loss for final step: 0.74351424.\n",
            "INFO:tensorflow:Calling model_fn.\n",
            "INFO:tensorflow:Done calling model_fn.\n",
            "INFO:tensorflow:Starting evaluation at 2018-07-18-22:44:45\n",
            "INFO:tensorflow:Graph was finalized.\n",
            "INFO:tensorflow:Restoring parameters from jobs/1531952916/model.ckpt-7252\n",
            "INFO:tensorflow:Running local_init_op.\n",
            "INFO:tensorflow:Done running local_init_op.\n",
            "INFO:tensorflow:Evaluation [10/100]\n",
            "INFO:tensorflow:Evaluation [20/100]\n",
            "INFO:tensorflow:Evaluation [30/100]\n",
            "INFO:tensorflow:Evaluation [40/100]\n",
            "INFO:tensorflow:Finished evaluation at 2018-07-18-22:44:47\n",
            "INFO:tensorflow:Saving dict for global step 7252: accuracy = 0.7744, global_step = 7252, loss = 0.72092867\n",
            "INFO:tensorflow:Saving 'checkpoint_path' summary for global step 7252: jobs/1531952916/model.ckpt-7252\n",
            "INFO:tensorflow:Calling model_fn.\n",
            "INFO:tensorflow:Done calling model_fn.\n",
            "INFO:tensorflow:Create CheckpointSaverHook.\n",
            "INFO:tensorflow:Graph was finalized.\n",
            "INFO:tensorflow:Restoring parameters from jobs/1531952916/model.ckpt-7252\n",
            "INFO:tensorflow:Running local_init_op.\n",
            "INFO:tensorflow:Done running local_init_op.\n",
            "INFO:tensorflow:Saving checkpoints for 7252 into jobs/1531952916/model.ckpt.\n",
            "INFO:tensorflow:loss = 0.71814114, step = 7252\n",
            "INFO:tensorflow:global_step/sec: 11.3177\n",
            "INFO:tensorflow:loss = 0.61679566, step = 7352 (8.843 sec)\n",
            "INFO:tensorflow:Saving checkpoints for 7448 into jobs/1531952916/model.ckpt.\n",
            "INFO:tensorflow:Loss for final step: 0.64144266.\n",
            "INFO:tensorflow:Calling model_fn.\n",
            "INFO:tensorflow:Done calling model_fn.\n",
            "INFO:tensorflow:Starting evaluation at 2018-07-18-22:45:11\n",
            "INFO:tensorflow:Graph was finalized.\n",
            "INFO:tensorflow:Restoring parameters from jobs/1531952916/model.ckpt-7448\n",
            "INFO:tensorflow:Running local_init_op.\n",
            "INFO:tensorflow:Done running local_init_op.\n",
            "INFO:tensorflow:Evaluation [10/100]\n",
            "INFO:tensorflow:Evaluation [20/100]\n",
            "INFO:tensorflow:Evaluation [30/100]\n"
          ],
          "name": "stdout"
        },
        {
          "output_type": "stream",
          "text": [
            "INFO:tensorflow:Evaluation [40/100]\n",
            "INFO:tensorflow:Finished evaluation at 2018-07-18-22:45:13\n",
            "INFO:tensorflow:Saving dict for global step 7448: accuracy = 0.7757, global_step = 7448, loss = 0.7188652\n",
            "INFO:tensorflow:Saving 'checkpoint_path' summary for global step 7448: jobs/1531952916/model.ckpt-7448\n",
            "INFO:tensorflow:Calling model_fn.\n",
            "INFO:tensorflow:Done calling model_fn.\n",
            "INFO:tensorflow:Create CheckpointSaverHook.\n",
            "INFO:tensorflow:Graph was finalized.\n",
            "INFO:tensorflow:Restoring parameters from jobs/1531952916/model.ckpt-7448\n",
            "INFO:tensorflow:Running local_init_op.\n",
            "INFO:tensorflow:Done running local_init_op.\n",
            "INFO:tensorflow:Saving checkpoints for 7448 into jobs/1531952916/model.ckpt.\n",
            "INFO:tensorflow:loss = 0.60641044, step = 7448\n",
            "INFO:tensorflow:global_step/sec: 11.3303\n",
            "INFO:tensorflow:loss = 0.6246575, step = 7548 (8.835 sec)\n",
            "INFO:tensorflow:Saving checkpoints for 7644 into jobs/1531952916/model.ckpt.\n",
            "INFO:tensorflow:Loss for final step: 0.73035544.\n",
            "INFO:tensorflow:Calling model_fn.\n",
            "INFO:tensorflow:Done calling model_fn.\n",
            "INFO:tensorflow:Starting evaluation at 2018-07-18-22:45:37\n",
            "INFO:tensorflow:Graph was finalized.\n",
            "INFO:tensorflow:Restoring parameters from jobs/1531952916/model.ckpt-7644\n",
            "INFO:tensorflow:Running local_init_op.\n",
            "INFO:tensorflow:Done running local_init_op.\n",
            "INFO:tensorflow:Evaluation [10/100]\n",
            "INFO:tensorflow:Evaluation [20/100]\n",
            "INFO:tensorflow:Evaluation [30/100]\n",
            "INFO:tensorflow:Evaluation [40/100]\n",
            "INFO:tensorflow:Finished evaluation at 2018-07-18-22:45:39\n",
            "INFO:tensorflow:Saving dict for global step 7644: accuracy = 0.776, global_step = 7644, loss = 0.71858835\n",
            "INFO:tensorflow:Saving 'checkpoint_path' summary for global step 7644: jobs/1531952916/model.ckpt-7644\n",
            "INFO:tensorflow:Calling model_fn.\n",
            "INFO:tensorflow:Done calling model_fn.\n",
            "INFO:tensorflow:Create CheckpointSaverHook.\n",
            "INFO:tensorflow:Graph was finalized.\n",
            "INFO:tensorflow:Restoring parameters from jobs/1531952916/model.ckpt-7644\n",
            "INFO:tensorflow:Running local_init_op.\n",
            "INFO:tensorflow:Done running local_init_op.\n",
            "INFO:tensorflow:Saving checkpoints for 7644 into jobs/1531952916/model.ckpt.\n",
            "INFO:tensorflow:loss = 0.6091725, step = 7644\n",
            "INFO:tensorflow:global_step/sec: 11.345\n",
            "INFO:tensorflow:loss = 0.6023042, step = 7744 (8.820 sec)\n",
            "INFO:tensorflow:Saving checkpoints for 7840 into jobs/1531952916/model.ckpt.\n",
            "INFO:tensorflow:Loss for final step: 0.74186945.\n",
            "INFO:tensorflow:Calling model_fn.\n",
            "INFO:tensorflow:Done calling model_fn.\n",
            "INFO:tensorflow:Starting evaluation at 2018-07-18-22:46:03\n",
            "INFO:tensorflow:Graph was finalized.\n",
            "INFO:tensorflow:Restoring parameters from jobs/1531952916/model.ckpt-7840\n",
            "INFO:tensorflow:Running local_init_op.\n",
            "INFO:tensorflow:Done running local_init_op.\n",
            "INFO:tensorflow:Evaluation [10/100]\n",
            "INFO:tensorflow:Evaluation [20/100]\n",
            "INFO:tensorflow:Evaluation [30/100]\n",
            "INFO:tensorflow:Evaluation [40/100]\n",
            "INFO:tensorflow:Finished evaluation at 2018-07-18-22:46:05\n",
            "INFO:tensorflow:Saving dict for global step 7840: accuracy = 0.7748, global_step = 7840, loss = 0.7185103\n",
            "INFO:tensorflow:Saving 'checkpoint_path' summary for global step 7840: jobs/1531952916/model.ckpt-7840\n",
            "INFO:tensorflow:Calling model_fn.\n",
            "INFO:tensorflow:Done calling model_fn.\n"
          ],
          "name": "stdout"
        },
        {
          "output_type": "stream",
          "text": [
            "INFO:tensorflow:Create CheckpointSaverHook.\n",
            "INFO:tensorflow:Graph was finalized.\n",
            "INFO:tensorflow:Restoring parameters from jobs/1531952916/model.ckpt-7840\n",
            "INFO:tensorflow:Running local_init_op.\n",
            "INFO:tensorflow:Done running local_init_op.\n",
            "INFO:tensorflow:Saving checkpoints for 7840 into jobs/1531952916/model.ckpt.\n",
            "INFO:tensorflow:loss = 0.7322754, step = 7840\n",
            "INFO:tensorflow:global_step/sec: 11.5076\n",
            "INFO:tensorflow:loss = 0.5744172, step = 7940 (8.698 sec)\n",
            "INFO:tensorflow:Saving checkpoints for 8036 into jobs/1531952916/model.ckpt.\n",
            "INFO:tensorflow:Loss for final step: 0.6006839.\n",
            "INFO:tensorflow:Calling model_fn.\n",
            "INFO:tensorflow:Done calling model_fn.\n",
            "INFO:tensorflow:Starting evaluation at 2018-07-18-22:46:29\n",
            "INFO:tensorflow:Graph was finalized.\n",
            "INFO:tensorflow:Restoring parameters from jobs/1531952916/model.ckpt-8036\n",
            "INFO:tensorflow:Running local_init_op.\n",
            "INFO:tensorflow:Done running local_init_op.\n",
            "INFO:tensorflow:Evaluation [10/100]\n",
            "INFO:tensorflow:Evaluation [20/100]\n",
            "INFO:tensorflow:Evaluation [30/100]\n",
            "INFO:tensorflow:Evaluation [40/100]\n",
            "INFO:tensorflow:Finished evaluation at 2018-07-18-22:46:31\n",
            "INFO:tensorflow:Saving dict for global step 8036: accuracy = 0.7753, global_step = 8036, loss = 0.71818984\n",
            "INFO:tensorflow:Saving 'checkpoint_path' summary for global step 8036: jobs/1531952916/model.ckpt-8036\n",
            "INFO:tensorflow:Calling model_fn.\n",
            "INFO:tensorflow:Done calling model_fn.\n",
            "INFO:tensorflow:Create CheckpointSaverHook.\n",
            "INFO:tensorflow:Graph was finalized.\n",
            "INFO:tensorflow:Restoring parameters from jobs/1531952916/model.ckpt-8036\n",
            "INFO:tensorflow:Running local_init_op.\n",
            "INFO:tensorflow:Done running local_init_op.\n",
            "INFO:tensorflow:Saving checkpoints for 8036 into jobs/1531952916/model.ckpt.\n",
            "INFO:tensorflow:loss = 0.71481156, step = 8036\n",
            "INFO:tensorflow:global_step/sec: 11.4033\n",
            "INFO:tensorflow:loss = 0.64786875, step = 8136 (8.780 sec)\n",
            "INFO:tensorflow:Saving checkpoints for 8232 into jobs/1531952916/model.ckpt.\n",
            "INFO:tensorflow:Loss for final step: 0.72856206.\n",
            "INFO:tensorflow:Calling model_fn.\n",
            "INFO:tensorflow:Done calling model_fn.\n",
            "INFO:tensorflow:Starting evaluation at 2018-07-18-22:46:55\n",
            "INFO:tensorflow:Graph was finalized.\n",
            "INFO:tensorflow:Restoring parameters from jobs/1531952916/model.ckpt-8232\n",
            "INFO:tensorflow:Running local_init_op.\n",
            "INFO:tensorflow:Done running local_init_op.\n",
            "INFO:tensorflow:Evaluation [10/100]\n",
            "INFO:tensorflow:Evaluation [20/100]\n",
            "INFO:tensorflow:Evaluation [30/100]\n",
            "INFO:tensorflow:Evaluation [40/100]\n",
            "INFO:tensorflow:Finished evaluation at 2018-07-18-22:46:57\n",
            "INFO:tensorflow:Saving dict for global step 8232: accuracy = 0.7761, global_step = 8232, loss = 0.7175159\n",
            "INFO:tensorflow:Saving 'checkpoint_path' summary for global step 8232: jobs/1531952916/model.ckpt-8232\n",
            "INFO:tensorflow:Calling model_fn.\n",
            "INFO:tensorflow:Done calling model_fn.\n",
            "INFO:tensorflow:Create CheckpointSaverHook.\n",
            "INFO:tensorflow:Graph was finalized.\n",
            "INFO:tensorflow:Restoring parameters from jobs/1531952916/model.ckpt-8232\n",
            "INFO:tensorflow:Running local_init_op.\n",
            "INFO:tensorflow:Done running local_init_op.\n",
            "INFO:tensorflow:Saving checkpoints for 8232 into jobs/1531952916/model.ckpt.\n",
            "INFO:tensorflow:loss = 0.6018759, step = 8232\n"
          ],
          "name": "stdout"
        },
        {
          "output_type": "stream",
          "text": [
            "INFO:tensorflow:global_step/sec: 11.5032\n",
            "INFO:tensorflow:loss = 0.66978884, step = 8332 (8.696 sec)\n",
            "INFO:tensorflow:Saving checkpoints for 8428 into jobs/1531952916/model.ckpt.\n",
            "INFO:tensorflow:Loss for final step: 0.85994166.\n",
            "INFO:tensorflow:Calling model_fn.\n",
            "INFO:tensorflow:Done calling model_fn.\n",
            "INFO:tensorflow:Starting evaluation at 2018-07-18-22:47:21\n",
            "INFO:tensorflow:Graph was finalized.\n",
            "INFO:tensorflow:Restoring parameters from jobs/1531952916/model.ckpt-8428\n",
            "INFO:tensorflow:Running local_init_op.\n",
            "INFO:tensorflow:Done running local_init_op.\n",
            "INFO:tensorflow:Evaluation [10/100]\n",
            "INFO:tensorflow:Evaluation [20/100]\n",
            "INFO:tensorflow:Evaluation [30/100]\n",
            "INFO:tensorflow:Evaluation [40/100]\n",
            "INFO:tensorflow:Finished evaluation at 2018-07-18-22:47:23\n",
            "INFO:tensorflow:Saving dict for global step 8428: accuracy = 0.775, global_step = 8428, loss = 0.71872616\n",
            "INFO:tensorflow:Saving 'checkpoint_path' summary for global step 8428: jobs/1531952916/model.ckpt-8428\n",
            "INFO:tensorflow:Calling model_fn.\n",
            "INFO:tensorflow:Done calling model_fn.\n",
            "INFO:tensorflow:Create CheckpointSaverHook.\n",
            "INFO:tensorflow:Graph was finalized.\n",
            "INFO:tensorflow:Restoring parameters from jobs/1531952916/model.ckpt-8428\n",
            "INFO:tensorflow:Running local_init_op.\n",
            "INFO:tensorflow:Done running local_init_op.\n",
            "INFO:tensorflow:Saving checkpoints for 8428 into jobs/1531952916/model.ckpt.\n",
            "INFO:tensorflow:loss = 0.6198184, step = 8428\n",
            "INFO:tensorflow:global_step/sec: 11.317\n",
            "INFO:tensorflow:loss = 0.6748287, step = 8528 (8.845 sec)\n",
            "INFO:tensorflow:Saving checkpoints for 8624 into jobs/1531952916/model.ckpt.\n",
            "INFO:tensorflow:Loss for final step: 0.73772365.\n",
            "INFO:tensorflow:Calling model_fn.\n",
            "INFO:tensorflow:Done calling model_fn.\n",
            "INFO:tensorflow:Starting evaluation at 2018-07-18-22:47:47\n",
            "INFO:tensorflow:Graph was finalized.\n",
            "INFO:tensorflow:Restoring parameters from jobs/1531952916/model.ckpt-8624\n",
            "INFO:tensorflow:Running local_init_op.\n",
            "INFO:tensorflow:Done running local_init_op.\n",
            "INFO:tensorflow:Evaluation [10/100]\n",
            "INFO:tensorflow:Evaluation [20/100]\n",
            "INFO:tensorflow:Evaluation [30/100]\n",
            "INFO:tensorflow:Evaluation [40/100]\n",
            "INFO:tensorflow:Finished evaluation at 2018-07-18-22:47:49\n",
            "INFO:tensorflow:Saving dict for global step 8624: accuracy = 0.7743, global_step = 8624, loss = 0.71721274\n",
            "INFO:tensorflow:Saving 'checkpoint_path' summary for global step 8624: jobs/1531952916/model.ckpt-8624\n",
            "INFO:tensorflow:Calling model_fn.\n",
            "INFO:tensorflow:Done calling model_fn.\n",
            "INFO:tensorflow:Create CheckpointSaverHook.\n",
            "INFO:tensorflow:Graph was finalized.\n",
            "INFO:tensorflow:Restoring parameters from jobs/1531952916/model.ckpt-8624\n",
            "INFO:tensorflow:Running local_init_op.\n",
            "INFO:tensorflow:Done running local_init_op.\n",
            "INFO:tensorflow:Saving checkpoints for 8624 into jobs/1531952916/model.ckpt.\n",
            "INFO:tensorflow:loss = 0.751155, step = 8624\n",
            "INFO:tensorflow:global_step/sec: 11.4255\n",
            "INFO:tensorflow:loss = 0.7599427, step = 8724 (8.755 sec)\n",
            "INFO:tensorflow:Saving checkpoints for 8820 into jobs/1531952916/model.ckpt.\n",
            "INFO:tensorflow:Loss for final step: 0.80686605.\n",
            "INFO:tensorflow:Calling model_fn.\n",
            "INFO:tensorflow:Done calling model_fn.\n",
            "INFO:tensorflow:Starting evaluation at 2018-07-18-22:48:13\n"
          ],
          "name": "stdout"
        },
        {
          "output_type": "stream",
          "text": [
            "INFO:tensorflow:Graph was finalized.\n",
            "INFO:tensorflow:Restoring parameters from jobs/1531952916/model.ckpt-8820\n",
            "INFO:tensorflow:Running local_init_op.\n",
            "INFO:tensorflow:Done running local_init_op.\n",
            "INFO:tensorflow:Evaluation [10/100]\n",
            "INFO:tensorflow:Evaluation [20/100]\n",
            "INFO:tensorflow:Evaluation [30/100]\n",
            "INFO:tensorflow:Evaluation [40/100]\n",
            "INFO:tensorflow:Finished evaluation at 2018-07-18-22:48:16\n",
            "INFO:tensorflow:Saving dict for global step 8820: accuracy = 0.7753, global_step = 8820, loss = 0.71855104\n",
            "INFO:tensorflow:Saving 'checkpoint_path' summary for global step 8820: jobs/1531952916/model.ckpt-8820\n",
            "INFO:tensorflow:Calling model_fn.\n",
            "INFO:tensorflow:Done calling model_fn.\n",
            "INFO:tensorflow:Create CheckpointSaverHook.\n",
            "INFO:tensorflow:Graph was finalized.\n",
            "INFO:tensorflow:Restoring parameters from jobs/1531952916/model.ckpt-8820\n",
            "INFO:tensorflow:Running local_init_op.\n",
            "INFO:tensorflow:Done running local_init_op.\n",
            "INFO:tensorflow:Saving checkpoints for 8820 into jobs/1531952916/model.ckpt.\n",
            "INFO:tensorflow:loss = 0.65172076, step = 8820\n",
            "INFO:tensorflow:global_step/sec: 11.4189\n",
            "INFO:tensorflow:loss = 0.6689043, step = 8920 (8.763 sec)\n",
            "INFO:tensorflow:Saving checkpoints for 9016 into jobs/1531952916/model.ckpt.\n",
            "INFO:tensorflow:Loss for final step: 0.6292126.\n",
            "INFO:tensorflow:Calling model_fn.\n",
            "INFO:tensorflow:Done calling model_fn.\n",
            "INFO:tensorflow:Starting evaluation at 2018-07-18-22:48:39\n",
            "INFO:tensorflow:Graph was finalized.\n",
            "INFO:tensorflow:Restoring parameters from jobs/1531952916/model.ckpt-9016\n",
            "INFO:tensorflow:Running local_init_op.\n",
            "INFO:tensorflow:Done running local_init_op.\n",
            "INFO:tensorflow:Evaluation [10/100]\n",
            "INFO:tensorflow:Evaluation [20/100]\n",
            "INFO:tensorflow:Evaluation [30/100]\n",
            "INFO:tensorflow:Evaluation [40/100]\n",
            "INFO:tensorflow:Finished evaluation at 2018-07-18-22:48:42\n",
            "INFO:tensorflow:Saving dict for global step 9016: accuracy = 0.7758, global_step = 9016, loss = 0.71686506\n",
            "INFO:tensorflow:Saving 'checkpoint_path' summary for global step 9016: jobs/1531952916/model.ckpt-9016\n",
            "INFO:tensorflow:Calling model_fn.\n",
            "INFO:tensorflow:Done calling model_fn.\n",
            "INFO:tensorflow:Create CheckpointSaverHook.\n",
            "INFO:tensorflow:Graph was finalized.\n",
            "INFO:tensorflow:Restoring parameters from jobs/1531952916/model.ckpt-9016\n",
            "INFO:tensorflow:Running local_init_op.\n",
            "INFO:tensorflow:Done running local_init_op.\n",
            "INFO:tensorflow:Saving checkpoints for 9016 into jobs/1531952916/model.ckpt.\n",
            "INFO:tensorflow:loss = 0.68507534, step = 9016\n",
            "INFO:tensorflow:global_step/sec: 11.5701\n",
            "INFO:tensorflow:loss = 0.65485245, step = 9116 (8.649 sec)\n",
            "INFO:tensorflow:Saving checkpoints for 9212 into jobs/1531952916/model.ckpt.\n",
            "INFO:tensorflow:Loss for final step: 0.9812986.\n",
            "INFO:tensorflow:Calling model_fn.\n",
            "INFO:tensorflow:Done calling model_fn.\n",
            "INFO:tensorflow:Starting evaluation at 2018-07-18-22:49:05\n",
            "INFO:tensorflow:Graph was finalized.\n",
            "INFO:tensorflow:Restoring parameters from jobs/1531952916/model.ckpt-9212\n",
            "INFO:tensorflow:Running local_init_op.\n",
            "INFO:tensorflow:Done running local_init_op.\n",
            "INFO:tensorflow:Evaluation [10/100]\n",
            "INFO:tensorflow:Evaluation [20/100]\n",
            "INFO:tensorflow:Evaluation [30/100]\n"
          ],
          "name": "stdout"
        },
        {
          "output_type": "stream",
          "text": [
            "INFO:tensorflow:Evaluation [40/100]\n",
            "INFO:tensorflow:Finished evaluation at 2018-07-18-22:49:07\n",
            "INFO:tensorflow:Saving dict for global step 9212: accuracy = 0.777, global_step = 9212, loss = 0.7170502\n",
            "INFO:tensorflow:Saving 'checkpoint_path' summary for global step 9212: jobs/1531952916/model.ckpt-9212\n",
            "INFO:tensorflow:Calling model_fn.\n",
            "INFO:tensorflow:Done calling model_fn.\n",
            "INFO:tensorflow:Create CheckpointSaverHook.\n",
            "INFO:tensorflow:Graph was finalized.\n",
            "INFO:tensorflow:Restoring parameters from jobs/1531952916/model.ckpt-9212\n",
            "INFO:tensorflow:Running local_init_op.\n",
            "INFO:tensorflow:Done running local_init_op.\n",
            "INFO:tensorflow:Saving checkpoints for 9212 into jobs/1531952916/model.ckpt.\n",
            "INFO:tensorflow:loss = 0.74107033, step = 9212\n",
            "INFO:tensorflow:global_step/sec: 11.4328\n",
            "INFO:tensorflow:loss = 0.6439933, step = 9312 (8.758 sec)\n",
            "INFO:tensorflow:Saving checkpoints for 9408 into jobs/1531952916/model.ckpt.\n",
            "INFO:tensorflow:Loss for final step: 0.7595264.\n",
            "INFO:tensorflow:Calling model_fn.\n",
            "INFO:tensorflow:Done calling model_fn.\n",
            "INFO:tensorflow:Starting evaluation at 2018-07-18-22:49:31\n",
            "INFO:tensorflow:Graph was finalized.\n",
            "INFO:tensorflow:Restoring parameters from jobs/1531952916/model.ckpt-9408\n",
            "INFO:tensorflow:Running local_init_op.\n",
            "INFO:tensorflow:Done running local_init_op.\n",
            "INFO:tensorflow:Evaluation [10/100]\n",
            "INFO:tensorflow:Evaluation [20/100]\n",
            "INFO:tensorflow:Evaluation [30/100]\n",
            "INFO:tensorflow:Evaluation [40/100]\n",
            "INFO:tensorflow:Finished evaluation at 2018-07-18-22:49:33\n",
            "INFO:tensorflow:Saving dict for global step 9408: accuracy = 0.7768, global_step = 9408, loss = 0.7159999\n",
            "INFO:tensorflow:Saving 'checkpoint_path' summary for global step 9408: jobs/1531952916/model.ckpt-9408\n",
            "INFO:tensorflow:Calling model_fn.\n",
            "INFO:tensorflow:Done calling model_fn.\n",
            "INFO:tensorflow:Create CheckpointSaverHook.\n",
            "INFO:tensorflow:Graph was finalized.\n",
            "INFO:tensorflow:Restoring parameters from jobs/1531952916/model.ckpt-9408\n",
            "INFO:tensorflow:Running local_init_op.\n",
            "INFO:tensorflow:Done running local_init_op.\n",
            "INFO:tensorflow:Saving checkpoints for 9408 into jobs/1531952916/model.ckpt.\n",
            "INFO:tensorflow:loss = 0.6051242, step = 9408\n",
            "INFO:tensorflow:global_step/sec: 11.5405\n",
            "INFO:tensorflow:loss = 0.59701514, step = 9508 (8.673 sec)\n",
            "INFO:tensorflow:Saving checkpoints for 9604 into jobs/1531952916/model.ckpt.\n",
            "INFO:tensorflow:Loss for final step: 0.5334604.\n",
            "INFO:tensorflow:Calling model_fn.\n",
            "INFO:tensorflow:Done calling model_fn.\n",
            "INFO:tensorflow:Starting evaluation at 2018-07-18-22:49:57\n",
            "INFO:tensorflow:Graph was finalized.\n",
            "INFO:tensorflow:Restoring parameters from jobs/1531952916/model.ckpt-9604\n",
            "INFO:tensorflow:Running local_init_op.\n",
            "INFO:tensorflow:Done running local_init_op.\n",
            "INFO:tensorflow:Evaluation [10/100]\n",
            "INFO:tensorflow:Evaluation [20/100]\n",
            "INFO:tensorflow:Evaluation [30/100]\n",
            "INFO:tensorflow:Evaluation [40/100]\n",
            "INFO:tensorflow:Finished evaluation at 2018-07-18-22:49:59\n",
            "INFO:tensorflow:Saving dict for global step 9604: accuracy = 0.7758, global_step = 9604, loss = 0.7184809\n",
            "INFO:tensorflow:Saving 'checkpoint_path' summary for global step 9604: jobs/1531952916/model.ckpt-9604\n",
            "INFO:tensorflow:Calling model_fn.\n",
            "INFO:tensorflow:Done calling model_fn.\n"
          ],
          "name": "stdout"
        },
        {
          "output_type": "stream",
          "text": [
            "INFO:tensorflow:Create CheckpointSaverHook.\n",
            "INFO:tensorflow:Graph was finalized.\n",
            "INFO:tensorflow:Restoring parameters from jobs/1531952916/model.ckpt-9604\n",
            "INFO:tensorflow:Running local_init_op.\n",
            "INFO:tensorflow:Done running local_init_op.\n",
            "INFO:tensorflow:Saving checkpoints for 9604 into jobs/1531952916/model.ckpt.\n",
            "INFO:tensorflow:loss = 0.6907961, step = 9604\n",
            "INFO:tensorflow:global_step/sec: 11.3953\n",
            "INFO:tensorflow:loss = 0.54340196, step = 9704 (8.785 sec)\n",
            "INFO:tensorflow:Saving checkpoints for 9800 into jobs/1531952916/model.ckpt.\n",
            "INFO:tensorflow:Loss for final step: 0.7785628.\n",
            "INFO:tensorflow:Calling model_fn.\n",
            "INFO:tensorflow:Done calling model_fn.\n",
            "INFO:tensorflow:Starting evaluation at 2018-07-18-22:50:23\n",
            "INFO:tensorflow:Graph was finalized.\n",
            "INFO:tensorflow:Restoring parameters from jobs/1531952916/model.ckpt-9800\n",
            "INFO:tensorflow:Running local_init_op.\n",
            "INFO:tensorflow:Done running local_init_op.\n",
            "INFO:tensorflow:Evaluation [10/100]\n",
            "INFO:tensorflow:Evaluation [20/100]\n",
            "INFO:tensorflow:Evaluation [30/100]\n",
            "INFO:tensorflow:Evaluation [40/100]\n",
            "INFO:tensorflow:Finished evaluation at 2018-07-18-22:50:25\n",
            "INFO:tensorflow:Saving dict for global step 9800: accuracy = 0.7765, global_step = 9800, loss = 0.7150383\n",
            "INFO:tensorflow:Saving 'checkpoint_path' summary for global step 9800: jobs/1531952916/model.ckpt-9800\n",
            "INFO:tensorflow:Calling model_fn.\n",
            "INFO:tensorflow:Done calling model_fn.\n",
            "INFO:tensorflow:Create CheckpointSaverHook.\n",
            "INFO:tensorflow:Graph was finalized.\n",
            "INFO:tensorflow:Restoring parameters from jobs/1531952916/model.ckpt-9800\n",
            "INFO:tensorflow:Running local_init_op.\n",
            "INFO:tensorflow:Done running local_init_op.\n",
            "INFO:tensorflow:Saving checkpoints for 9800 into jobs/1531952916/model.ckpt.\n",
            "INFO:tensorflow:loss = 0.64344233, step = 9800\n",
            "INFO:tensorflow:global_step/sec: 11.4914\n",
            "INFO:tensorflow:loss = 0.81087255, step = 9900 (8.708 sec)\n",
            "INFO:tensorflow:Saving checkpoints for 9996 into jobs/1531952916/model.ckpt.\n",
            "INFO:tensorflow:Loss for final step: 0.6194094.\n",
            "INFO:tensorflow:Calling model_fn.\n",
            "INFO:tensorflow:Done calling model_fn.\n",
            "INFO:tensorflow:Starting evaluation at 2018-07-18-22:50:48\n",
            "INFO:tensorflow:Graph was finalized.\n",
            "INFO:tensorflow:Restoring parameters from jobs/1531952916/model.ckpt-9996\n",
            "INFO:tensorflow:Running local_init_op.\n",
            "INFO:tensorflow:Done running local_init_op.\n",
            "INFO:tensorflow:Evaluation [10/100]\n",
            "INFO:tensorflow:Evaluation [20/100]\n",
            "INFO:tensorflow:Evaluation [30/100]\n",
            "INFO:tensorflow:Evaluation [40/100]\n",
            "INFO:tensorflow:Finished evaluation at 2018-07-18-22:50:51\n",
            "INFO:tensorflow:Saving dict for global step 9996: accuracy = 0.7762, global_step = 9996, loss = 0.71520317\n",
            "INFO:tensorflow:Saving 'checkpoint_path' summary for global step 9996: jobs/1531952916/model.ckpt-9996\n",
            "INFO:tensorflow:Calling model_fn.\n",
            "INFO:tensorflow:Done calling model_fn.\n",
            "INFO:tensorflow:Create CheckpointSaverHook.\n",
            "INFO:tensorflow:Graph was finalized.\n",
            "INFO:tensorflow:Restoring parameters from jobs/1531952916/model.ckpt-9996\n",
            "INFO:tensorflow:Running local_init_op.\n",
            "INFO:tensorflow:Done running local_init_op.\n",
            "INFO:tensorflow:Saving checkpoints for 9996 into jobs/1531952916/model.ckpt.\n",
            "INFO:tensorflow:loss = 0.70071614, step = 9996\n"
          ],
          "name": "stdout"
        },
        {
          "output_type": "stream",
          "text": [
            "INFO:tensorflow:Saving checkpoints for 10000 into jobs/1531952916/model.ckpt.\n",
            "INFO:tensorflow:Loss for final step: 0.63786316.\n",
            "INFO:tensorflow:Calling model_fn.\n",
            "INFO:tensorflow:Done calling model_fn.\n",
            "INFO:tensorflow:Starting evaluation at 2018-07-18-22:51:02\n",
            "INFO:tensorflow:Graph was finalized.\n",
            "INFO:tensorflow:Restoring parameters from jobs/1531952916/model.ckpt-10000\n",
            "INFO:tensorflow:Running local_init_op.\n",
            "INFO:tensorflow:Done running local_init_op.\n",
            "INFO:tensorflow:Evaluation [10/100]\n",
            "INFO:tensorflow:Evaluation [20/100]\n",
            "INFO:tensorflow:Evaluation [30/100]\n",
            "INFO:tensorflow:Evaluation [40/100]\n",
            "INFO:tensorflow:Finished evaluation at 2018-07-18-22:51:04\n",
            "INFO:tensorflow:Saving dict for global step 10000: accuracy = 0.7758, global_step = 10000, loss = 0.71549886\n",
            "INFO:tensorflow:Saving 'checkpoint_path' summary for global step 10000: jobs/1531952916/model.ckpt-10000\n"
          ],
          "name": "stdout"
        },
        {
          "output_type": "execute_result",
          "data": {
            "text/plain": [
              "({'accuracy': 0.7758, 'global_step': 10000, 'loss': 0.71549886}, [])"
            ]
          },
          "metadata": {
            "tags": []
          },
          "execution_count": 29
        }
      ]
    },
    {
      "metadata": {
        "id": "otL8RWiLDy4l",
        "colab_type": "text"
      },
      "cell_type": "markdown",
      "source": [
        "# Download\n",
        "\n",
        "You can download the model directory for inspection via TensorBoard."
      ]
    },
    {
      "metadata": {
        "id": "7qjPqmKV_Qtr",
        "colab_type": "code",
        "colab": {
          "base_uri": "https://localhost:8080/",
          "height": 34
        },
        "outputId": "0ec5b777-4ca5-422b-8304-f91f3e9a2f16"
      },
      "cell_type": "code",
      "source": [
        "model_tarball = model_dir + '.tar.gz'\n",
        "with tarfile.open(model_tarball, \"w:gz\") as tar:\n",
        "    tar.add(model_dir, arcname=os.path.basename(model_dir))\n",
        "files.download(model_tarball)"
      ],
      "execution_count": 0,
      "outputs": [
        {
          "output_type": "stream",
          "text": [
            "jobs/1522767533.tar.gz\n"
          ],
          "name": "stdout"
        }
      ]
    },
    {
      "metadata": {
        "id": "2ahVqpu2Sonh",
        "colab_type": "text"
      },
      "cell_type": "markdown",
      "source": [
        "# Summary Overview: \n",
        "\n",
        "  The observations below are only my observation based on the original given code. I modified some paramaters and the following is my observation of these modifications. I implimented a different Resnet V2 and also a simple convolution net and my code is provided in two seperate ipython files. \n",
        "\n",
        "  First I tried data augmentation to the images, based on the initial setup that was done in code like random flipping the images, britness adjustements ...etc. But it did not change the accuracy, which I suspected at least an extra boast of at least 3% but that was not the case. I suspected maybe the model needs extra trading so I increased the number of steps and epoches.  \n",
        "\n",
        "  I tried increasing the epochs and the number of steps which is expected to increase accuracy. But there was not a significant change in the result. So I started to think about what could be wrong in the architecture. \n",
        "\n",
        "  Having a look at the code, I believe what is intended to achieve from this code is to develop a ResNet V2 like the one in [1] , however, I can see that the downsampling that was implemented in the code (strides) and the skip connection is not properly done like explained in the literatire. Now this could be a problem or it may nesseraly be a type of an architecture that I am not familiar with. \n",
        "\n",
        "  Comparing the implementation of the paper and the given implementaiton in this code I do not see an obvious fundamental mistake of how a resnet network should look like. But a resnet with a deep architecture like this one should give a result more than 90% accuracy on this dataset.\n",
        "\n",
        "  I wondered to see if there could be a hidden problem with the way the skip connection is done or the downsampling of the network. At first I tried a simple convolution architecture apporach with only two layers of conv net with reul and max polling (without skip connection or residual inputs) and the result was 78% accuracy. The implementation is shown in the upcoming sections. Also, it is worth to mention that I wanted to see if I add a mean subtraction step to the data after standardizing it to the highest pixel value and it turns out that the resule was 79% accurate. Even though the difference is not that sigificant but it is worth to mention that the convergence was much faster. \n",
        " \n",
        "  It is expected that a much more deep architecture gives a higher accuracy result, but also a deep archictecture comes with problems such as exploding and vanishing gradients. The residual architecture should address this problem by doing the skip connection trick, however, it is also very sensitive and tricky to implement. Since it is expected that the more the epoches, steps and the deeper the resnet layers the more the accuracy but the implementation provided does not show this. This maked me a little scheptical about how the skip connections are connected between stacks and residual blocks also how the downsampling (strides = 2) is done. For this reason I tried to to reduce the number of residual layers to only one layer and see if the results improve. The moment I commented the lines (removing the last 4 resnet layers in the code) which means it will only run one layer the accuracy has jumped from 57% to 78% at 1000 steps. This confirms it that the residual blocks are not rerouting the residual inputs properly. From my previous experience with residual networks this can be very hard to trace manually in the code so it will be easier to reimplement the code again based on the paper [1] I mentioned above to try something else and they showed some good results so I will try to replicate that. The implementation of this technique is in the following sections. \n",
        "\n",
        "\n",
        "\n",
        "\n",
        "\n"
      ]
    },
    {
      "metadata": {
        "id": "HfVMKTqXF00l",
        "colab_type": "text"
      },
      "cell_type": "markdown",
      "source": [
        "# Simple Convolution Architecture\n",
        "\n",
        "The following is an implementation of a simple conv net with max pooling and dropouts to reduce over fitting. There are  2 layers of each has 2 convolution filters followed by a non-linear activation relu and a maxpooling layer. The model is then flatten to fit in a dense output layer of 10 units. \n",
        "\n",
        "Things I tried not in the code: \n",
        "\n",
        "- I tried adding a dense layer of 128 after flattening the model and before the output layer. I did this to see if it can improve the results by capturing intra correlations between the layers. This ended up adding extra model complexity as it dramatically increased the number of optimization params and it didnt improve the model accuracy. "
      ]
    },
    {
      "metadata": {
        "id": "RX10oUaBGhce",
        "colab_type": "code",
        "colab": {
          "base_uri": "https://localhost:8080/",
          "height": 34
        },
        "outputId": "01f59d8c-4d13-46b2-a2b0-7fb30ac063d1"
      },
      "cell_type": "code",
      "source": [
        "from __future__ import print_function\n",
        "import keras\n",
        "from keras.layers import Dense, Conv2D, BatchNormalization, Activation\n",
        "from keras.layers import AveragePooling2D, Input, Flatten, MaxPooling2D, Dropout\n",
        "from keras.optimizers import Adam\n",
        "from keras.callbacks import ModelCheckpoint, LearningRateScheduler\n",
        "from keras.callbacks import ReduceLROnPlateau\n",
        "from keras.preprocessing.image import ImageDataGenerator\n",
        "from keras.regularizers import l2\n",
        "from keras import regularizers\n",
        "from keras import backend as K\n",
        "from keras.models import Model, Sequential\n",
        "from keras.datasets import cifar10\n",
        "from keras.utils.vis_utils import plot_model\n",
        "import matplotlib.pyplot as plt\n",
        "import numpy as np\n",
        "import os"
      ],
      "execution_count": 2,
      "outputs": [
        {
          "output_type": "stream",
          "text": [
            "Using TensorFlow backend.\n"
          ],
          "name": "stderr"
        }
      ]
    },
    {
      "metadata": {
        "id": "pbt5lRj7n1rM",
        "colab_type": "text"
      },
      "cell_type": "markdown",
      "source": [
        "## Data and Variables "
      ]
    },
    {
      "metadata": {
        "id": "qlr7RCyTn1EH",
        "colab_type": "code",
        "colab": {
          "base_uri": "https://localhost:8080/",
          "height": 68
        },
        "outputId": "fd819300-1688-4490-dd32-15839e96f2bf"
      },
      "cell_type": "code",
      "source": [
        "# retrain model or use saved model\n",
        "retrain_conv_net = False\n",
        "# Training parameters\n",
        "batch_size = 128\n",
        "epochs = 200\n",
        "num_classes = 10\n",
        "# mean subtraction (it improves the accuracy)\n",
        "mean_subtraction = True\n",
        "# directory to save models \n",
        "save_dir = os.path.join(os.getcwd(), 'saved_models/')\n",
        "model_name_conv = 'conv_net.h5'\n",
        "if not os.path.exists(save_dir):\n",
        "    os.makedirs(save_dir)\n",
        "# The data is already split between train and test sets. \n",
        "(x_train, y_train), (x_test, y_test) = cifar10.load_data()\n",
        "x_train = x_train.astype('float32') # convert to float\n",
        "x_test = x_test.astype('float32') # convert to float\n",
        "x_train /= 255 # Standarize to the maximum pixel value\n",
        "x_test /= 255 # Standarize to the maximum pixel value\n",
        "# Convert class vectors to binary class matrices.\n",
        "y_train = keras.utils.to_categorical(y_train, num_classes)\n",
        "y_test = keras.utils.to_categorical(y_test, num_classes)\n",
        "if mean_subtraction:\n",
        "    train_mean = np.mean(x_train, axis=0)\n",
        "    x_train = x_train - train_mean\n",
        "    x_test  = x_test - train_mean \n",
        "print('x_train shape:', x_train.shape)\n",
        "print(x_train.shape[0], 'train samples')\n",
        "print(x_test.shape[0], 'test samples')"
      ],
      "execution_count": 9,
      "outputs": [
        {
          "output_type": "stream",
          "text": [
            "x_train shape: (50000, 32, 32, 3)\n",
            "50000 train samples\n",
            "10000 test samples\n"
          ],
          "name": "stdout"
        }
      ]
    },
    {
      "metadata": {
        "id": "zqZuWh43oQ2p",
        "colab_type": "text"
      },
      "cell_type": "markdown",
      "source": [
        "## Model and Training"
      ]
    },
    {
      "metadata": {
        "id": "lRUMdRyMoUyb",
        "colab_type": "code",
        "colab": {
          "base_uri": "https://localhost:8080/",
          "height": 663
        },
        "outputId": "7af7a315-5510-49be-9b0d-eff7f10fe1e1"
      },
      "cell_type": "code",
      "source": [
        "model = Sequential()\n",
        "model.add(Conv2D(32, (3, 3), padding='same', input_shape=x_train.shape[1:]))\n",
        "model.add(Activation('relu'))\n",
        "model.add(Conv2D(32, (3, 3)))\n",
        "model.add(Activation('relu'))\n",
        "model.add(MaxPooling2D(pool_size=(2, 2)))\n",
        "model.add(Dropout(0.25))\n",
        "\n",
        "model.add(Conv2D(64, (3, 3), padding='same'))\n",
        "model.add(Activation('relu'))\n",
        "model.add(Conv2D(64, (3, 3)))\n",
        "model.add(Activation('relu'))\n",
        "model.add(MaxPooling2D(pool_size=(2, 2)))\n",
        "model.add(Dropout(0.25))\n",
        "\n",
        "model.add(Flatten())\n",
        "model.add(Dense(num_classes))\n",
        "model.add(Activation('softmax'))\n",
        "opt = keras.optimizers.Adam(lr=0.0001, decay=1e-6)\n",
        "model.compile(loss='categorical_crossentropy',optimizer=opt, metrics=['accuracy'])\n",
        "print (model.summary())"
      ],
      "execution_count": 53,
      "outputs": [
        {
          "output_type": "stream",
          "text": [
            "_________________________________________________________________\n",
            "Layer (type)                 Output Shape              Param #   \n",
            "=================================================================\n",
            "conv2d_389 (Conv2D)          (None, 32, 32, 32)        896       \n",
            "_________________________________________________________________\n",
            "activation_375 (Activation)  (None, 32, 32, 32)        0         \n",
            "_________________________________________________________________\n",
            "conv2d_390 (Conv2D)          (None, 30, 30, 32)        9248      \n",
            "_________________________________________________________________\n",
            "activation_376 (Activation)  (None, 30, 30, 32)        0         \n",
            "_________________________________________________________________\n",
            "max_pooling2d_10 (MaxPooling (None, 15, 15, 32)        0         \n",
            "_________________________________________________________________\n",
            "dropout_12 (Dropout)         (None, 15, 15, 32)        0         \n",
            "_________________________________________________________________\n",
            "conv2d_391 (Conv2D)          (None, 15, 15, 64)        18496     \n",
            "_________________________________________________________________\n",
            "activation_377 (Activation)  (None, 15, 15, 64)        0         \n",
            "_________________________________________________________________\n",
            "conv2d_392 (Conv2D)          (None, 13, 13, 64)        36928     \n",
            "_________________________________________________________________\n",
            "activation_378 (Activation)  (None, 13, 13, 64)        0         \n",
            "_________________________________________________________________\n",
            "max_pooling2d_11 (MaxPooling (None, 6, 6, 64)          0         \n",
            "_________________________________________________________________\n",
            "dropout_13 (Dropout)         (None, 6, 6, 64)          0         \n",
            "_________________________________________________________________\n",
            "flatten_12 (Flatten)         (None, 2304)              0         \n",
            "_________________________________________________________________\n",
            "dense_15 (Dense)             (None, 10)                23050     \n",
            "_________________________________________________________________\n",
            "activation_379 (Activation)  (None, 10)                0         \n",
            "=================================================================\n",
            "Total params: 88,618\n",
            "Trainable params: 88,618\n",
            "Non-trainable params: 0\n",
            "_________________________________________________________________\n",
            "None\n"
          ],
          "name": "stdout"
        }
      ]
    },
    {
      "metadata": {
        "id": "ucZzrqF7qFFV",
        "colab_type": "code",
        "colab": {
          "base_uri": "https://localhost:8080/",
          "height": 34
        },
        "outputId": "94944a22-1cc6-46cf-dd91-ed2998f79082"
      },
      "cell_type": "code",
      "source": [
        "if retrain_conv_net:  \n",
        "    histry = model.fit(x_train, y_train,batch_size=batch_size,epochs=epochs,validation_data=(x_test, y_test),shuffle=True)\n",
        "    model = histry.model\n",
        "    model.save_weights(save_dir+model_name_conv)\n",
        "else:\n",
        "    model.load_weights(save_dir+model_name_conv)\n",
        "    print ('Model loaded')"
      ],
      "execution_count": 59,
      "outputs": [
        {
          "output_type": "stream",
          "text": [
            "Model loaded\n"
          ],
          "name": "stdout"
        }
      ]
    },
    {
      "metadata": {
        "id": "VH4ay0Wkqv_B",
        "colab_type": "code",
        "colab": {
          "base_uri": "https://localhost:8080/",
          "height": 68
        },
        "outputId": "5430518f-398b-4abb-d8f6-b164ef3b583a"
      },
      "cell_type": "code",
      "source": [
        "# Score trained model.\n",
        "scores = model.evaluate(x_test, y_test, verbose=1)\n",
        "print('Test loss:', scores[0])\n",
        "print('Test accuracy:', scores[1])"
      ],
      "execution_count": 60,
      "outputs": [
        {
          "output_type": "stream",
          "text": [
            "10000/10000 [==============================] - 2s 236us/step\n",
            "Test loss: 0.5917723460197448\n",
            "Test accuracy: 0.8028\n"
          ],
          "name": "stdout"
        }
      ]
    },
    {
      "metadata": {
        "id": "1Bh4bC5Cq2Yb",
        "colab_type": "code",
        "colab": {
          "base_uri": "https://localhost:8080/",
          "height": 361
        },
        "outputId": "c0b03517-2020-4ad9-9c23-2568e0c74ca3"
      },
      "cell_type": "code",
      "source": [
        "# summarize history for accuracy\n",
        "fig = plt.figure()\n",
        "plt.subplot(2, 1, 1)\n",
        "plt.plot(histry.history['acc'])\n",
        "plt.plot(histry.history['val_acc'])\n",
        "plt.axhline(y=0.5, color='grey', linestyle='--')\n",
        "#plt.title('model accuracy')\n",
        "plt.ylabel('accuracy')\n",
        "plt.xlabel('epoch')\n",
        "plt.legend(['train', 'test'], loc='upper left')\n",
        "# summarize history for loss\n",
        "plt.subplot(2, 1, 2)\n",
        "plt.plot(histry.history['loss'])\n",
        "plt.plot(histry.history['val_loss'])\n",
        "plt.axhline(y=0.693, color='grey', linestyle='--')\n",
        "plt.ylabel('loss')\n",
        "plt.xlabel('epoch')\n",
        "plt.legend(['train', 'test'], loc='upper left')\n",
        "plt.show()\n",
        "fig.savefig('learning_curve_CNN.png', bbox_inches='tight')"
      ],
      "execution_count": 56,
      "outputs": [
        {
          "output_type": "display_data",
          "data": {
            "image/png": "[encoded data removed]",
            "text/plain": [
              "<matplotlib.figure.Figure at 0x7f5c463271d0>"
            ]
          },
          "metadata": {
            "tags": []
          }
        }
      ]
    },
    {
      "metadata": {
        "id": "lbaGOGESrHDE",
        "colab_type": "text"
      },
      "cell_type": "markdown",
      "source": [
        "## Observation and Discussion \n",
        "\n",
        "Surprzingly a simple architecture without residual learning can do a reasnably good job. I intentoinaly trained it on alot of epoches to observe when the model stars to overfit. As you can see the training and the testing error gap starts to widen after 100 epoches thats why the model starts to overfit after 100 epoches which can give about 78% accuracy (without mean subtraction) and 79% after 75 epoches with mean subtraction. A proper resnet architecture should surpase these results. However, it is expected to take so much time to train. Overall, it makes sense that mean subtraction improves the convergence speed as normalization of the data may lead to subtract any comman background noise in the data which may makes it easier to learn edges.  \n",
        "\n",
        "Another thing worth to mention is that I tried to add a dense layer after flattening the model at the final step to observe if it can capture correlations from the output of the convolution net. But this did not improve the accuracy of the model and added extra computational complexity without any impromevemnts so I decided to remove it. "
      ]
    },
    {
      "metadata": {
        "id": "axUpLmEzGi2N",
        "colab_type": "text"
      },
      "cell_type": "markdown",
      "source": [
        "# Configurable Resnet V2 implementation \n",
        "\n",
        "The following is an implementation of the paper [1] which is a resnetV2. The model consists of 3 stages, each stage consists of an equal number of blocks and each block contrains either 3 or 4 bottel neck. A bottel neck can either be a layer of batchnorm followed by a relu then a convolution layer, or it can be just a convolution layer on its own. The bottle neck is configrued to be only a convolution net when it is forming a new stage. At the begining of each stage the stride is set to be 2 to perform downsampling by 2 and the filter size is increased as well, that way the deeper convolution layers focuses more on the abstract structures of the images. \n",
        "\n",
        "The following code is configurable so that it can automatically builds deeper or shollower Resnet model with just adjusting the variable depth. Please note that depth should be multiples of this function f(n) = 9n+2 so it can be 20, 29, 56 or 110. \n",
        "\n",
        "The depth in the following code is set at 20, and it uses the same data preprocessing that was set in the last section. \n",
        "\n",
        "## Variables "
      ]
    },
    {
      "metadata": {
        "id": "reup0rLAsT-L",
        "colab_type": "code",
        "colab": {}
      },
      "cell_type": "code",
      "source": [
        "# retrain model or use saved model\n",
        "retrain_resnet = False\n",
        "# Depth of resent V2 model \n",
        "depth = 20 #20,56,110,... 1001\n",
        "#save model_after_train \n",
        "model_name_resnet = 'resnetv2_trained.h5'\n",
        "# Data augmentation \n",
        "data_augmentation = True\n",
        "# Training parameters\n",
        "batch_size = 256\n",
        "epochs = 200"
      ],
      "execution_count": 0,
      "outputs": []
    },
    {
      "metadata": {
        "id": "SW4RdQyRvHYE",
        "colab_type": "text"
      },
      "cell_type": "markdown",
      "source": [
        "## Model:"
      ]
    },
    {
      "metadata": {
        "id": "lWVVYt8N9URr",
        "colab_type": "code",
        "colab": {
          "base_uri": "https://localhost:8080/",
          "height": 2618
        },
        "outputId": "7c323c81-36a5-473e-bd8c-e5fd7ad576b7"
      },
      "cell_type": "code",
      "source": [
        "datagenerator = ImageDataGenerator(\n",
        "            # set input mean to 0 over the dataset\n",
        "            featurewise_center=False,\n",
        "            # set each sample mean to 0\n",
        "            samplewise_center=False,\n",
        "            # divide inputs by std of dataset\n",
        "            featurewise_std_normalization=False,\n",
        "            # divide each input by its std\n",
        "            samplewise_std_normalization=False,\n",
        "            # apply ZCA whitening\n",
        "            zca_whitening=False,\n",
        "            # epsilon for ZCA whitening\n",
        "            zca_epsilon=1e-06,\n",
        "            # randomly rotate images in the range (deg 0 to 180)\n",
        "            rotation_range=0,\n",
        "            # randomly shift images horizontally\n",
        "            width_shift_range=0.1,\n",
        "            # randomly shift images vertically\n",
        "            height_shift_range=0.1,\n",
        "            # set range for random shear\n",
        "            shear_range=0.,\n",
        "            # set range for random zoom\n",
        "            zoom_range=0.,\n",
        "            # set range for random channel shifts\n",
        "            channel_shift_range=0.,\n",
        "            # set mode for filling points outside the input boundaries\n",
        "            fill_mode='nearest',\n",
        "            # value used for fill_mode = \"constant\"\n",
        "            cval=0.,\n",
        "            # randomly flip images\n",
        "            horizontal_flip=True,\n",
        "            # randomly flip images\n",
        "            vertical_flip=False,\n",
        "            # set rescaling factor (applied before any other transformation)\n",
        "            rescale=None,\n",
        "            # set function that will be applied on each input\n",
        "            preprocessing_function=None,\n",
        "            # image data format, either \"channels_first\" or \"channels_last\"\n",
        "            data_format=None,\n",
        "            # fraction of images reserved for validation (strictly between 0 and 1)\n",
        "            validation_split=0.0)\n",
        "def learning_rate_adjuster(epoch):\n",
        "    lr = 1e-3\n",
        "    if epoch > 180:\n",
        "        lr *= 0.5e-3\n",
        "    elif epoch > 160:\n",
        "        lr *= 1e-3\n",
        "    elif epoch > 120:\n",
        "        lr *= 1e-2\n",
        "    elif epoch > 80:\n",
        "        lr *= 1e-1\n",
        "    return lr\n",
        "\n",
        "def bottleneck(inputs, \n",
        "                no_filters=16,\n",
        "                kernel_size=3,\n",
        "                strides=1,\n",
        "                activation='relu',\n",
        "                batch_normalization=True):\n",
        "    x = inputs\n",
        "    if batch_normalization:\n",
        "        x = BatchNormalization()(x)\n",
        "    if activation is not None:\n",
        "        x = Activation(activation)(x)\n",
        "    x = Conv2D(no_filters,\n",
        "              kernel_size=kernel_size,\n",
        "              strides=strides,\n",
        "              padding='same',\n",
        "              kernel_initializer='he_normal',\n",
        "              kernel_regularizer=l2(1e-4))(x)\n",
        "    return x\n",
        "\n",
        "def builder_resnetv2(input_shape, depth, num_classes=10):\n",
        "    \"\"\" \n",
        "    This method build a resent v2 architecture based on the desired depth. \n",
        "    it builds stacks of bottleneck layers of Batch normalizer, relu then a convolution layer.  \n",
        "    \"\"\"\n",
        "    if (depth - 2) % 9 != 0:\n",
        "        raise ValueError('depth should be 9n+2 (eg 20, 29, 56 or 110 in [b])')\n",
        "    no_filters = 16\n",
        "    no_blocks = int((depth - 2) / 9)\n",
        "    inputs = Input(shape=input_shape)\n",
        "    # Convolution layer with batch norm and relu on input before going deep in path\n",
        "    x = Conv2D(no_filters,\n",
        "                  kernel_size=3,\n",
        "                  strides=1,\n",
        "                  padding='same',\n",
        "                  kernel_initializer='he_normal',\n",
        "                  kernel_regularizer=l2(1e-4))(inputs)\n",
        "    x = BatchNormalization()(x)\n",
        "    x = Activation('relu')(x)\n",
        "    # build the residual blocks\n",
        "    for stage in range(3):\n",
        "        for block in range(no_blocks):\n",
        "            activation = 'relu'\n",
        "            batch_normalization = True\n",
        "            strides = 1\n",
        "            if stage == 0:\n",
        "                no_filters_next = no_filters * 4\n",
        "                if block == 0: \n",
        "                    activation = None\n",
        "                    batch_normalization = False\n",
        "            else:\n",
        "                no_filters_next = no_filters * 2\n",
        "                if block == 0:  # first layer but not first stage\n",
        "                    strides = 2    # downsample by two by skipping 1\n",
        "\n",
        "            # bottleneck residual block\n",
        "            b = bottleneck(inputs=x,\n",
        "                             no_filters=no_filters,\n",
        "                             kernel_size=1,\n",
        "                             strides=strides,\n",
        "                             activation=activation,\n",
        "                             batch_normalization=batch_normalization)\n",
        "            b = bottleneck(inputs=b,\n",
        "                             no_filters=no_filters)\n",
        "            b = bottleneck(inputs=b,\n",
        "                             no_filters=no_filters_next,\n",
        "                             kernel_size=1)\n",
        "            if block == 0:\n",
        "                # projects the residual skip connection to match the new dimensions\n",
        "                x = bottleneck(inputs=x,\n",
        "                                no_filters=no_filters_next,\n",
        "                                kernel_size=1,\n",
        "                                strides=strides,\n",
        "                                activation=None,\n",
        "                                batch_normalization=False)\n",
        "            # additions should now be executed without mis-dimension errors\n",
        "            x = keras.layers.add([x, b])\n",
        "        # change the current filter dimensions with the new one\n",
        "        no_filters = no_filters_next \n",
        "\n",
        "    # Finally the last stage which is Batch norm, relu followed by a polling layer\n",
        "    x = BatchNormalization()(x)\n",
        "    x = Activation('relu')(x)\n",
        "    x = AveragePooling2D(pool_size=8)(x)\n",
        "    m = Flatten()(x) # convert to 1D \n",
        "    outputs = Dense(num_classes,\n",
        "                    activation='softmax',\n",
        "                    kernel_initializer='he_normal')(m)\n",
        "    model = Model(inputs=inputs, outputs=outputs)\n",
        "    return model\n",
        "\n",
        "model = builder_resnetv2(x_train.shape[1:], depth)\n",
        "model.compile(loss='categorical_crossentropy', optimizer=Adam(lr=learning_rate_adjuster(0)),metrics=['accuracy'])\n",
        "save_dir = os.path.join(os.getcwd(), 'saved_models')\n",
        "m_name = 'resnetv2_depth_%d_model.{epoch:03d}.h5' % depth\n",
        "if not os.path.isdir(save_dir):\n",
        "    os.makedirs(save_dir)\n",
        "filepath = os.path.join(save_dir, m_name)\n",
        "# callbacks for best saved models and for learning rates\n",
        "checkpoint = ModelCheckpoint(filepath=filepath,monitor='val_acc',verbose=1,save_best_only=True)\n",
        "lr_scheduler = LearningRateScheduler(learning_rate_adjuster)\n",
        "lr_reducer = ReduceLROnPlateau(factor=np.sqrt(0.1),cooldown=0,patience=5,min_lr=0.5e-6)\n",
        "callbacks = [checkpoint, lr_reducer, lr_scheduler]\n",
        "model.summary()"
      ],
      "execution_count": 7,
      "outputs": [
        {
          "output_type": "stream",
          "text": [
            "__________________________________________________________________________________________________\n",
            "Layer (type)                    Output Shape         Param #     Connected to                     \n",
            "==================================================================================================\n",
            "input_2 (InputLayer)            (None, 32, 32, 3)    0                                            \n",
            "__________________________________________________________________________________________________\n",
            "conv2d_5 (Conv2D)               (None, 32, 32, 16)   448         input_2[0][0]                    \n",
            "__________________________________________________________________________________________________\n",
            "batch_normalization_5 (BatchNor (None, 32, 32, 16)   64          conv2d_5[0][0]                   \n",
            "__________________________________________________________________________________________________\n",
            "activation_1 (Activation)       (None, 32, 32, 16)   0           batch_normalization_5[0][0]      \n",
            "__________________________________________________________________________________________________\n",
            "conv2d_6 (Conv2D)               (None, 32, 32, 16)   272         activation_1[0][0]               \n",
            "__________________________________________________________________________________________________\n",
            "batch_normalization_6 (BatchNor (None, 32, 32, 16)   64          conv2d_6[0][0]                   \n",
            "__________________________________________________________________________________________________\n",
            "activation_2 (Activation)       (None, 32, 32, 16)   0           batch_normalization_6[0][0]      \n",
            "__________________________________________________________________________________________________\n",
            "conv2d_7 (Conv2D)               (None, 32, 32, 16)   2320        activation_2[0][0]               \n",
            "__________________________________________________________________________________________________\n",
            "batch_normalization_7 (BatchNor (None, 32, 32, 16)   64          conv2d_7[0][0]                   \n",
            "__________________________________________________________________________________________________\n",
            "activation_3 (Activation)       (None, 32, 32, 16)   0           batch_normalization_7[0][0]      \n",
            "__________________________________________________________________________________________________\n",
            "conv2d_9 (Conv2D)               (None, 32, 32, 64)   1088        activation_1[0][0]               \n",
            "__________________________________________________________________________________________________\n",
            "conv2d_8 (Conv2D)               (None, 32, 32, 64)   1088        activation_3[0][0]               \n",
            "__________________________________________________________________________________________________\n",
            "add_13 (Add)                    (None, 32, 32, 64)   0           conv2d_9[0][0]                   \n",
            "                                                                 conv2d_8[0][0]                   \n",
            "__________________________________________________________________________________________________\n",
            "batch_normalization_8 (BatchNor (None, 32, 32, 64)   256         add_13[0][0]                     \n",
            "__________________________________________________________________________________________________\n",
            "activation_4 (Activation)       (None, 32, 32, 64)   0           batch_normalization_8[0][0]      \n",
            "__________________________________________________________________________________________________\n",
            "conv2d_10 (Conv2D)              (None, 32, 32, 16)   1040        activation_4[0][0]               \n",
            "__________________________________________________________________________________________________\n",
            "batch_normalization_9 (BatchNor (None, 32, 32, 16)   64          conv2d_10[0][0]                  \n",
            "__________________________________________________________________________________________________\n",
            "activation_5 (Activation)       (None, 32, 32, 16)   0           batch_normalization_9[0][0]      \n",
            "__________________________________________________________________________________________________\n",
            "conv2d_11 (Conv2D)              (None, 32, 32, 16)   2320        activation_5[0][0]               \n",
            "__________________________________________________________________________________________________\n",
            "batch_normalization_10 (BatchNo (None, 32, 32, 16)   64          conv2d_11[0][0]                  \n",
            "__________________________________________________________________________________________________\n",
            "activation_6 (Activation)       (None, 32, 32, 16)   0           batch_normalization_10[0][0]     \n",
            "__________________________________________________________________________________________________\n",
            "conv2d_12 (Conv2D)              (None, 32, 32, 64)   1088        activation_6[0][0]               \n",
            "__________________________________________________________________________________________________\n",
            "add_14 (Add)                    (None, 32, 32, 64)   0           add_13[0][0]                     \n",
            "                                                                 conv2d_12[0][0]                  \n",
            "__________________________________________________________________________________________________\n",
            "batch_normalization_11 (BatchNo (None, 32, 32, 64)   256         add_14[0][0]                     \n",
            "__________________________________________________________________________________________________\n",
            "activation_7 (Activation)       (None, 32, 32, 64)   0           batch_normalization_11[0][0]     \n",
            "__________________________________________________________________________________________________\n",
            "conv2d_13 (Conv2D)              (None, 16, 16, 64)   4160        activation_7[0][0]               \n",
            "__________________________________________________________________________________________________\n",
            "batch_normalization_12 (BatchNo (None, 16, 16, 64)   256         conv2d_13[0][0]                  \n",
            "__________________________________________________________________________________________________\n",
            "activation_8 (Activation)       (None, 16, 16, 64)   0           batch_normalization_12[0][0]     \n",
            "__________________________________________________________________________________________________\n",
            "conv2d_14 (Conv2D)              (None, 16, 16, 64)   36928       activation_8[0][0]               \n",
            "__________________________________________________________________________________________________\n",
            "batch_normalization_13 (BatchNo (None, 16, 16, 64)   256         conv2d_14[0][0]                  \n",
            "__________________________________________________________________________________________________\n",
            "activation_9 (Activation)       (None, 16, 16, 64)   0           batch_normalization_13[0][0]     \n",
            "__________________________________________________________________________________________________\n",
            "conv2d_16 (Conv2D)              (None, 16, 16, 128)  8320        add_14[0][0]                     \n",
            "__________________________________________________________________________________________________\n",
            "conv2d_15 (Conv2D)              (None, 16, 16, 128)  8320        activation_9[0][0]               \n",
            "__________________________________________________________________________________________________\n",
            "add_15 (Add)                    (None, 16, 16, 128)  0           conv2d_16[0][0]                  \n",
            "                                                                 conv2d_15[0][0]                  \n",
            "__________________________________________________________________________________________________\n",
            "batch_normalization_14 (BatchNo (None, 16, 16, 128)  512         add_15[0][0]                     \n",
            "__________________________________________________________________________________________________\n",
            "activation_10 (Activation)      (None, 16, 16, 128)  0           batch_normalization_14[0][0]     \n",
            "__________________________________________________________________________________________________\n",
            "conv2d_17 (Conv2D)              (None, 16, 16, 64)   8256        activation_10[0][0]              \n",
            "__________________________________________________________________________________________________\n",
            "batch_normalization_15 (BatchNo (None, 16, 16, 64)   256         conv2d_17[0][0]                  \n",
            "__________________________________________________________________________________________________\n",
            "activation_11 (Activation)      (None, 16, 16, 64)   0           batch_normalization_15[0][0]     \n",
            "__________________________________________________________________________________________________\n",
            "conv2d_18 (Conv2D)              (None, 16, 16, 64)   36928       activation_11[0][0]              \n",
            "__________________________________________________________________________________________________\n",
            "batch_normalization_16 (BatchNo (None, 16, 16, 64)   256         conv2d_18[0][0]                  \n",
            "__________________________________________________________________________________________________\n",
            "activation_12 (Activation)      (None, 16, 16, 64)   0           batch_normalization_16[0][0]     \n",
            "__________________________________________________________________________________________________\n",
            "conv2d_19 (Conv2D)              (None, 16, 16, 128)  8320        activation_12[0][0]              \n",
            "__________________________________________________________________________________________________\n",
            "add_16 (Add)                    (None, 16, 16, 128)  0           add_15[0][0]                     \n",
            "                                                                 conv2d_19[0][0]                  \n",
            "__________________________________________________________________________________________________\n",
            "batch_normalization_17 (BatchNo (None, 16, 16, 128)  512         add_16[0][0]                     \n",
            "__________________________________________________________________________________________________\n",
            "activation_13 (Activation)      (None, 16, 16, 128)  0           batch_normalization_17[0][0]     \n",
            "__________________________________________________________________________________________________\n",
            "conv2d_20 (Conv2D)              (None, 8, 8, 128)    16512       activation_13[0][0]              \n",
            "__________________________________________________________________________________________________\n",
            "batch_normalization_18 (BatchNo (None, 8, 8, 128)    512         conv2d_20[0][0]                  \n",
            "__________________________________________________________________________________________________\n",
            "activation_14 (Activation)      (None, 8, 8, 128)    0           batch_normalization_18[0][0]     \n",
            "__________________________________________________________________________________________________\n",
            "conv2d_21 (Conv2D)              (None, 8, 8, 128)    147584      activation_14[0][0]              \n",
            "__________________________________________________________________________________________________\n",
            "batch_normalization_19 (BatchNo (None, 8, 8, 128)    512         conv2d_21[0][0]                  \n",
            "__________________________________________________________________________________________________\n",
            "activation_15 (Activation)      (None, 8, 8, 128)    0           batch_normalization_19[0][0]     \n",
            "__________________________________________________________________________________________________\n",
            "conv2d_23 (Conv2D)              (None, 8, 8, 256)    33024       add_16[0][0]                     \n",
            "__________________________________________________________________________________________________\n",
            "conv2d_22 (Conv2D)              (None, 8, 8, 256)    33024       activation_15[0][0]              \n",
            "__________________________________________________________________________________________________\n",
            "add_17 (Add)                    (None, 8, 8, 256)    0           conv2d_23[0][0]                  \n",
            "                                                                 conv2d_22[0][0]                  \n",
            "__________________________________________________________________________________________________\n",
            "batch_normalization_20 (BatchNo (None, 8, 8, 256)    1024        add_17[0][0]                     \n",
            "__________________________________________________________________________________________________\n",
            "activation_16 (Activation)      (None, 8, 8, 256)    0           batch_normalization_20[0][0]     \n",
            "__________________________________________________________________________________________________\n",
            "conv2d_24 (Conv2D)              (None, 8, 8, 128)    32896       activation_16[0][0]              \n",
            "__________________________________________________________________________________________________\n",
            "batch_normalization_21 (BatchNo (None, 8, 8, 128)    512         conv2d_24[0][0]                  \n",
            "__________________________________________________________________________________________________\n",
            "activation_17 (Activation)      (None, 8, 8, 128)    0           batch_normalization_21[0][0]     \n",
            "__________________________________________________________________________________________________\n",
            "conv2d_25 (Conv2D)              (None, 8, 8, 128)    147584      activation_17[0][0]              \n",
            "__________________________________________________________________________________________________\n",
            "batch_normalization_22 (BatchNo (None, 8, 8, 128)    512         conv2d_25[0][0]                  \n",
            "__________________________________________________________________________________________________\n",
            "activation_18 (Activation)      (None, 8, 8, 128)    0           batch_normalization_22[0][0]     \n",
            "__________________________________________________________________________________________________\n",
            "conv2d_26 (Conv2D)              (None, 8, 8, 256)    33024       activation_18[0][0]              \n",
            "__________________________________________________________________________________________________\n",
            "add_18 (Add)                    (None, 8, 8, 256)    0           add_17[0][0]                     \n",
            "                                                                 conv2d_26[0][0]                  \n",
            "__________________________________________________________________________________________________\n",
            "batch_normalization_23 (BatchNo (None, 8, 8, 256)    1024        add_18[0][0]                     \n",
            "__________________________________________________________________________________________________\n",
            "activation_19 (Activation)      (None, 8, 8, 256)    0           batch_normalization_23[0][0]     \n",
            "__________________________________________________________________________________________________\n",
            "average_pooling2d_1 (AveragePoo (None, 1, 1, 256)    0           activation_19[0][0]              \n",
            "__________________________________________________________________________________________________\n",
            "flatten_1 (Flatten)             (None, 256)          0           average_pooling2d_1[0][0]        \n",
            "__________________________________________________________________________________________________\n",
            "dense_1 (Dense)                 (None, 10)           2570        flatten_1[0][0]                  \n",
            "==================================================================================================\n",
            "Total params: 574,090\n",
            "Trainable params: 570,602\n",
            "Non-trainable params: 3,488\n",
            "__________________________________________________________________________________________________\n"
          ],
          "name": "stdout"
        }
      ]
    },
    {
      "metadata": {
        "id": "rCuK8mlXsu2f",
        "colab_type": "code",
        "colab": {
          "base_uri": "https://localhost:8080/",
          "height": 13654
        },
        "outputId": "9b4f4114-5bad-4abd-b66c-8c2c123fab81"
      },
      "cell_type": "code",
      "source": [
        "# Run training, with or without data augmentation.\n",
        "if retrain_resnet: \n",
        "    if not data_augmentation:\n",
        "        print('Not using data augmentation.')\n",
        "        history = model.fit(x_train, y_train,\n",
        "                  batch_size=batch_size,\n",
        "                  epochs=epochs,\n",
        "                  validation_data=(x_test, y_test),\n",
        "                  shuffle=True,\n",
        "                  callbacks=callbacks)\n",
        "    else:\n",
        "        print('Using real-time data augmentation.')\n",
        "        # This will do preprocessing and realtime data augmentation:\n",
        "        datagenerator.fit(x_train)\n",
        "\n",
        "        # Fit the model on the batches generated by datagen.flow().\n",
        "        history = model.fit_generator(datagenerator.flow(x_train, y_train, batch_size=batch_size),\n",
        "                            validation_data=(x_test, y_test),\n",
        "                            epochs=epochs, verbose=1, workers=4,\n",
        "                            callbacks=callbacks)\n",
        "        model = history.model\n",
        "        model.save_weights(save_dir+model_name_resnet)\n",
        "else:\n",
        "    model.load_weights(save_dir+model_name_resnet)\n",
        "    print ('Model weights loaded')"
      ],
      "execution_count": 63,
      "outputs": [
        {
          "output_type": "stream",
          "text": [
            "Using real-time data augmentation.\n",
            "Epoch 1/200\n",
            "196/196 [==============================] - 83s 422ms/step - loss: 1.8390 - acc: 0.4397 - val_loss: 2.0090 - val_acc: 0.4158\n",
            "\n",
            "Epoch 00001: val_acc improved from -inf to 0.41580, saving model to /content/saved_models/resnetv2_depth_20_model.001.h5\n",
            "Epoch 2/200\n",
            "193/196 [============================>.] - ETA: 0s - loss: 1.4380 - acc: 0.5848"
          ],
          "name": "stdout"
        },
        {
          "output_type": "stream",
          "text": [
            "196/196 [==============================] - 58s 295ms/step - loss: 1.4364 - acc: 0.5853 - val_loss: 1.3824 - val_acc: 0.6041\n",
            "\n",
            "Epoch 00002: val_acc improved from 0.41580 to 0.60410, saving model to /content/saved_models/resnetv2_depth_20_model.002.h5\n",
            "Epoch 3/200\n",
            "196/196 [==============================] - 58s 294ms/step - loss: 1.2562 - acc: 0.6471 - val_loss: 1.3799 - val_acc: 0.6084\n",
            "\n",
            "Epoch 00003: val_acc improved from 0.60410 to 0.60840, saving model to /content/saved_models/resnetv2_depth_20_model.003.h5\n",
            "Epoch 4/200\n",
            " 51/196 [======>.......................] - ETA: 39s - loss: 1.1750 - acc: 0.6708"
          ],
          "name": "stdout"
        },
        {
          "output_type": "stream",
          "text": [
            "196/196 [==============================] - 58s 294ms/step - loss: 1.1370 - acc: 0.6865 - val_loss: 1.4336 - val_acc: 0.5861\n",
            "\n",
            "Epoch 00004: val_acc did not improve from 0.60840\n",
            "Epoch 5/200\n",
            "196/196 [==============================] - 58s 297ms/step - loss: 1.0428 - acc: 0.7170 - val_loss: 1.1956 - val_acc: 0.6781\n",
            "\n",
            "Epoch 00005: val_acc improved from 0.60840 to 0.67810, saving model to /content/saved_models/resnetv2_depth_20_model.005.h5\n",
            "Epoch 6/200\n",
            " 66/196 [=========>....................] - ETA: 35s - loss: 0.9801 - acc: 0.7384"
          ],
          "name": "stdout"
        },
        {
          "output_type": "stream",
          "text": [
            "196/196 [==============================] - 59s 302ms/step - loss: 0.9719 - acc: 0.7405 - val_loss: 1.9609 - val_acc: 0.5517\n",
            "\n",
            "Epoch 00006: val_acc did not improve from 0.67810\n",
            "Epoch 7/200\n",
            "196/196 [==============================] - 58s 295ms/step - loss: 0.9091 - acc: 0.7652 - val_loss: 1.2481 - val_acc: 0.6625\n",
            "\n",
            "Epoch 00007: val_acc did not improve from 0.67810\n",
            "Epoch 8/200\n",
            " 80/196 [===========>..................] - ETA: 31s - loss: 0.8715 - acc: 0.7768"
          ],
          "name": "stdout"
        },
        {
          "output_type": "stream",
          "text": [
            "196/196 [==============================] - 58s 294ms/step - loss: 0.8652 - acc: 0.7783 - val_loss: 1.3040 - val_acc: 0.6686\n",
            "\n",
            "Epoch 00008: val_acc did not improve from 0.67810\n",
            "Epoch 9/200\n",
            "196/196 [==============================] - 58s 294ms/step - loss: 0.8303 - acc: 0.7892 - val_loss: 1.2753 - val_acc: 0.6633\n",
            "\n",
            "Epoch 00009: val_acc did not improve from 0.67810\n",
            "Epoch 10/200\n",
            " 82/196 [===========>..................] - ETA: 31s - loss: 0.7883 - acc: 0.8035"
          ],
          "name": "stdout"
        },
        {
          "output_type": "stream",
          "text": [
            "196/196 [==============================] - 58s 294ms/step - loss: 0.7943 - acc: 0.8006 - val_loss: 0.9738 - val_acc: 0.7465\n",
            "\n",
            "Epoch 00010: val_acc improved from 0.67810 to 0.74650, saving model to /content/saved_models/resnetv2_depth_20_model.010.h5\n",
            "Epoch 11/200\n",
            "196/196 [==============================] - 58s 294ms/step - loss: 0.7653 - acc: 0.8098 - val_loss: 1.0559 - val_acc: 0.7295\n",
            "\n",
            "Epoch 00011: val_acc did not improve from 0.74650\n",
            "Epoch 12/200\n",
            " 42/196 [=====>........................] - ETA: 42s - loss: 0.7329 - acc: 0.8239"
          ],
          "name": "stdout"
        },
        {
          "output_type": "stream",
          "text": [
            "196/196 [==============================] - 58s 294ms/step - loss: 0.7400 - acc: 0.8186 - val_loss: 0.9375 - val_acc: 0.7728\n",
            "\n",
            "Epoch 00012: val_acc improved from 0.74650 to 0.77280, saving model to /content/saved_models/resnetv2_depth_20_model.012.h5\n",
            "Epoch 13/200\n",
            "196/196 [==============================] - 58s 295ms/step - loss: 0.7202 - acc: 0.8222 - val_loss: 0.9287 - val_acc: 0.7614\n",
            "\n",
            "Epoch 00013: val_acc did not improve from 0.77280\n",
            "Epoch 14/200\n",
            " 36/196 [====>.........................] - ETA: 43s - loss: 0.6915 - acc: 0.8363"
          ],
          "name": "stdout"
        },
        {
          "output_type": "stream",
          "text": [
            "196/196 [==============================] - 58s 295ms/step - loss: 0.7007 - acc: 0.8289 - val_loss: 0.9574 - val_acc: 0.7494\n",
            "\n",
            "Epoch 00014: val_acc did not improve from 0.77280\n",
            "Epoch 15/200\n",
            "196/196 [==============================] - 58s 295ms/step - loss: 0.6789 - acc: 0.8366 - val_loss: 0.8873 - val_acc: 0.7716\n",
            "\n",
            "Epoch 00015: val_acc did not improve from 0.77280\n",
            "Epoch 16/200\n",
            " 74/196 [==========>...................] - ETA: 33s - loss: 0.6522 - acc: 0.8463"
          ],
          "name": "stdout"
        },
        {
          "output_type": "stream",
          "text": [
            "196/196 [==============================] - 58s 294ms/step - loss: 0.6594 - acc: 0.8432 - val_loss: 0.8137 - val_acc: 0.7939\n",
            "\n",
            "Epoch 00016: val_acc improved from 0.77280 to 0.79390, saving model to /content/saved_models/resnetv2_depth_20_model.016.h5\n",
            "Epoch 17/200\n",
            "196/196 [==============================] - 58s 294ms/step - loss: 0.6479 - acc: 0.8451 - val_loss: 0.8441 - val_acc: 0.7869\n",
            "\n",
            "Epoch 00017: val_acc did not improve from 0.79390\n",
            "Epoch 18/200\n",
            " 41/196 [=====>........................] - ETA: 41s - loss: 0.6209 - acc: 0.8546"
          ],
          "name": "stdout"
        },
        {
          "output_type": "stream",
          "text": [
            "196/196 [==============================] - 58s 295ms/step - loss: 0.6287 - acc: 0.8528 - val_loss: 0.9477 - val_acc: 0.7536\n",
            "\n",
            "Epoch 00018: val_acc did not improve from 0.79390\n",
            "Epoch 19/200\n",
            "196/196 [==============================] - 58s 295ms/step - loss: 0.6161 - acc: 0.8568 - val_loss: 0.7646 - val_acc: 0.8101\n",
            "\n",
            "Epoch 00019: val_acc improved from 0.79390 to 0.81010, saving model to /content/saved_models/resnetv2_depth_20_model.019.h5\n",
            "Epoch 20/200\n",
            " 63/196 [========>.....................] - ETA: 36s - loss: 0.6089 - acc: 0.8603"
          ],
          "name": "stdout"
        },
        {
          "output_type": "stream",
          "text": [
            "196/196 [==============================] - 58s 295ms/step - loss: 0.6021 - acc: 0.8619 - val_loss: 0.8010 - val_acc: 0.7978\n",
            "\n",
            "Epoch 00020: val_acc did not improve from 0.81010\n",
            "Epoch 21/200\n",
            "196/196 [==============================] - 58s 294ms/step - loss: 0.5976 - acc: 0.8607 - val_loss: 0.8651 - val_acc: 0.7875\n",
            "\n",
            "Epoch 00021: val_acc did not improve from 0.81010\n",
            "Epoch 22/200\n",
            " 79/196 [===========>..................] - ETA: 31s - loss: 0.5767 - acc: 0.8679"
          ],
          "name": "stdout"
        },
        {
          "output_type": "stream",
          "text": [
            "196/196 [==============================] - 58s 294ms/step - loss: 0.5810 - acc: 0.8668 - val_loss: 0.7585 - val_acc: 0.8140\n",
            "\n",
            "Epoch 00022: val_acc improved from 0.81010 to 0.81400, saving model to /content/saved_models/resnetv2_depth_20_model.022.h5\n",
            "Epoch 23/200\n",
            "196/196 [==============================] - 58s 295ms/step - loss: 0.5773 - acc: 0.8675 - val_loss: 0.7667 - val_acc: 0.8102\n",
            "\n",
            "Epoch 00023: val_acc did not improve from 0.81400\n",
            "Epoch 24/200\n",
            " 42/196 [=====>........................] - ETA: 42s - loss: 0.5395 - acc: 0.8832"
          ],
          "name": "stdout"
        },
        {
          "output_type": "stream",
          "text": [
            "196/196 [==============================] - 58s 294ms/step - loss: 0.5626 - acc: 0.8728 - val_loss: 0.8056 - val_acc: 0.7974\n",
            "\n",
            "Epoch 00024: val_acc did not improve from 0.81400\n",
            "Epoch 25/200\n",
            "196/196 [==============================] - 58s 294ms/step - loss: 0.5551 - acc: 0.8735 - val_loss: 0.7300 - val_acc: 0.8151\n",
            "\n",
            "Epoch 00025: val_acc improved from 0.81400 to 0.81510, saving model to /content/saved_models/resnetv2_depth_20_model.025.h5\n",
            "Epoch 26/200\n",
            " 64/196 [========>.....................] - ETA: 36s - loss: 0.5319 - acc: 0.8832"
          ],
          "name": "stdout"
        },
        {
          "output_type": "stream",
          "text": [
            "196/196 [==============================] - 58s 295ms/step - loss: 0.5469 - acc: 0.8778 - val_loss: 0.7631 - val_acc: 0.8112\n",
            "\n",
            "Epoch 00026: val_acc did not improve from 0.81510\n",
            "Epoch 27/200\n",
            "196/196 [==============================] - 58s 294ms/step - loss: 0.5380 - acc: 0.8791 - val_loss: 0.7221 - val_acc: 0.8224\n",
            "\n",
            "Epoch 00027: val_acc improved from 0.81510 to 0.82240, saving model to /content/saved_models/resnetv2_depth_20_model.027.h5\n",
            "Epoch 28/200\n",
            " 67/196 [=========>....................] - ETA: 35s - loss: 0.5195 - acc: 0.8850"
          ],
          "name": "stdout"
        },
        {
          "output_type": "stream",
          "text": [
            "196/196 [==============================] - 58s 294ms/step - loss: 0.5280 - acc: 0.8830 - val_loss: 0.7499 - val_acc: 0.8156\n",
            "\n",
            "Epoch 00028: val_acc did not improve from 0.82240\n",
            "Epoch 29/200\n",
            "196/196 [==============================] - 58s 295ms/step - loss: 0.5173 - acc: 0.8861 - val_loss: 0.7256 - val_acc: 0.8257\n",
            "\n",
            "Epoch 00029: val_acc improved from 0.82240 to 0.82570, saving model to /content/saved_models/resnetv2_depth_20_model.029.h5\n",
            "Epoch 30/200\n",
            " 67/196 [=========>....................] - ETA: 35s - loss: 0.5086 - acc: 0.8885"
          ],
          "name": "stdout"
        },
        {
          "output_type": "stream",
          "text": [
            "196/196 [==============================] - 58s 294ms/step - loss: 0.5128 - acc: 0.8868 - val_loss: 0.7593 - val_acc: 0.8212\n",
            "\n",
            "Epoch 00030: val_acc did not improve from 0.82570\n",
            "Epoch 31/200\n",
            "196/196 [==============================] - 58s 295ms/step - loss: 0.5125 - acc: 0.8872 - val_loss: 0.8462 - val_acc: 0.7982\n",
            "\n",
            "Epoch 00031: val_acc did not improve from 0.82570\n",
            "Epoch 32/200\n",
            " 80/196 [===========>..................] - ETA: 31s - loss: 0.4966 - acc: 0.8918"
          ],
          "name": "stdout"
        },
        {
          "output_type": "stream",
          "text": [
            "196/196 [==============================] - 58s 295ms/step - loss: 0.5010 - acc: 0.8910 - val_loss: 0.6629 - val_acc: 0.8492\n",
            "\n",
            "Epoch 00032: val_acc improved from 0.82570 to 0.84920, saving model to /content/saved_models/resnetv2_depth_20_model.032.h5\n",
            "Epoch 33/200\n",
            "196/196 [==============================] - 58s 294ms/step - loss: 0.4950 - acc: 0.8944 - val_loss: 0.8861 - val_acc: 0.7976\n",
            "\n",
            "Epoch 00033: val_acc did not improve from 0.84920\n",
            "Epoch 34/200\n",
            " 42/196 [=====>........................] - ETA: 41s - loss: 0.4747 - acc: 0.9022"
          ],
          "name": "stdout"
        },
        {
          "output_type": "stream",
          "text": [
            "196/196 [==============================] - 58s 295ms/step - loss: 0.4882 - acc: 0.8962 - val_loss: 0.7242 - val_acc: 0.8230\n",
            "\n",
            "Epoch 00034: val_acc did not improve from 0.84920\n",
            "Epoch 35/200\n",
            "196/196 [==============================] - 58s 296ms/step - loss: 0.4796 - acc: 0.8981 - val_loss: 0.8582 - val_acc: 0.7940\n",
            "\n",
            "Epoch 00035: val_acc did not improve from 0.84920\n",
            "Epoch 36/200\n",
            " 75/196 [==========>...................] - ETA: 33s - loss: 0.4671 - acc: 0.9036"
          ],
          "name": "stdout"
        },
        {
          "output_type": "stream",
          "text": [
            "196/196 [==============================] - 58s 295ms/step - loss: 0.4775 - acc: 0.8999 - val_loss: 0.8686 - val_acc: 0.7990\n",
            "\n",
            "Epoch 00036: val_acc did not improve from 0.84920\n",
            "Epoch 37/200\n",
            "196/196 [==============================] - 58s 295ms/step - loss: 0.4741 - acc: 0.8990 - val_loss: 0.9677 - val_acc: 0.7812\n",
            "\n",
            "Epoch 00037: val_acc did not improve from 0.84920\n",
            "Epoch 38/200\n",
            " 81/196 [===========>..................] - ETA: 31s - loss: 0.4569 - acc: 0.9043"
          ],
          "name": "stdout"
        },
        {
          "output_type": "stream",
          "text": [
            "196/196 [==============================] - 58s 295ms/step - loss: 0.4651 - acc: 0.9017 - val_loss: 0.7297 - val_acc: 0.8271\n",
            "\n",
            "Epoch 00038: val_acc did not improve from 0.84920\n",
            "Epoch 39/200\n",
            "196/196 [==============================] - 58s 296ms/step - loss: 0.4670 - acc: 0.9029 - val_loss: 0.6783 - val_acc: 0.8366\n",
            "\n",
            "Epoch 00039: val_acc did not improve from 0.84920\n",
            "Epoch 40/200\n",
            " 82/196 [===========>..................] - ETA: 31s - loss: 0.4551 - acc: 0.9073"
          ],
          "name": "stdout"
        },
        {
          "output_type": "stream",
          "text": [
            "196/196 [==============================] - 58s 295ms/step - loss: 0.4604 - acc: 0.9043 - val_loss: 0.7343 - val_acc: 0.8258\n",
            "\n",
            "Epoch 00040: val_acc did not improve from 0.84920\n",
            "Epoch 41/200\n",
            "196/196 [==============================] - 58s 294ms/step - loss: 0.4551 - acc: 0.9058 - val_loss: 0.8154 - val_acc: 0.8147\n",
            "\n",
            "Epoch 00041: val_acc did not improve from 0.84920\n",
            "Epoch 42/200\n",
            " 82/196 [===========>..................] - ETA: 31s - loss: 0.4354 - acc: 0.9126"
          ],
          "name": "stdout"
        },
        {
          "output_type": "stream",
          "text": [
            "196/196 [==============================] - 58s 295ms/step - loss: 0.4467 - acc: 0.9090 - val_loss: 0.8033 - val_acc: 0.8125\n",
            "\n",
            "Epoch 00042: val_acc did not improve from 0.84920\n",
            "Epoch 43/200\n",
            "196/196 [==============================] - 58s 295ms/step - loss: 0.4439 - acc: 0.9091 - val_loss: 0.8855 - val_acc: 0.8006\n",
            "\n",
            "Epoch 00043: val_acc did not improve from 0.84920\n",
            "Epoch 44/200\n",
            " 82/196 [===========>..................] - ETA: 30s - loss: 0.4314 - acc: 0.9130"
          ],
          "name": "stdout"
        },
        {
          "output_type": "stream",
          "text": [
            "196/196 [==============================] - 58s 295ms/step - loss: 0.4442 - acc: 0.9091 - val_loss: 0.8817 - val_acc: 0.7932\n",
            "\n",
            "Epoch 00044: val_acc did not improve from 0.84920\n",
            "Epoch 45/200\n",
            "196/196 [==============================] - 58s 296ms/step - loss: 0.4363 - acc: 0.9116 - val_loss: 0.7734 - val_acc: 0.8176\n",
            "\n",
            "Epoch 00045: val_acc did not improve from 0.84920\n",
            "Epoch 46/200\n",
            " 82/196 [===========>..................] - ETA: 31s - loss: 0.4258 - acc: 0.9151"
          ],
          "name": "stdout"
        },
        {
          "output_type": "stream",
          "text": [
            "196/196 [==============================] - 58s 297ms/step - loss: 0.4336 - acc: 0.9124 - val_loss: 0.7111 - val_acc: 0.8394\n",
            "\n",
            "Epoch 00046: val_acc did not improve from 0.84920\n",
            "Epoch 47/200\n",
            "196/196 [==============================] - 58s 296ms/step - loss: 0.4265 - acc: 0.9152 - val_loss: 0.9792 - val_acc: 0.7765\n",
            "\n",
            "Epoch 00047: val_acc did not improve from 0.84920\n",
            "Epoch 48/200\n",
            " 82/196 [===========>..................] - ETA: 31s - loss: 0.4286 - acc: 0.9148"
          ],
          "name": "stdout"
        },
        {
          "output_type": "stream",
          "text": [
            "196/196 [==============================] - 58s 297ms/step - loss: 0.4332 - acc: 0.9128 - val_loss: 0.6670 - val_acc: 0.8443\n",
            "\n",
            "Epoch 00048: val_acc did not improve from 0.84920\n",
            "Epoch 49/200\n",
            "196/196 [==============================] - 58s 296ms/step - loss: 0.4227 - acc: 0.9167 - val_loss: 0.9016 - val_acc: 0.7972\n",
            "\n",
            "Epoch 00049: val_acc did not improve from 0.84920\n",
            "Epoch 50/200\n",
            " 82/196 [===========>..................] - ETA: 31s - loss: 0.4168 - acc: 0.9195"
          ],
          "name": "stdout"
        },
        {
          "output_type": "stream",
          "text": [
            "196/196 [==============================] - 58s 296ms/step - loss: 0.4253 - acc: 0.9162 - val_loss: 0.9221 - val_acc: 0.7929\n",
            "\n",
            "Epoch 00050: val_acc did not improve from 0.84920\n",
            "Epoch 51/200\n",
            "196/196 [==============================] - 58s 296ms/step - loss: 0.4244 - acc: 0.9159 - val_loss: 0.7074 - val_acc: 0.8432\n",
            "\n",
            "Epoch 00051: val_acc did not improve from 0.84920\n",
            "Epoch 52/200\n",
            " 82/196 [===========>..................] - ETA: 31s - loss: 0.4021 - acc: 0.9224"
          ],
          "name": "stdout"
        },
        {
          "output_type": "stream",
          "text": [
            "196/196 [==============================] - 58s 296ms/step - loss: 0.4131 - acc: 0.9201 - val_loss: 0.7208 - val_acc: 0.8285\n",
            "\n",
            "Epoch 00052: val_acc did not improve from 0.84920\n",
            "Epoch 53/200\n",
            "196/196 [==============================] - 58s 296ms/step - loss: 0.4102 - acc: 0.9195 - val_loss: 0.7971 - val_acc: 0.8187\n",
            "\n",
            "Epoch 00053: val_acc did not improve from 0.84920\n",
            "Epoch 54/200\n",
            " 82/196 [===========>..................] - ETA: 31s - loss: 0.3931 - acc: 0.9265"
          ],
          "name": "stdout"
        },
        {
          "output_type": "stream",
          "text": [
            "196/196 [==============================] - 58s 297ms/step - loss: 0.4117 - acc: 0.9190 - val_loss: 0.7986 - val_acc: 0.8247\n",
            "\n",
            "Epoch 00054: val_acc did not improve from 0.84920\n",
            "Epoch 55/200\n",
            "196/196 [==============================] - 58s 297ms/step - loss: 0.4065 - acc: 0.9214 - val_loss: 0.6135 - val_acc: 0.8574\n",
            "\n",
            "Epoch 00055: val_acc improved from 0.84920 to 0.85740, saving model to /content/saved_models/resnetv2_depth_20_model.055.h5\n",
            "Epoch 56/200\n",
            " 70/196 [=========>....................] - ETA: 34s - loss: 0.3969 - acc: 0.9249"
          ],
          "name": "stdout"
        },
        {
          "output_type": "stream",
          "text": [
            "196/196 [==============================] - 58s 296ms/step - loss: 0.4046 - acc: 0.9227 - val_loss: 0.7600 - val_acc: 0.8302\n",
            "\n",
            "Epoch 00056: val_acc did not improve from 0.85740\n",
            "Epoch 57/200\n",
            "196/196 [==============================] - 58s 295ms/step - loss: 0.4051 - acc: 0.9220 - val_loss: 0.7145 - val_acc: 0.8400\n",
            "\n",
            "Epoch 00057: val_acc did not improve from 0.85740\n",
            "Epoch 58/200\n",
            " 80/196 [===========>..................] - ETA: 31s - loss: 0.3911 - acc: 0.9276"
          ],
          "name": "stdout"
        },
        {
          "output_type": "stream",
          "text": [
            "196/196 [==============================] - 58s 295ms/step - loss: 0.4012 - acc: 0.9238 - val_loss: 0.6662 - val_acc: 0.8548\n",
            "\n",
            "Epoch 00058: val_acc did not improve from 0.85740\n",
            "Epoch 59/200\n",
            "196/196 [==============================] - 58s 296ms/step - loss: 0.4026 - acc: 0.9244 - val_loss: 0.8557 - val_acc: 0.8170\n",
            "\n",
            "Epoch 00059: val_acc did not improve from 0.85740\n",
            "Epoch 60/200\n",
            " 82/196 [===========>..................] - ETA: 31s - loss: 0.3839 - acc: 0.9283"
          ],
          "name": "stdout"
        },
        {
          "output_type": "stream",
          "text": [
            "196/196 [==============================] - 58s 296ms/step - loss: 0.3922 - acc: 0.9253 - val_loss: 0.7019 - val_acc: 0.8365\n",
            "\n",
            "Epoch 00060: val_acc did not improve from 0.85740\n",
            "Epoch 61/200\n",
            "196/196 [==============================] - 58s 296ms/step - loss: 0.3892 - acc: 0.9276 - val_loss: 0.6809 - val_acc: 0.8493\n",
            "\n",
            "Epoch 00061: val_acc did not improve from 0.85740\n",
            "Epoch 62/200\n",
            " 82/196 [===========>..................] - ETA: 31s - loss: 0.3791 - acc: 0.9327"
          ],
          "name": "stdout"
        },
        {
          "output_type": "stream",
          "text": [
            "196/196 [==============================] - 58s 296ms/step - loss: 0.3855 - acc: 0.9294 - val_loss: 0.8248 - val_acc: 0.8190\n",
            "\n",
            "Epoch 00062: val_acc did not improve from 0.85740\n",
            "Epoch 63/200\n",
            "196/196 [==============================] - 58s 296ms/step - loss: 0.3886 - acc: 0.9286 - val_loss: 0.6564 - val_acc: 0.8560\n",
            "\n",
            "Epoch 00063: val_acc did not improve from 0.85740\n",
            "Epoch 64/200\n",
            " 82/196 [===========>..................] - ETA: 31s - loss: 0.3735 - acc: 0.9323"
          ],
          "name": "stdout"
        },
        {
          "output_type": "stream",
          "text": [
            "196/196 [==============================] - 58s 296ms/step - loss: 0.3855 - acc: 0.9282 - val_loss: 0.7058 - val_acc: 0.8349\n",
            "\n",
            "Epoch 00064: val_acc did not improve from 0.85740\n",
            "Epoch 65/200\n",
            "196/196 [==============================] - 58s 297ms/step - loss: 0.3855 - acc: 0.9287 - val_loss: 0.7321 - val_acc: 0.8479\n",
            "\n",
            "Epoch 00065: val_acc did not improve from 0.85740\n",
            "Epoch 66/200\n",
            " 82/196 [===========>..................] - ETA: 31s - loss: 0.3635 - acc: 0.9370"
          ],
          "name": "stdout"
        },
        {
          "output_type": "stream",
          "text": [
            "196/196 [==============================] - 58s 297ms/step - loss: 0.3803 - acc: 0.9304 - val_loss: 0.8192 - val_acc: 0.8287\n",
            "\n",
            "Epoch 00066: val_acc did not improve from 0.85740\n",
            "Epoch 67/200\n",
            "196/196 [==============================] - 58s 297ms/step - loss: 0.3851 - acc: 0.9292 - val_loss: 0.8965 - val_acc: 0.8065\n",
            "\n",
            "Epoch 00067: val_acc did not improve from 0.85740\n",
            "Epoch 68/200\n",
            " 82/196 [===========>..................] - ETA: 31s - loss: 0.3681 - acc: 0.9350"
          ],
          "name": "stdout"
        },
        {
          "output_type": "stream",
          "text": [
            "196/196 [==============================] - 58s 296ms/step - loss: 0.3793 - acc: 0.9302 - val_loss: 1.1947 - val_acc: 0.7496\n",
            "\n",
            "Epoch 00068: val_acc did not improve from 0.85740\n",
            "Epoch 69/200\n",
            "196/196 [==============================] - 58s 297ms/step - loss: 0.3784 - acc: 0.9313 - val_loss: 0.6291 - val_acc: 0.8645\n",
            "\n",
            "Epoch 00069: val_acc improved from 0.85740 to 0.86450, saving model to /content/saved_models/resnetv2_depth_20_model.069.h5\n",
            "Epoch 70/200\n",
            " 70/196 [=========>....................] - ETA: 34s - loss: 0.3603 - acc: 0.9375"
          ],
          "name": "stdout"
        },
        {
          "output_type": "stream",
          "text": [
            "196/196 [==============================] - 58s 296ms/step - loss: 0.3705 - acc: 0.9341 - val_loss: 0.7013 - val_acc: 0.8382\n",
            "\n",
            "Epoch 00070: val_acc did not improve from 0.86450\n",
            "Epoch 71/200\n",
            "196/196 [==============================] - 58s 297ms/step - loss: 0.3774 - acc: 0.9311 - val_loss: 0.7066 - val_acc: 0.8450\n",
            "\n",
            "Epoch 00071: val_acc did not improve from 0.86450\n",
            "Epoch 72/200\n",
            " 80/196 [===========>..................] - ETA: 31s - loss: 0.3619 - acc: 0.9371"
          ],
          "name": "stdout"
        },
        {
          "output_type": "stream",
          "text": [
            "196/196 [==============================] - 58s 297ms/step - loss: 0.3694 - acc: 0.9344 - val_loss: 0.6658 - val_acc: 0.8548\n",
            "\n",
            "Epoch 00072: val_acc did not improve from 0.86450\n",
            "Epoch 73/200\n",
            "196/196 [==============================] - 58s 296ms/step - loss: 0.3724 - acc: 0.9327 - val_loss: 0.6819 - val_acc: 0.8536\n",
            "\n",
            "Epoch 00073: val_acc did not improve from 0.86450\n",
            "Epoch 74/200\n",
            " 82/196 [===========>..................] - ETA: 31s - loss: 0.3535 - acc: 0.9402"
          ],
          "name": "stdout"
        },
        {
          "output_type": "stream",
          "text": [
            "196/196 [==============================] - 58s 296ms/step - loss: 0.3665 - acc: 0.9353 - val_loss: 0.7260 - val_acc: 0.8409\n",
            "\n",
            "Epoch 00074: val_acc did not improve from 0.86450\n",
            "Epoch 75/200\n",
            "196/196 [==============================] - 58s 297ms/step - loss: 0.3643 - acc: 0.9357 - val_loss: 0.6603 - val_acc: 0.8615\n",
            "\n",
            "Epoch 00075: val_acc did not improve from 0.86450\n",
            "Epoch 76/200\n",
            " 82/196 [===========>..................] - ETA: 31s - loss: 0.3520 - acc: 0.9400"
          ],
          "name": "stdout"
        },
        {
          "output_type": "stream",
          "text": [
            "196/196 [==============================] - 58s 297ms/step - loss: 0.3616 - acc: 0.9368 - val_loss: 0.7685 - val_acc: 0.8399\n",
            "\n",
            "Epoch 00076: val_acc did not improve from 0.86450\n",
            "Epoch 77/200\n",
            "196/196 [==============================] - 58s 296ms/step - loss: 0.3666 - acc: 0.9353 - val_loss: 0.7511 - val_acc: 0.8395\n",
            "\n",
            "Epoch 00077: val_acc did not improve from 0.86450\n",
            "Epoch 78/200\n",
            " 82/196 [===========>..................] - ETA: 31s - loss: 0.3497 - acc: 0.9413"
          ],
          "name": "stdout"
        },
        {
          "output_type": "stream",
          "text": [
            "196/196 [==============================] - 58s 296ms/step - loss: 0.3542 - acc: 0.9389 - val_loss: 0.8867 - val_acc: 0.8099\n",
            "\n",
            "Epoch 00078: val_acc did not improve from 0.86450\n",
            "Epoch 79/200\n",
            "196/196 [==============================] - 58s 296ms/step - loss: 0.3627 - acc: 0.9360 - val_loss: 0.7003 - val_acc: 0.8500\n",
            "\n",
            "Epoch 00079: val_acc did not improve from 0.86450\n",
            "Epoch 80/200\n",
            " 82/196 [===========>..................] - ETA: 31s - loss: 0.3499 - acc: 0.9414"
          ],
          "name": "stdout"
        },
        {
          "output_type": "stream",
          "text": [
            "196/196 [==============================] - 59s 303ms/step - loss: 0.3594 - acc: 0.9382 - val_loss: 0.8244 - val_acc: 0.8180\n",
            "\n",
            "Epoch 00080: val_acc did not improve from 0.86450\n",
            "Epoch 81/200\n",
            "196/196 [==============================] - 58s 297ms/step - loss: 0.3608 - acc: 0.9373 - val_loss: 0.6816 - val_acc: 0.8594\n",
            "\n",
            "Epoch 00081: val_acc did not improve from 0.86450\n",
            "Epoch 82/200\n",
            " 82/196 [===========>..................] - ETA: 31s - loss: 0.3127 - acc: 0.9563"
          ],
          "name": "stdout"
        },
        {
          "output_type": "stream",
          "text": [
            "196/196 [==============================] - 58s 297ms/step - loss: 0.2986 - acc: 0.9614 - val_loss: 0.5137 - val_acc: 0.8987\n",
            "\n",
            "Epoch 00082: val_acc improved from 0.86450 to 0.89870, saving model to /content/saved_models/resnetv2_depth_20_model.082.h5\n",
            "Epoch 83/200\n",
            "196/196 [==============================] - 58s 297ms/step - loss: 0.2734 - acc: 0.9698 - val_loss: 0.5127 - val_acc: 0.8962\n",
            "\n",
            "Epoch 00083: val_acc did not improve from 0.89870\n",
            "Epoch 84/200\n",
            " 42/196 [=====>........................] - ETA: 42s - loss: 0.2627 - acc: 0.9757"
          ],
          "name": "stdout"
        },
        {
          "output_type": "stream",
          "text": [
            "196/196 [==============================] - 58s 296ms/step - loss: 0.2636 - acc: 0.9741 - val_loss: 0.5091 - val_acc: 0.8998\n",
            "\n",
            "Epoch 00084: val_acc improved from 0.89870 to 0.89980, saving model to /content/saved_models/resnetv2_depth_20_model.084.h5\n",
            "Epoch 85/200\n",
            "196/196 [==============================] - 58s 295ms/step - loss: 0.2564 - acc: 0.9756 - val_loss: 0.5184 - val_acc: 0.8987\n",
            "\n",
            "Epoch 00085: val_acc did not improve from 0.89980\n",
            "Epoch 86/200\n",
            " 36/196 [====>.........................] - ETA: 44s - loss: 0.2497 - acc: 0.9780"
          ],
          "name": "stdout"
        },
        {
          "output_type": "stream",
          "text": [
            "196/196 [==============================] - 58s 297ms/step - loss: 0.2500 - acc: 0.9779 - val_loss: 0.5151 - val_acc: 0.9019\n",
            "\n",
            "Epoch 00086: val_acc improved from 0.89980 to 0.90190, saving model to /content/saved_models/resnetv2_depth_20_model.086.h5\n",
            "Epoch 87/200\n",
            "196/196 [==============================] - 58s 297ms/step - loss: 0.2473 - acc: 0.9780 - val_loss: 0.5047 - val_acc: 0.9023\n",
            "\n",
            "Epoch 00087: val_acc improved from 0.90190 to 0.90230, saving model to /content/saved_models/resnetv2_depth_20_model.087.h5\n",
            "Epoch 88/200\n",
            " 30/196 [===>..........................] - ETA: 45s - loss: 0.2422 - acc: 0.9801"
          ],
          "name": "stdout"
        },
        {
          "output_type": "stream",
          "text": [
            "196/196 [==============================] - 58s 297ms/step - loss: 0.2421 - acc: 0.9797 - val_loss: 0.5051 - val_acc: 0.9039\n",
            "\n",
            "Epoch 00088: val_acc improved from 0.90230 to 0.90390, saving model to /content/saved_models/resnetv2_depth_20_model.088.h5\n",
            "Epoch 89/200\n",
            "196/196 [==============================] - 58s 296ms/step - loss: 0.2388 - acc: 0.9805 - val_loss: 0.5076 - val_acc: 0.9040\n",
            "\n",
            "Epoch 00089: val_acc improved from 0.90390 to 0.90400, saving model to /content/saved_models/resnetv2_depth_20_model.089.h5\n",
            "Epoch 90/200\n",
            " 29/196 [===>..........................] - ETA: 45s - loss: 0.2347 - acc: 0.9820"
          ],
          "name": "stdout"
        },
        {
          "output_type": "stream",
          "text": [
            "196/196 [==============================] - 58s 297ms/step - loss: 0.2371 - acc: 0.9809 - val_loss: 0.5084 - val_acc: 0.9013\n",
            "\n",
            "Epoch 00090: val_acc did not improve from 0.90400\n",
            "Epoch 91/200\n",
            "196/196 [==============================] - 58s 296ms/step - loss: 0.2315 - acc: 0.9822 - val_loss: 0.5071 - val_acc: 0.9053\n",
            "\n",
            "Epoch 00091: val_acc improved from 0.90400 to 0.90530, saving model to /content/saved_models/resnetv2_depth_20_model.091.h5\n",
            "Epoch 92/200\n",
            " 62/196 [========>.....................] - ETA: 37s - loss: 0.2259 - acc: 0.9847"
          ],
          "name": "stdout"
        },
        {
          "output_type": "stream",
          "text": [
            "196/196 [==============================] - 58s 297ms/step - loss: 0.2271 - acc: 0.9836 - val_loss: 0.5057 - val_acc: 0.9039\n",
            "\n",
            "Epoch 00092: val_acc did not improve from 0.90530\n",
            "Epoch 93/200\n",
            "196/196 [==============================] - 58s 296ms/step - loss: 0.2251 - acc: 0.9829 - val_loss: 0.5140 - val_acc: 0.9026\n",
            "\n",
            "Epoch 00093: val_acc did not improve from 0.90530\n",
            "Epoch 94/200\n",
            " 79/196 [===========>..................] - ETA: 31s - loss: 0.2213 - acc: 0.9850"
          ],
          "name": "stdout"
        },
        {
          "output_type": "stream",
          "text": [
            "196/196 [==============================] - 58s 296ms/step - loss: 0.2217 - acc: 0.9846 - val_loss: 0.5154 - val_acc: 0.9038\n",
            "\n",
            "Epoch 00094: val_acc did not improve from 0.90530\n",
            "Epoch 95/200\n",
            "196/196 [==============================] - 58s 296ms/step - loss: 0.2188 - acc: 0.9852 - val_loss: 0.5152 - val_acc: 0.9019\n",
            "\n",
            "Epoch 00095: val_acc did not improve from 0.90530\n",
            "Epoch 96/200\n",
            " 82/196 [===========>..................] - ETA: 31s - loss: 0.2159 - acc: 0.9855"
          ],
          "name": "stdout"
        },
        {
          "output_type": "stream",
          "text": [
            "196/196 [==============================] - 58s 296ms/step - loss: 0.2169 - acc: 0.9848 - val_loss: 0.5199 - val_acc: 0.9025\n",
            "\n",
            "Epoch 00096: val_acc did not improve from 0.90530\n",
            "Epoch 97/200\n",
            "196/196 [==============================] - 58s 296ms/step - loss: 0.2116 - acc: 0.9870 - val_loss: 0.5199 - val_acc: 0.9046\n",
            "\n",
            "Epoch 00097: val_acc did not improve from 0.90530\n",
            "Epoch 98/200\n",
            " 82/196 [===========>..................] - ETA: 31s - loss: 0.2107 - acc: 0.9866"
          ],
          "name": "stdout"
        },
        {
          "output_type": "stream",
          "text": [
            "196/196 [==============================] - 58s 297ms/step - loss: 0.2113 - acc: 0.9861 - val_loss: 0.5294 - val_acc: 0.9030\n",
            "\n",
            "Epoch 00098: val_acc did not improve from 0.90530\n",
            "Epoch 99/200\n",
            "196/196 [==============================] - 58s 297ms/step - loss: 0.2115 - acc: 0.9855 - val_loss: 0.5504 - val_acc: 0.9003\n",
            "\n",
            "Epoch 00099: val_acc did not improve from 0.90530\n",
            "Epoch 100/200\n",
            " 82/196 [===========>..................] - ETA: 31s - loss: 0.2056 - acc: 0.9877"
          ],
          "name": "stdout"
        },
        {
          "output_type": "stream",
          "text": [
            "196/196 [==============================] - 58s 297ms/step - loss: 0.2079 - acc: 0.9865 - val_loss: 0.5307 - val_acc: 0.9026\n",
            "\n",
            "Epoch 00100: val_acc did not improve from 0.90530\n",
            "Epoch 101/200\n",
            "196/196 [==============================] - 58s 297ms/step - loss: 0.2062 - acc: 0.9866 - val_loss: 0.5255 - val_acc: 0.9028\n",
            "\n",
            "Epoch 00101: val_acc did not improve from 0.90530\n",
            "Epoch 102/200\n",
            " 81/196 [===========>..................] - ETA: 31s - loss: 0.2042 - acc: 0.9862"
          ],
          "name": "stdout"
        },
        {
          "output_type": "stream",
          "text": [
            "196/196 [==============================] - 58s 297ms/step - loss: 0.2047 - acc: 0.9866 - val_loss: 0.5241 - val_acc: 0.9010\n",
            "\n",
            "Epoch 00102: val_acc did not improve from 0.90530\n",
            "Epoch 103/200\n",
            "196/196 [==============================] - 58s 297ms/step - loss: 0.2004 - acc: 0.9885 - val_loss: 0.5211 - val_acc: 0.9033\n",
            "\n",
            "Epoch 00103: val_acc did not improve from 0.90530\n",
            "Epoch 104/200\n",
            " 81/196 [===========>..................] - ETA: 31s - loss: 0.1980 - acc: 0.9887"
          ],
          "name": "stdout"
        },
        {
          "output_type": "stream",
          "text": [
            "196/196 [==============================] - 58s 296ms/step - loss: 0.2003 - acc: 0.9879 - val_loss: 0.5254 - val_acc: 0.9039\n",
            "\n",
            "Epoch 00104: val_acc did not improve from 0.90530\n",
            "Epoch 105/200\n",
            "196/196 [==============================] - 58s 296ms/step - loss: 0.1969 - acc: 0.9885 - val_loss: 0.5150 - val_acc: 0.9036\n",
            "\n",
            "Epoch 00105: val_acc did not improve from 0.90530\n",
            "Epoch 106/200\n",
            " 81/196 [===========>..................] - ETA: 31s - loss: 0.1953 - acc: 0.9891"
          ],
          "name": "stdout"
        },
        {
          "output_type": "stream",
          "text": [
            "196/196 [==============================] - 58s 297ms/step - loss: 0.1963 - acc: 0.9884 - val_loss: 0.5283 - val_acc: 0.9029\n",
            "\n",
            "Epoch 00106: val_acc did not improve from 0.90530\n",
            "Epoch 107/200\n",
            "196/196 [==============================] - 58s 297ms/step - loss: 0.1940 - acc: 0.9884 - val_loss: 0.5177 - val_acc: 0.9055\n",
            "\n",
            "Epoch 00107: val_acc improved from 0.90530 to 0.90550, saving model to /content/saved_models/resnetv2_depth_20_model.107.h5\n",
            "Epoch 108/200\n",
            " 69/196 [=========>....................] - ETA: 34s - loss: 0.1882 - acc: 0.9906"
          ],
          "name": "stdout"
        },
        {
          "output_type": "stream",
          "text": [
            "196/196 [==============================] - 58s 296ms/step - loss: 0.1913 - acc: 0.9895 - val_loss: 0.5306 - val_acc: 0.9006\n",
            "\n",
            "Epoch 00108: val_acc did not improve from 0.90550\n",
            "Epoch 109/200\n",
            "196/196 [==============================] - 58s 297ms/step - loss: 0.1905 - acc: 0.9893 - val_loss: 0.5418 - val_acc: 0.9002\n",
            "\n",
            "Epoch 00109: val_acc did not improve from 0.90550\n",
            "Epoch 110/200\n",
            " 79/196 [===========>..................] - ETA: 32s - loss: 0.1872 - acc: 0.9910"
          ],
          "name": "stdout"
        },
        {
          "output_type": "stream",
          "text": [
            "196/196 [==============================] - 58s 296ms/step - loss: 0.1892 - acc: 0.9897 - val_loss: 0.5277 - val_acc: 0.9047\n",
            "\n",
            "Epoch 00110: val_acc did not improve from 0.90550\n",
            "Epoch 111/200\n",
            "196/196 [==============================] - 58s 296ms/step - loss: 0.1863 - acc: 0.9902 - val_loss: 0.5279 - val_acc: 0.9045\n",
            "\n",
            "Epoch 00111: val_acc did not improve from 0.90550\n",
            "Epoch 112/200\n",
            " 81/196 [===========>..................] - ETA: 31s - loss: 0.1843 - acc: 0.9901"
          ],
          "name": "stdout"
        },
        {
          "output_type": "stream",
          "text": [
            "196/196 [==============================] - 58s 296ms/step - loss: 0.1845 - acc: 0.9901 - val_loss: 0.5402 - val_acc: 0.9006\n",
            "\n",
            "Epoch 00112: val_acc did not improve from 0.90550\n",
            "Epoch 113/200\n",
            "196/196 [==============================] - 58s 296ms/step - loss: 0.1841 - acc: 0.9903 - val_loss: 0.5301 - val_acc: 0.9020\n",
            "\n",
            "Epoch 00113: val_acc did not improve from 0.90550\n",
            "Epoch 114/200\n",
            " 81/196 [===========>..................] - ETA: 31s - loss: 0.1815 - acc: 0.9913"
          ],
          "name": "stdout"
        },
        {
          "output_type": "stream",
          "text": [
            "196/196 [==============================] - 58s 297ms/step - loss: 0.1813 - acc: 0.9909 - val_loss: 0.5212 - val_acc: 0.9034\n",
            "\n",
            "Epoch 00114: val_acc did not improve from 0.90550\n",
            "Epoch 115/200\n",
            "196/196 [==============================] - 58s 296ms/step - loss: 0.1803 - acc: 0.9907 - val_loss: 0.5188 - val_acc: 0.9061\n",
            "\n",
            "Epoch 00115: val_acc improved from 0.90550 to 0.90610, saving model to /content/saved_models/resnetv2_depth_20_model.115.h5\n",
            "Epoch 116/200\n",
            " 69/196 [=========>....................] - ETA: 35s - loss: 0.1809 - acc: 0.9896"
          ],
          "name": "stdout"
        },
        {
          "output_type": "stream",
          "text": [
            "196/196 [==============================] - 58s 297ms/step - loss: 0.1786 - acc: 0.9911 - val_loss: 0.5417 - val_acc: 0.8991\n",
            "\n",
            "Epoch 00116: val_acc did not improve from 0.90610\n",
            "Epoch 117/200\n",
            "196/196 [==============================] - 58s 296ms/step - loss: 0.1776 - acc: 0.9905 - val_loss: 0.5255 - val_acc: 0.9039\n",
            "\n",
            "Epoch 00117: val_acc did not improve from 0.90610\n",
            "Epoch 118/200\n",
            " 79/196 [===========>..................] - ETA: 32s - loss: 0.1741 - acc: 0.9926"
          ],
          "name": "stdout"
        },
        {
          "output_type": "stream",
          "text": [
            "196/196 [==============================] - 58s 297ms/step - loss: 0.1764 - acc: 0.9911 - val_loss: 0.5402 - val_acc: 0.9004\n",
            "\n",
            "Epoch 00118: val_acc did not improve from 0.90610\n",
            "Epoch 119/200\n",
            "196/196 [==============================] - 58s 296ms/step - loss: 0.1747 - acc: 0.9911 - val_loss: 0.5286 - val_acc: 0.9024\n",
            "\n",
            "Epoch 00119: val_acc did not improve from 0.90610\n",
            "Epoch 120/200\n",
            " 81/196 [===========>..................] - ETA: 31s - loss: 0.1736 - acc: 0.9907"
          ],
          "name": "stdout"
        },
        {
          "output_type": "stream",
          "text": [
            "196/196 [==============================] - 58s 298ms/step - loss: 0.1729 - acc: 0.9913 - val_loss: 0.5373 - val_acc: 0.8997\n",
            "\n",
            "Epoch 00120: val_acc did not improve from 0.90610\n",
            "Epoch 121/200\n",
            "196/196 [==============================] - 58s 297ms/step - loss: 0.1714 - acc: 0.9921 - val_loss: 0.5326 - val_acc: 0.9045\n",
            "\n",
            "Epoch 00121: val_acc did not improve from 0.90610\n",
            "Epoch 122/200\n",
            " 81/196 [===========>..................] - ETA: 31s - loss: 0.1701 - acc: 0.9922"
          ],
          "name": "stdout"
        },
        {
          "output_type": "stream",
          "text": [
            "196/196 [==============================] - 58s 297ms/step - loss: 0.1692 - acc: 0.9928 - val_loss: 0.5161 - val_acc: 0.9071\n",
            "\n",
            "Epoch 00122: val_acc improved from 0.90610 to 0.90710, saving model to /content/saved_models/resnetv2_depth_20_model.122.h5\n",
            "Epoch 123/200\n",
            "196/196 [==============================] - 58s 297ms/step - loss: 0.1673 - acc: 0.9931 - val_loss: 0.5162 - val_acc: 0.9084\n",
            "\n",
            "Epoch 00123: val_acc improved from 0.90710 to 0.90840, saving model to /content/saved_models/resnetv2_depth_20_model.123.h5\n",
            "Epoch 124/200\n",
            " 36/196 [====>.........................] - ETA: 44s - loss: 0.1689 - acc: 0.9920"
          ],
          "name": "stdout"
        },
        {
          "output_type": "stream",
          "text": [
            "196/196 [==============================] - 58s 297ms/step - loss: 0.1656 - acc: 0.9941 - val_loss: 0.5163 - val_acc: 0.9087\n",
            "\n",
            "Epoch 00124: val_acc improved from 0.90840 to 0.90870, saving model to /content/saved_models/resnetv2_depth_20_model.124.h5\n",
            "Epoch 125/200\n",
            "196/196 [==============================] - 58s 298ms/step - loss: 0.1666 - acc: 0.9932 - val_loss: 0.5158 - val_acc: 0.9081\n",
            "\n",
            "Epoch 00125: val_acc did not improve from 0.90870\n",
            "Epoch 126/200\n",
            " 35/196 [====>.........................] - ETA: 43s - loss: 0.1666 - acc: 0.9924"
          ],
          "name": "stdout"
        },
        {
          "output_type": "stream",
          "text": [
            "196/196 [==============================] - 58s 296ms/step - loss: 0.1652 - acc: 0.9940 - val_loss: 0.5141 - val_acc: 0.9083\n",
            "\n",
            "Epoch 00126: val_acc did not improve from 0.90870\n",
            "Epoch 127/200\n",
            "196/196 [==============================] - 58s 296ms/step - loss: 0.1649 - acc: 0.9940 - val_loss: 0.5133 - val_acc: 0.9082\n",
            "\n",
            "Epoch 00127: val_acc did not improve from 0.90870\n",
            "Epoch 128/200\n",
            " 73/196 [==========>...................] - ETA: 33s - loss: 0.1647 - acc: 0.9936"
          ],
          "name": "stdout"
        },
        {
          "output_type": "stream",
          "text": [
            "196/196 [==============================] - 58s 297ms/step - loss: 0.1641 - acc: 0.9943 - val_loss: 0.5155 - val_acc: 0.9065\n",
            "\n",
            "Epoch 00128: val_acc did not improve from 0.90870\n",
            "Epoch 129/200\n",
            "196/196 [==============================] - 58s 297ms/step - loss: 0.1639 - acc: 0.9949 - val_loss: 0.5156 - val_acc: 0.9071\n",
            "\n",
            "Epoch 00129: val_acc did not improve from 0.90870\n",
            "Epoch 130/200\n",
            " 80/196 [===========>..................] - ETA: 31s - loss: 0.1651 - acc: 0.9939"
          ],
          "name": "stdout"
        },
        {
          "output_type": "stream",
          "text": [
            "196/196 [==============================] - 58s 296ms/step - loss: 0.1639 - acc: 0.9943 - val_loss: 0.5149 - val_acc: 0.9078\n",
            "\n",
            "Epoch 00130: val_acc did not improve from 0.90870\n",
            "Epoch 131/200\n",
            "196/196 [==============================] - 58s 296ms/step - loss: 0.1635 - acc: 0.9945 - val_loss: 0.5164 - val_acc: 0.9078\n",
            "\n",
            "Epoch 00131: val_acc did not improve from 0.90870\n",
            "Epoch 132/200\n",
            " 81/196 [===========>..................] - ETA: 31s - loss: 0.1629 - acc: 0.9945"
          ],
          "name": "stdout"
        },
        {
          "output_type": "stream",
          "text": [
            "196/196 [==============================] - 58s 296ms/step - loss: 0.1633 - acc: 0.9942 - val_loss: 0.5147 - val_acc: 0.9083\n",
            "\n",
            "Epoch 00132: val_acc did not improve from 0.90870\n",
            "Epoch 133/200\n",
            "196/196 [==============================] - 58s 296ms/step - loss: 0.1633 - acc: 0.9946 - val_loss: 0.5127 - val_acc: 0.9073\n",
            "\n",
            "Epoch 00133: val_acc did not improve from 0.90870\n",
            "Epoch 134/200\n",
            " 81/196 [===========>..................] - ETA: 31s - loss: 0.1631 - acc: 0.9939"
          ],
          "name": "stdout"
        },
        {
          "output_type": "stream",
          "text": [
            "196/196 [==============================] - 58s 297ms/step - loss: 0.1634 - acc: 0.9942 - val_loss: 0.5133 - val_acc: 0.9081\n",
            "\n",
            "Epoch 00134: val_acc did not improve from 0.90870\n",
            "Epoch 135/200\n",
            "196/196 [==============================] - 58s 297ms/step - loss: 0.1620 - acc: 0.9949 - val_loss: 0.5119 - val_acc: 0.9085\n",
            "\n",
            "Epoch 00135: val_acc did not improve from 0.90870\n",
            "Epoch 136/200\n",
            " 81/196 [===========>..................] - ETA: 31s - loss: 0.1612 - acc: 0.9951"
          ],
          "name": "stdout"
        },
        {
          "output_type": "stream",
          "text": [
            "196/196 [==============================] - 58s 297ms/step - loss: 0.1619 - acc: 0.9949 - val_loss: 0.5169 - val_acc: 0.9076\n",
            "\n",
            "Epoch 00136: val_acc did not improve from 0.90870\n",
            "Epoch 137/200\n",
            "196/196 [==============================] - 58s 296ms/step - loss: 0.1635 - acc: 0.9942 - val_loss: 0.5143 - val_acc: 0.9075\n",
            "\n",
            "Epoch 00137: val_acc did not improve from 0.90870\n",
            "Epoch 138/200\n",
            " 81/196 [===========>..................] - ETA: 31s - loss: 0.1623 - acc: 0.9945"
          ],
          "name": "stdout"
        },
        {
          "output_type": "stream",
          "text": [
            "196/196 [==============================] - 58s 297ms/step - loss: 0.1628 - acc: 0.9942 - val_loss: 0.5160 - val_acc: 0.9087\n",
            "\n",
            "Epoch 00138: val_acc did not improve from 0.90870\n",
            "Epoch 139/200\n",
            "196/196 [==============================] - 58s 296ms/step - loss: 0.1616 - acc: 0.9947 - val_loss: 0.5129 - val_acc: 0.9073\n",
            "\n",
            "Epoch 00139: val_acc did not improve from 0.90870\n",
            "Epoch 140/200\n",
            " 81/196 [===========>..................] - ETA: 31s - loss: 0.1621 - acc: 0.9946"
          ],
          "name": "stdout"
        },
        {
          "output_type": "stream",
          "text": [
            "196/196 [==============================] - 58s 296ms/step - loss: 0.1620 - acc: 0.9947 - val_loss: 0.5154 - val_acc: 0.9086\n",
            "\n",
            "Epoch 00140: val_acc did not improve from 0.90870\n",
            "Epoch 141/200\n",
            "196/196 [==============================] - 58s 296ms/step - loss: 0.1611 - acc: 0.9953 - val_loss: 0.5146 - val_acc: 0.9087\n",
            "\n",
            "Epoch 00141: val_acc did not improve from 0.90870\n",
            "Epoch 142/200\n",
            " 81/196 [===========>..................] - ETA: 31s - loss: 0.1606 - acc: 0.9952"
          ],
          "name": "stdout"
        },
        {
          "output_type": "stream",
          "text": [
            "196/196 [==============================] - 58s 295ms/step - loss: 0.1607 - acc: 0.9955 - val_loss: 0.5167 - val_acc: 0.9079\n",
            "\n",
            "Epoch 00142: val_acc did not improve from 0.90870\n",
            "Epoch 143/200\n",
            "196/196 [==============================] - 58s 297ms/step - loss: 0.1612 - acc: 0.9947 - val_loss: 0.5145 - val_acc: 0.9081\n",
            "\n",
            "Epoch 00143: val_acc did not improve from 0.90870\n",
            "Epoch 144/200\n",
            " 81/196 [===========>..................] - ETA: 31s - loss: 0.1599 - acc: 0.9954"
          ],
          "name": "stdout"
        },
        {
          "output_type": "stream",
          "text": [
            "196/196 [==============================] - 58s 296ms/step - loss: 0.1603 - acc: 0.9952 - val_loss: 0.5186 - val_acc: 0.9082\n",
            "\n",
            "Epoch 00144: val_acc did not improve from 0.90870\n",
            "Epoch 145/200\n",
            "196/196 [==============================] - 58s 297ms/step - loss: 0.1596 - acc: 0.9954 - val_loss: 0.5152 - val_acc: 0.9081\n",
            "\n",
            "Epoch 00145: val_acc did not improve from 0.90870\n",
            "Epoch 146/200\n",
            " 81/196 [===========>..................] - ETA: 31s - loss: 0.1602 - acc: 0.9951"
          ],
          "name": "stdout"
        },
        {
          "output_type": "stream",
          "text": [
            "196/196 [==============================] - 58s 296ms/step - loss: 0.1607 - acc: 0.9948 - val_loss: 0.5193 - val_acc: 0.9083\n",
            "\n",
            "Epoch 00146: val_acc did not improve from 0.90870\n",
            "Epoch 147/200\n",
            "196/196 [==============================] - 58s 296ms/step - loss: 0.1598 - acc: 0.9951 - val_loss: 0.5153 - val_acc: 0.9076\n",
            "\n",
            "Epoch 00147: val_acc did not improve from 0.90870\n",
            "Epoch 148/200\n",
            " 81/196 [===========>..................] - ETA: 31s - loss: 0.1592 - acc: 0.9954"
          ],
          "name": "stdout"
        },
        {
          "output_type": "stream",
          "text": [
            "196/196 [==============================] - 58s 296ms/step - loss: 0.1595 - acc: 0.9952 - val_loss: 0.5153 - val_acc: 0.9083\n",
            "\n",
            "Epoch 00148: val_acc did not improve from 0.90870\n",
            "Epoch 149/200\n",
            "196/196 [==============================] - 58s 296ms/step - loss: 0.1596 - acc: 0.9953 - val_loss: 0.5159 - val_acc: 0.9094\n",
            "\n",
            "Epoch 00149: val_acc improved from 0.90870 to 0.90940, saving model to /content/saved_models/resnetv2_depth_20_model.149.h5\n",
            "Epoch 150/200\n",
            " 69/196 [=========>....................] - ETA: 34s - loss: 0.1588 - acc: 0.9958"
          ],
          "name": "stdout"
        },
        {
          "output_type": "stream",
          "text": [
            "196/196 [==============================] - 58s 296ms/step - loss: 0.1593 - acc: 0.9954 - val_loss: 0.5157 - val_acc: 0.9097\n",
            "\n",
            "Epoch 00150: val_acc improved from 0.90940 to 0.90970, saving model to /content/saved_models/resnetv2_depth_20_model.150.h5\n",
            "Epoch 151/200\n",
            "196/196 [==============================] - 58s 296ms/step - loss: 0.1596 - acc: 0.9950 - val_loss: 0.5178 - val_acc: 0.9091\n",
            "\n",
            "Epoch 00151: val_acc did not improve from 0.90970\n",
            "Epoch 152/200\n",
            " 40/196 [=====>........................] - ETA: 42s - loss: 0.1584 - acc: 0.9962"
          ],
          "name": "stdout"
        },
        {
          "output_type": "stream",
          "text": [
            "196/196 [==============================] - 58s 296ms/step - loss: 0.1596 - acc: 0.9951 - val_loss: 0.5160 - val_acc: 0.9084\n",
            "\n",
            "Epoch 00152: val_acc did not improve from 0.90970\n",
            "Epoch 153/200\n",
            "196/196 [==============================] - 58s 295ms/step - loss: 0.1594 - acc: 0.9952 - val_loss: 0.5131 - val_acc: 0.9095\n",
            "\n",
            "Epoch 00153: val_acc did not improve from 0.90970\n",
            "Epoch 154/200\n",
            " 74/196 [==========>...................] - ETA: 33s - loss: 0.1590 - acc: 0.9952"
          ],
          "name": "stdout"
        },
        {
          "output_type": "stream",
          "text": [
            "196/196 [==============================] - 58s 295ms/step - loss: 0.1587 - acc: 0.9953 - val_loss: 0.5189 - val_acc: 0.9073\n",
            "\n",
            "Epoch 00154: val_acc did not improve from 0.90970\n",
            "Epoch 155/200\n",
            "196/196 [==============================] - 58s 294ms/step - loss: 0.1587 - acc: 0.9954 - val_loss: 0.5192 - val_acc: 0.9084\n",
            "\n",
            "Epoch 00155: val_acc did not improve from 0.90970\n",
            "Epoch 156/200\n",
            " 80/196 [===========>..................] - ETA: 31s - loss: 0.1603 - acc: 0.9946"
          ],
          "name": "stdout"
        },
        {
          "output_type": "stream",
          "text": [
            "196/196 [==============================] - 58s 294ms/step - loss: 0.1594 - acc: 0.9949 - val_loss: 0.5195 - val_acc: 0.9081\n",
            "\n",
            "Epoch 00156: val_acc did not improve from 0.90970\n",
            "Epoch 157/200\n",
            "196/196 [==============================] - 58s 294ms/step - loss: 0.1580 - acc: 0.9955 - val_loss: 0.5170 - val_acc: 0.9087\n",
            "\n",
            "Epoch 00157: val_acc did not improve from 0.90970\n",
            "Epoch 158/200\n",
            " 81/196 [===========>..................] - ETA: 31s - loss: 0.1583 - acc: 0.9955"
          ],
          "name": "stdout"
        },
        {
          "output_type": "stream",
          "text": [
            "196/196 [==============================] - 58s 293ms/step - loss: 0.1584 - acc: 0.9951 - val_loss: 0.5183 - val_acc: 0.9083\n",
            "\n",
            "Epoch 00158: val_acc did not improve from 0.90970\n",
            "Epoch 159/200\n",
            "196/196 [==============================] - 58s 294ms/step - loss: 0.1567 - acc: 0.9961 - val_loss: 0.5211 - val_acc: 0.9084\n",
            "\n",
            "Epoch 00159: val_acc did not improve from 0.90970\n",
            "Epoch 160/200\n",
            " 81/196 [===========>..................] - ETA: 31s - loss: 0.1575 - acc: 0.9952"
          ],
          "name": "stdout"
        },
        {
          "output_type": "stream",
          "text": [
            "196/196 [==============================] - 58s 294ms/step - loss: 0.1577 - acc: 0.9953 - val_loss: 0.5216 - val_acc: 0.9084\n",
            "\n",
            "Epoch 00160: val_acc did not improve from 0.90970\n",
            "Epoch 161/200\n",
            "196/196 [==============================] - 57s 293ms/step - loss: 0.1576 - acc: 0.9952 - val_loss: 0.5198 - val_acc: 0.9087\n",
            "\n",
            "Epoch 00161: val_acc did not improve from 0.90970\n",
            "Epoch 162/200\n",
            " 81/196 [===========>..................] - ETA: 31s - loss: 0.1566 - acc: 0.9951"
          ],
          "name": "stdout"
        },
        {
          "output_type": "stream",
          "text": [
            "196/196 [==============================] - 58s 294ms/step - loss: 0.1567 - acc: 0.9954 - val_loss: 0.5197 - val_acc: 0.9089\n",
            "\n",
            "Epoch 00162: val_acc did not improve from 0.90970\n",
            "Epoch 163/200\n",
            "196/196 [==============================] - 58s 294ms/step - loss: 0.1570 - acc: 0.9954 - val_loss: 0.5190 - val_acc: 0.9086\n",
            "\n",
            "Epoch 00163: val_acc did not improve from 0.90970\n",
            "Epoch 164/200\n",
            " 82/196 [===========>..................] - ETA: 30s - loss: 0.1564 - acc: 0.9959"
          ],
          "name": "stdout"
        },
        {
          "output_type": "stream",
          "text": [
            "196/196 [==============================] - 58s 295ms/step - loss: 0.1567 - acc: 0.9958 - val_loss: 0.5188 - val_acc: 0.9083\n",
            "\n",
            "Epoch 00164: val_acc did not improve from 0.90970\n",
            "Epoch 165/200\n",
            "196/196 [==============================] - 58s 294ms/step - loss: 0.1577 - acc: 0.9955 - val_loss: 0.5186 - val_acc: 0.9083\n",
            "\n",
            "Epoch 00165: val_acc did not improve from 0.90970\n",
            "Epoch 166/200\n",
            " 81/196 [===========>..................] - ETA: 31s - loss: 0.1586 - acc: 0.9948"
          ],
          "name": "stdout"
        },
        {
          "output_type": "stream",
          "text": [
            "196/196 [==============================] - 58s 294ms/step - loss: 0.1568 - acc: 0.9957 - val_loss: 0.5186 - val_acc: 0.9084\n",
            "\n",
            "Epoch 00166: val_acc did not improve from 0.90970\n",
            "Epoch 167/200\n",
            "196/196 [==============================] - 58s 294ms/step - loss: 0.1571 - acc: 0.9957 - val_loss: 0.5188 - val_acc: 0.9087\n",
            "\n",
            "Epoch 00167: val_acc did not improve from 0.90970\n",
            "Epoch 168/200\n",
            " 81/196 [===========>..................] - ETA: 31s - loss: 0.1569 - acc: 0.9960"
          ],
          "name": "stdout"
        },
        {
          "output_type": "stream",
          "text": [
            "196/196 [==============================] - 58s 294ms/step - loss: 0.1569 - acc: 0.9958 - val_loss: 0.5185 - val_acc: 0.9089\n",
            "\n",
            "Epoch 00168: val_acc did not improve from 0.90970\n",
            "Epoch 169/200\n",
            "196/196 [==============================] - 57s 292ms/step - loss: 0.1570 - acc: 0.9958 - val_loss: 0.5184 - val_acc: 0.9087\n",
            "\n",
            "Epoch 00169: val_acc did not improve from 0.90970\n",
            "Epoch 170/200\n",
            " 81/196 [===========>..................] - ETA: 31s - loss: 0.1560 - acc: 0.9960"
          ],
          "name": "stdout"
        },
        {
          "output_type": "stream",
          "text": [
            "196/196 [==============================] - 57s 293ms/step - loss: 0.1566 - acc: 0.9957 - val_loss: 0.5176 - val_acc: 0.9087\n",
            "\n",
            "Epoch 00170: val_acc did not improve from 0.90970\n",
            "Epoch 171/200\n",
            "196/196 [==============================] - 58s 294ms/step - loss: 0.1567 - acc: 0.9957 - val_loss: 0.5172 - val_acc: 0.9087\n",
            "\n",
            "Epoch 00171: val_acc did not improve from 0.90970\n",
            "Epoch 172/200\n",
            " 81/196 [===========>..................] - ETA: 31s - loss: 0.1580 - acc: 0.9948"
          ],
          "name": "stdout"
        },
        {
          "output_type": "stream",
          "text": [
            "196/196 [==============================] - 58s 294ms/step - loss: 0.1577 - acc: 0.9953 - val_loss: 0.5181 - val_acc: 0.9087\n",
            "\n",
            "Epoch 00172: val_acc did not improve from 0.90970\n",
            "Epoch 173/200\n",
            "196/196 [==============================] - 57s 293ms/step - loss: 0.1566 - acc: 0.9958 - val_loss: 0.5182 - val_acc: 0.9089\n",
            "\n",
            "Epoch 00173: val_acc did not improve from 0.90970\n",
            "Epoch 174/200\n",
            " 81/196 [===========>..................] - ETA: 31s - loss: 0.1561 - acc: 0.9957"
          ],
          "name": "stdout"
        },
        {
          "output_type": "stream",
          "text": [
            "196/196 [==============================] - 58s 294ms/step - loss: 0.1567 - acc: 0.9957 - val_loss: 0.5184 - val_acc: 0.9085\n",
            "\n",
            "Epoch 00174: val_acc did not improve from 0.90970\n",
            "Epoch 175/200\n",
            "196/196 [==============================] - 58s 294ms/step - loss: 0.1558 - acc: 0.9962 - val_loss: 0.5184 - val_acc: 0.9085\n",
            "\n",
            "Epoch 00175: val_acc did not improve from 0.90970\n",
            "Epoch 176/200\n",
            " 81/196 [===========>..................] - ETA: 31s - loss: 0.1554 - acc: 0.9962"
          ],
          "name": "stdout"
        },
        {
          "output_type": "stream",
          "text": [
            "196/196 [==============================] - 58s 294ms/step - loss: 0.1563 - acc: 0.9955 - val_loss: 0.5187 - val_acc: 0.9085\n",
            "\n",
            "Epoch 00176: val_acc did not improve from 0.90970\n",
            "Epoch 177/200\n",
            "196/196 [==============================] - 58s 294ms/step - loss: 0.1569 - acc: 0.9956 - val_loss: 0.5183 - val_acc: 0.9084\n",
            "\n",
            "Epoch 00177: val_acc did not improve from 0.90970\n",
            "Epoch 178/200\n",
            " 81/196 [===========>..................] - ETA: 31s - loss: 0.1555 - acc: 0.9965"
          ],
          "name": "stdout"
        },
        {
          "output_type": "stream",
          "text": [
            "196/196 [==============================] - 58s 294ms/step - loss: 0.1566 - acc: 0.9957 - val_loss: 0.5187 - val_acc: 0.9085\n",
            "\n",
            "Epoch 00178: val_acc did not improve from 0.90970\n",
            "Epoch 179/200\n",
            "196/196 [==============================] - 58s 294ms/step - loss: 0.1561 - acc: 0.9958 - val_loss: 0.5184 - val_acc: 0.9079\n",
            "\n",
            "Epoch 00179: val_acc did not improve from 0.90970\n",
            "Epoch 180/200\n",
            " 81/196 [===========>..................] - ETA: 31s - loss: 0.1559 - acc: 0.9958"
          ],
          "name": "stdout"
        },
        {
          "output_type": "stream",
          "text": [
            "196/196 [==============================] - 58s 294ms/step - loss: 0.1563 - acc: 0.9957 - val_loss: 0.5187 - val_acc: 0.9082\n",
            "\n",
            "Epoch 00180: val_acc did not improve from 0.90970\n",
            "Epoch 181/200\n",
            "196/196 [==============================] - 58s 294ms/step - loss: 0.1569 - acc: 0.9957 - val_loss: 0.5190 - val_acc: 0.9083\n",
            "\n",
            "Epoch 00181: val_acc did not improve from 0.90970\n",
            "Epoch 182/200\n",
            " 81/196 [===========>..................] - ETA: 31s - loss: 0.1561 - acc: 0.9959"
          ],
          "name": "stdout"
        },
        {
          "output_type": "stream",
          "text": [
            "196/196 [==============================] - 57s 293ms/step - loss: 0.1561 - acc: 0.9958 - val_loss: 0.5190 - val_acc: 0.9087\n",
            "\n",
            "Epoch 00182: val_acc did not improve from 0.90970\n",
            "Epoch 183/200\n",
            "196/196 [==============================] - 58s 294ms/step - loss: 0.1570 - acc: 0.9955 - val_loss: 0.5190 - val_acc: 0.9086\n",
            "\n",
            "Epoch 00183: val_acc did not improve from 0.90970\n",
            "Epoch 184/200\n",
            " 82/196 [===========>..................] - ETA: 30s - loss: 0.1579 - acc: 0.9952"
          ],
          "name": "stdout"
        },
        {
          "output_type": "stream",
          "text": [
            "196/196 [==============================] - 57s 293ms/step - loss: 0.1567 - acc: 0.9957 - val_loss: 0.5183 - val_acc: 0.9085\n",
            "\n",
            "Epoch 00184: val_acc did not improve from 0.90970\n",
            "Epoch 185/200\n",
            "196/196 [==============================] - 57s 293ms/step - loss: 0.1570 - acc: 0.9954 - val_loss: 0.5196 - val_acc: 0.9081\n",
            "\n",
            "Epoch 00185: val_acc did not improve from 0.90970\n",
            "Epoch 186/200\n",
            " 81/196 [===========>..................] - ETA: 31s - loss: 0.1557 - acc: 0.9958"
          ],
          "name": "stdout"
        },
        {
          "output_type": "stream",
          "text": [
            "196/196 [==============================] - 57s 293ms/step - loss: 0.1564 - acc: 0.9957 - val_loss: 0.5195 - val_acc: 0.9084\n",
            "\n",
            "Epoch 00186: val_acc did not improve from 0.90970\n",
            "Epoch 187/200\n",
            "196/196 [==============================] - 57s 293ms/step - loss: 0.1559 - acc: 0.9959 - val_loss: 0.5193 - val_acc: 0.9084\n",
            "\n",
            "Epoch 00187: val_acc did not improve from 0.90970\n",
            "Epoch 188/200\n",
            " 81/196 [===========>..................] - ETA: 31s - loss: 0.1575 - acc: 0.9953"
          ],
          "name": "stdout"
        },
        {
          "output_type": "stream",
          "text": [
            "196/196 [==============================] - 58s 294ms/step - loss: 0.1568 - acc: 0.9957 - val_loss: 0.5193 - val_acc: 0.9085\n",
            "\n",
            "Epoch 00188: val_acc did not improve from 0.90970\n",
            "Epoch 189/200\n",
            "196/196 [==============================] - 58s 294ms/step - loss: 0.1563 - acc: 0.9957 - val_loss: 0.5190 - val_acc: 0.9083\n",
            "\n",
            "Epoch 00189: val_acc did not improve from 0.90970\n",
            "Epoch 190/200\n",
            " 81/196 [===========>..................] - ETA: 31s - loss: 0.1560 - acc: 0.9956"
          ],
          "name": "stdout"
        },
        {
          "output_type": "stream",
          "text": [
            "196/196 [==============================] - 58s 294ms/step - loss: 0.1563 - acc: 0.9957 - val_loss: 0.5198 - val_acc: 0.9082\n",
            "\n",
            "Epoch 00190: val_acc did not improve from 0.90970\n",
            "Epoch 191/200\n",
            "196/196 [==============================] - 58s 294ms/step - loss: 0.1559 - acc: 0.9959 - val_loss: 0.5187 - val_acc: 0.9084\n",
            "\n",
            "Epoch 00191: val_acc did not improve from 0.90970\n",
            "Epoch 192/200\n",
            " 81/196 [===========>..................] - ETA: 31s - loss: 0.1557 - acc: 0.9960"
          ],
          "name": "stdout"
        },
        {
          "output_type": "stream",
          "text": [
            "196/196 [==============================] - 57s 293ms/step - loss: 0.1561 - acc: 0.9957 - val_loss: 0.5193 - val_acc: 0.9086\n",
            "\n",
            "Epoch 00192: val_acc did not improve from 0.90970\n",
            "Epoch 193/200\n",
            "196/196 [==============================] - 58s 294ms/step - loss: 0.1565 - acc: 0.9957 - val_loss: 0.5198 - val_acc: 0.9081\n",
            "\n",
            "Epoch 00193: val_acc did not improve from 0.90970\n",
            "Epoch 194/200\n",
            " 81/196 [===========>..................] - ETA: 31s - loss: 0.1555 - acc: 0.9960"
          ],
          "name": "stdout"
        },
        {
          "output_type": "stream",
          "text": [
            "196/196 [==============================] - 58s 293ms/step - loss: 0.1557 - acc: 0.9960 - val_loss: 0.5189 - val_acc: 0.9084\n",
            "\n",
            "Epoch 00194: val_acc did not improve from 0.90970\n",
            "Epoch 195/200\n",
            "196/196 [==============================] - 58s 294ms/step - loss: 0.1562 - acc: 0.9961 - val_loss: 0.5196 - val_acc: 0.9087\n",
            "\n",
            "Epoch 00195: val_acc did not improve from 0.90970\n",
            "Epoch 196/200\n",
            " 81/196 [===========>..................] - ETA: 31s - loss: 0.1568 - acc: 0.9958"
          ],
          "name": "stdout"
        },
        {
          "output_type": "stream",
          "text": [
            "196/196 [==============================] - 58s 293ms/step - loss: 0.1564 - acc: 0.9958 - val_loss: 0.5190 - val_acc: 0.9082\n",
            "\n",
            "Epoch 00196: val_acc did not improve from 0.90970\n",
            "Epoch 197/200\n",
            "196/196 [==============================] - 57s 293ms/step - loss: 0.1568 - acc: 0.9957 - val_loss: 0.5194 - val_acc: 0.9083\n",
            "\n",
            "Epoch 00197: val_acc did not improve from 0.90970\n",
            "Epoch 198/200\n",
            " 81/196 [===========>..................] - ETA: 31s - loss: 0.1566 - acc: 0.9952"
          ],
          "name": "stdout"
        },
        {
          "output_type": "stream",
          "text": [
            "196/196 [==============================] - 58s 293ms/step - loss: 0.1572 - acc: 0.9951 - val_loss: 0.5191 - val_acc: 0.9086\n",
            "\n",
            "Epoch 00198: val_acc did not improve from 0.90970\n",
            "Epoch 199/200\n",
            "196/196 [==============================] - 57s 293ms/step - loss: 0.1561 - acc: 0.9958 - val_loss: 0.5188 - val_acc: 0.9080\n",
            "\n",
            "Epoch 00199: val_acc did not improve from 0.90970\n",
            "Epoch 200/200\n",
            " 81/196 [===========>..................] - ETA: 31s - loss: 0.1563 - acc: 0.9951"
          ],
          "name": "stdout"
        },
        {
          "output_type": "stream",
          "text": [
            "196/196 [==============================] - 58s 294ms/step - loss: 0.1567 - acc: 0.9951 - val_loss: 0.5198 - val_acc: 0.9081\n",
            "\n",
            "Epoch 00200: val_acc did not improve from 0.90970\n"
          ],
          "name": "stdout"
        }
      ]
    },
    {
      "metadata": {
        "id": "ov5t6BRs9M0c",
        "colab_type": "text"
      },
      "cell_type": "markdown",
      "source": [
        "## Results "
      ]
    },
    {
      "metadata": {
        "id": "YMK5rdwAuOSh",
        "colab_type": "code",
        "colab": {
          "base_uri": "https://localhost:8080/",
          "height": 68
        },
        "outputId": "9ccf39d9-6436-4f0e-f622-ad6886ba0dd9"
      },
      "cell_type": "code",
      "source": [
        "# Score trained model.\n",
        "scores = model.evaluate(x_test, y_test, verbose=1)\n",
        "print('Test loss:', scores[0])\n",
        "print('Test accuracy:', scores[1])"
      ],
      "execution_count": 64,
      "outputs": [
        {
          "output_type": "stream",
          "text": [
            "10000/10000 [==============================] - 8s 767us/step\n",
            "Test loss: 0.5198415959835052\n",
            "Test accuracy: 0.9081\n"
          ],
          "name": "stdout"
        }
      ]
    },
    {
      "metadata": {
        "id": "aM6_NFWSuPrz",
        "colab_type": "code",
        "colab": {
          "base_uri": "https://localhost:8080/",
          "height": 361
        },
        "outputId": "176828cd-06bf-4681-9648-8232c5ae500b"
      },
      "cell_type": "code",
      "source": [
        "# summarize history for accuracy\n",
        "fig = plt.figure()\n",
        "plt.subplot(2, 1, 1)\n",
        "plt.plot(histry.history['acc'])\n",
        "plt.plot(histry.history['val_acc'])\n",
        "plt.axhline(y=0.5, color='grey', linestyle='--')\n",
        "#plt.title('model accuracy')\n",
        "plt.ylabel('accuracy')\n",
        "plt.xlabel('epoch')\n",
        "plt.legend(['train', 'test'], loc='upper left')\n",
        "# summarize history for loss\n",
        "plt.subplot(2, 1, 2)\n",
        "plt.plot(histry.history['loss'])\n",
        "plt.plot(histry.history['val_loss'])\n",
        "plt.axhline(y=0.693, color='grey', linestyle='--')\n",
        "plt.ylabel('loss')\n",
        "plt.xlabel('epoch')\n",
        "plt.legend(['train', 'test'], loc='upper left')\n",
        "plt.show()\n",
        "fig.savefig('learning_curve_Resnetv2.png', bbox_inches='tight')"
      ],
      "execution_count": 71,
      "outputs": [
        {
          "output_type": "display_data",
          "data": {
            "image/png": "[encoded data removed]",
            "text/plain": [
              "<matplotlib.figure.Figure at 0x7f5c462c7a90>"
            ]
          },
          "metadata": {
            "tags": []
          }
        }
      ]
    },
    {
      "metadata": {
        "id": "FXJJmoaPukS0",
        "colab_type": "text"
      },
      "cell_type": "markdown",
      "source": [
        "## Observation and Discussion \n",
        "\n",
        "In this section I showed a ResnetV2 implementation and I implemented it as shown in the paper [1]. A data augemntation generator was used to randomly shift and flip the images and add some whiting noise. The Resnet architecture is of 20 layers deep of total number of parmeter about 500K+. Using the GPU on this machine, It took about 40 seconds on average for every epoch. 200 Epoches were run and the best run achieved 90.8 % accuracy on the validation set. It is worth to mention that I ran the same algorithim on my 4 quad mahcine (no GPU) which took about 25 hours on 120 epoches to run and it achieved 92% accuracy. I guess this 1 percent discripency is due to the random weights intialized so a seed setup should be applied to make the results more replicatable. It looks like deep arcitectures in general achieves a good job than the simple conv net. The next sectoin will discribe my research path from here. We can either get deeper with the archtecture or think of ways to optimize the model. "
      ]
    },
    {
      "metadata": {
        "id": "WKsec81hFtuL",
        "colab_type": "text"
      },
      "cell_type": "markdown",
      "source": [
        "# Now Whats Next ?\n",
        "\n",
        "There are plenty of aproaches to try but the time and resources are limted so let us take a step back and observe what was done so far and decide what are our next steps for this short study.  From the previous sections we showed a very complicated architecture such as resnet that gave fairly good results and also a very simple model that also showed reletively good results. The resnet-20 has 574,090 parameters and the convnet has much fewers parmas to train. Even though resnet showed better results but the comparison between performances is not fair. Both approaches were run on mean subtracted and pixel normalized data but the convolution net approach did not run using a learning rate scheduler, and the data agmentation generator was not applied too. I do not think it will surpase the performance of the resnet but it should improve the performance of the conv net approach. For the sake of completion I shall do that as my next step. Generaly, research papers show [1],[2],[3] that the deeper the model the better the results of the image classifcaitons. This is true but does that mean that simplier architectures are bad and we should not use them at all ? Also How much difference of accuracy performance are we gaining from deeper models and what is the time complexity trade off ? \n",
        "\n",
        "Now what I can try next can either be a more deeper architecture and try to reach to 95% accuracy by using a ResnetV2 of 1001 in depth or any other deep and complex architecture, then train it for like 5 days so I can only gain 3 %  -5 % extra accuracy or 27 hours using 2 GPUs [1]. On the other hand, we can try different approaches and try to reach to similar results with much less computational complexity trading off little accuracy perfromance. Neither approaches are wrong or right but it depends on the business problem or the application we have in hand. Since this is just a take home exam, I will try to use simpler models of different architectures to explore diversity.\n",
        "\n",
        "The previous models are based on the traditional way of computing convolution but there are other reasnably deep approaches that uses what is called Deepth Seprable Convolution. This will perform a spatial convolution while keeping the channels (3 channels in case of RBG images) separate and then follow with a depthwise convolution. For more information about how depthwise convolutin work please have a look at [4]. The advantage of using deepth seprable convolution is that It cuts the number of multiplications by a factor of 9 in a convolution net compared to the standard convolution with a little comprimise on accuracy as shown in mobileNet architecture. \n",
        "\n",
        "There are lots of models I would love to try but I think I will choose the Xception architecture, a convolutional neural network architecture based entirely on depthwise separable convolution layers. The Xception architecture has 36 convolutional layers forming the feature extraction base of the network.  The 36 convolutional layers are structured into 14 modules, all of which have linear residual connections around them, except for the first and last modules. In short, the Xception architecture is a linear stack of depthwise separable convolution layers with residual skip connection [5]. It is inspired by the inception model and basically an extension of the Inception architecture which replaces the standard Inception modules with depthwise separable convolutions.\n",
        "\n",
        "In the next sections I will redo the simple convolution approach one more time with data agmentation and a call back function. Also I will show the results of the xception model using a keras implementation. \n"
      ]
    },
    {
      "metadata": {
        "id": "KyIZAlfrmFZZ",
        "colab_type": "text"
      },
      "cell_type": "markdown",
      "source": [
        "# ConvNet with Data Agumentation and Adaptable Learning Rate: \n",
        "\n",
        "The following code implements a similar simple conv net architecture to the one I tried before. For the sake of completness I wanted to run the same model using data augmentation and see if there are any changes in the results. Even though all the papers agrees that deep architectures achieves higher accuracy but I wanted to quantify how much improvements they mean by that, also its is worth to mention that most of the papers out there use the image net data set as a bench mark which is a different dataset used in this study. \n",
        "\n",
        "Things I tried that is not in the following code: \n",
        " \n",
        " - If you notice the difference in architecture between this implementation and the previous one, you will notice that I added an extra layer of 128 filter size and an extra dropout. The result of both archiectures are very similar only 0.5% difference so it didnt really create a considrable significant change. \n",
        " \n",
        " - I also tried taking z transform (mean subtraction then divide by standard diviation) to normalize the data to unit distribution but again I did not notice a big change in the results either. \n"
      ]
    },
    {
      "metadata": {
        "id": "I-dYFL2BHbjT",
        "colab_type": "text"
      },
      "cell_type": "markdown",
      "source": [
        "## Model"
      ]
    },
    {
      "metadata": {
        "id": "n-EoK3S1Ba_z",
        "colab_type": "code",
        "colab": {
          "base_uri": "https://localhost:8080/",
          "height": 68
        },
        "outputId": "9b67e9c0-1179-4513-d71c-5a828e0ca54f"
      },
      "cell_type": "code",
      "source": [
        "# retrain model or use saved model\n",
        "retrain_convnet_augmentation = True\n",
        "#save model_after_train \n",
        "model_name_conv_agmentation = 'convnet_augmentation_trained.h5'\n",
        "# Data augmentation \n",
        "data_augmentation = True\n",
        "# Training parameters\n",
        "batch_size = 256\n",
        "epochs = 200\n",
        "\n",
        "# Reload data again this time try z-score instead of regular way of normalization\n",
        "(x_train, y_train), (x_test, y_test) = cifar10.load_data()\n",
        "x_train = x_train.astype('float32')\n",
        "x_test = x_test.astype('float32')\n",
        "\n",
        "#z-score\n",
        "mean = np.mean(x_train,axis=(0,1,2,3))\n",
        "std = np.std(x_train,axis=(0,1,2,3))\n",
        "x_train = (x_train-mean)/(std+1e-7)\n",
        "x_test = (x_test-mean)/(std+1e-7)\n",
        "\n",
        "num_classes = 10\n",
        "y_train =  keras.utils.to_categorical(y_train,num_classes)\n",
        "y_test =  keras.utils.to_categorical(y_test,num_classes)"
      ],
      "execution_count": 3,
      "outputs": [
        {
          "output_type": "stream",
          "text": [
            "Downloading data from https://www.cs.toronto.edu/~kriz/cifar-10-python.tar.gz\n",
            "170500096/170498071 [==============================] - 34s 0us/step\n",
            "170508288/170498071 [==============================] - 34s 0us/step\n"
          ],
          "name": "stdout"
        }
      ]
    },
    {
      "metadata": {
        "id": "RUVjRiEKBruA",
        "colab_type": "code",
        "colab": {
          "base_uri": "https://localhost:8080/",
          "height": 850
        },
        "outputId": "24f3a0b4-33c0-4532-b2fc-66e945c24c4a"
      },
      "cell_type": "code",
      "source": [
        "model = Sequential()\n",
        "model.add(Conv2D(32, (3, 3), padding='same', kernel_regularizer=l2(1e-4), input_shape=x_train.shape[1:]))\n",
        "model.add(BatchNormalization())\n",
        "model.add(Conv2D(32, (3, 3),padding='same', kernel_regularizer=l2(1e-4)))\n",
        "model.add(BatchNormalization())\n",
        "model.add(MaxPooling2D(pool_size=(2, 2)))\n",
        "model.add(Dropout(0.2))\n",
        "\n",
        "model.add(Conv2D(64, (3, 3), padding='same', kernel_regularizer=l2(1e-4)))  \n",
        "model.add(BatchNormalization())\n",
        "model.add(Conv2D(64, (3, 3), padding='same', kernel_regularizer=l2(1e-4)))\n",
        "model.add(BatchNormalization())\n",
        "model.add(MaxPooling2D(pool_size=(2, 2)))\n",
        "model.add(Dropout(0.3))\n",
        "\n",
        "model.add(Conv2D(128, (3, 3), padding='same', kernel_regularizer=l2(1e-4)))  \n",
        "model.add(BatchNormalization())\n",
        "model.add(Conv2D(128, (3, 3), padding='same', kernel_regularizer=l2(1e-4)))\n",
        "model.add(BatchNormalization())\n",
        "model.add(MaxPooling2D(pool_size=(2, 2)))\n",
        "model.add(Dropout(0.4))\n",
        "\n",
        "model.add(Flatten())\n",
        "model.add(Dense(num_classes))\n",
        "model.add(Activation('softmax'))\n",
        "\n",
        "opt_rms = keras.optimizers.rmsprop(lr=0.001,decay=1e-6)\n",
        "model.compile(loss='categorical_crossentropy', optimizer=opt_rms,metrics=['accuracy'])\n",
        "\n",
        "save_dir = os.path.join(os.getcwd(), 'saved_models')\n",
        "m_name2 = 'convnet_agmentation_model.{epoch:03d}.h5'\n",
        "if not os.path.isdir(save_dir):\n",
        "    os.makedirs(save_dir)\n",
        "filepath = os.path.join(save_dir, m_name2)\n",
        "# callbacks for best saved models and for learning rates\n",
        "checkpoint = ModelCheckpoint(filepath=filepath,monitor='val_acc',verbose=1,save_best_only=True)\n",
        "lr_scheduler = LearningRateScheduler(learning_rate_adjuster)\n",
        "lr_reducer = ReduceLROnPlateau(factor=np.sqrt(0.1),cooldown=0,patience=5,min_lr=0.5e-6)\n",
        "callbacks = [checkpoint, lr_reducer, lr_scheduler]\n",
        "model.summary()"
      ],
      "execution_count": 12,
      "outputs": [
        {
          "output_type": "stream",
          "text": [
            "_________________________________________________________________\n",
            "Layer (type)                 Output Shape              Param #   \n",
            "=================================================================\n",
            "conv2d_35 (Conv2D)           (None, 32, 32, 32)        896       \n",
            "_________________________________________________________________\n",
            "batch_normalization_32 (Batc (None, 32, 32, 32)        128       \n",
            "_________________________________________________________________\n",
            "conv2d_36 (Conv2D)           (None, 32, 32, 32)        9248      \n",
            "_________________________________________________________________\n",
            "batch_normalization_33 (Batc (None, 32, 32, 32)        128       \n",
            "_________________________________________________________________\n",
            "max_pooling2d_7 (MaxPooling2 (None, 16, 16, 32)        0         \n",
            "_________________________________________________________________\n",
            "dropout_7 (Dropout)          (None, 16, 16, 32)        0         \n",
            "_________________________________________________________________\n",
            "conv2d_37 (Conv2D)           (None, 16, 16, 64)        18496     \n",
            "_________________________________________________________________\n",
            "batch_normalization_34 (Batc (None, 16, 16, 64)        256       \n",
            "_________________________________________________________________\n",
            "conv2d_38 (Conv2D)           (None, 16, 16, 64)        36928     \n",
            "_________________________________________________________________\n",
            "batch_normalization_35 (Batc (None, 16, 16, 64)        256       \n",
            "_________________________________________________________________\n",
            "max_pooling2d_8 (MaxPooling2 (None, 8, 8, 64)          0         \n",
            "_________________________________________________________________\n",
            "dropout_8 (Dropout)          (None, 8, 8, 64)          0         \n",
            "_________________________________________________________________\n",
            "conv2d_39 (Conv2D)           (None, 8, 8, 128)         73856     \n",
            "_________________________________________________________________\n",
            "batch_normalization_36 (Batc (None, 8, 8, 128)         512       \n",
            "_________________________________________________________________\n",
            "conv2d_40 (Conv2D)           (None, 8, 8, 128)         147584    \n",
            "_________________________________________________________________\n",
            "batch_normalization_37 (Batc (None, 8, 8, 128)         512       \n",
            "_________________________________________________________________\n",
            "max_pooling2d_9 (MaxPooling2 (None, 4, 4, 128)         0         \n",
            "_________________________________________________________________\n",
            "dropout_9 (Dropout)          (None, 4, 4, 128)         0         \n",
            "_________________________________________________________________\n",
            "flatten_4 (Flatten)          (None, 2048)              0         \n",
            "_________________________________________________________________\n",
            "dense_4 (Dense)              (None, 10)                20490     \n",
            "_________________________________________________________________\n",
            "activation_22 (Activation)   (None, 10)                0         \n",
            "=================================================================\n",
            "Total params: 309,290\n",
            "Trainable params: 308,394\n",
            "Non-trainable params: 896\n",
            "_________________________________________________________________\n"
          ],
          "name": "stdout"
        }
      ]
    },
    {
      "metadata": {
        "id": "BctORKccGSlb",
        "colab_type": "code",
        "colab": {
          "base_uri": "https://localhost:8080/",
          "height": 13637
        },
        "outputId": "36283a92-f8ae-4656-c1e0-fd4d04cd7732"
      },
      "cell_type": "code",
      "source": [
        "if retrain_convnet_augmentation: \n",
        "  histry = model.fit_generator(datagenerator.flow(x_train, y_train, batch_size=batch_size),\n",
        "                            validation_data=(x_test, y_test),\n",
        "                            epochs=epochs, verbose=1,\n",
        "                            callbacks=[LearningRateScheduler(lr_schedule)])\n",
        "  model = histry.model\n",
        "  model.save_weights(save_dir+model_name_conv_agmentation)\n",
        "else:\n",
        "  model.load_weights(save_dir+model_name_conv_agmentation)\n",
        "  print ('Model weights loaded')"
      ],
      "execution_count": 14,
      "outputs": [
        {
          "output_type": "stream",
          "text": [
            "Epoch 1/200\n",
            "196/196 [==============================] - 44s 224ms/step - loss: 1.9714 - acc: 0.3674 - val_loss: 1.6754 - val_acc: 0.4845\n",
            "\n",
            "Epoch 00001: val_acc improved from -inf to 0.48450, saving model to /content/saved_models/convnet_agmentation_20_model.001.h5\n",
            "Epoch 2/200\n",
            "196/196 [==============================] - 36s 184ms/step - loss: 1.4971 - acc: 0.4973 - val_loss: 1.3510 - val_acc: 0.5894\n",
            "\n",
            "Epoch 00002: val_acc improved from 0.48450 to 0.58940, saving model to /content/saved_models/convnet_agmentation_20_model.002.h5\n",
            "Epoch 3/200\n",
            " 17/196 [=>............................] - ETA: 25s - loss: 1.3625 - acc: 0.5377"
          ],
          "name": "stdout"
        },
        {
          "output_type": "stream",
          "text": [
            "196/196 [==============================] - 37s 186ms/step - loss: 1.3096 - acc: 0.5616 - val_loss: 1.1570 - val_acc: 0.6443\n",
            "\n",
            "Epoch 00003: val_acc improved from 0.58940 to 0.64430, saving model to /content/saved_models/convnet_agmentation_20_model.003.h5\n",
            "Epoch 4/200\n",
            "196/196 [==============================] - 36s 185ms/step - loss: 1.2208 - acc: 0.5894 - val_loss: 1.1776 - val_acc: 0.6380\n",
            "\n",
            "Epoch 00004: val_acc did not improve from 0.64430\n",
            "Epoch 5/200\n",
            " 32/196 [===>..........................] - ETA: 25s - loss: 1.1916 - acc: 0.6040"
          ],
          "name": "stdout"
        },
        {
          "output_type": "stream",
          "text": [
            "196/196 [==============================] - 36s 186ms/step - loss: 1.1656 - acc: 0.6127 - val_loss: 1.1108 - val_acc: 0.6476\n",
            "\n",
            "Epoch 00005: val_acc improved from 0.64430 to 0.64760, saving model to /content/saved_models/convnet_agmentation_20_model.005.h5\n",
            "Epoch 6/200\n",
            "196/196 [==============================] - 36s 185ms/step - loss: 1.1167 - acc: 0.6302 - val_loss: 1.0616 - val_acc: 0.6651\n",
            "\n",
            "Epoch 00006: val_acc improved from 0.64760 to 0.66510, saving model to /content/saved_models/convnet_agmentation_20_model.006.h5\n",
            "Epoch 7/200\n",
            " 28/196 [===>..........................] - ETA: 24s - loss: 1.0877 - acc: 0.6449"
          ],
          "name": "stdout"
        },
        {
          "output_type": "stream",
          "text": [
            "196/196 [==============================] - 36s 186ms/step - loss: 1.0893 - acc: 0.6401 - val_loss: 0.9732 - val_acc: 0.6893\n",
            "\n",
            "Epoch 00007: val_acc improved from 0.66510 to 0.68930, saving model to /content/saved_models/convnet_agmentation_20_model.007.h5\n",
            "Epoch 8/200\n",
            "196/196 [==============================] - 37s 187ms/step - loss: 1.0611 - acc: 0.6516 - val_loss: 0.9290 - val_acc: 0.7076\n",
            "\n",
            "Epoch 00008: val_acc improved from 0.68930 to 0.70760, saving model to /content/saved_models/convnet_agmentation_20_model.008.h5\n",
            "Epoch 9/200\n",
            " 27/196 [===>..........................] - ETA: 25s - loss: 1.0247 - acc: 0.6569"
          ],
          "name": "stdout"
        },
        {
          "output_type": "stream",
          "text": [
            "196/196 [==============================] - 37s 187ms/step - loss: 1.0394 - acc: 0.6580 - val_loss: 1.0440 - val_acc: 0.6751\n",
            "\n",
            "Epoch 00009: val_acc did not improve from 0.70760\n",
            "Epoch 10/200\n",
            "196/196 [==============================] - 37s 187ms/step - loss: 1.0250 - acc: 0.6664 - val_loss: 0.8664 - val_acc: 0.7287\n",
            "\n",
            "Epoch 00010: val_acc improved from 0.70760 to 0.72870, saving model to /content/saved_models/convnet_agmentation_20_model.010.h5\n",
            "Epoch 11/200\n",
            " 58/196 [=======>......................] - ETA: 23s - loss: 1.0138 - acc: 0.6742"
          ],
          "name": "stdout"
        },
        {
          "output_type": "stream",
          "text": [
            "196/196 [==============================] - 36s 185ms/step - loss: 1.0079 - acc: 0.6742 - val_loss: 0.9520 - val_acc: 0.7082\n",
            "\n",
            "Epoch 00011: val_acc did not improve from 0.72870\n",
            "Epoch 12/200\n",
            "196/196 [==============================] - 37s 187ms/step - loss: 0.9899 - acc: 0.6789 - val_loss: 0.8598 - val_acc: 0.7346\n",
            "\n",
            "Epoch 00012: val_acc improved from 0.72870 to 0.73460, saving model to /content/saved_models/convnet_agmentation_20_model.012.h5\n",
            "Epoch 13/200\n",
            " 66/196 [=========>....................] - ETA: 22s - loss: 0.9851 - acc: 0.6827"
          ],
          "name": "stdout"
        },
        {
          "output_type": "stream",
          "text": [
            "196/196 [==============================] - 36s 185ms/step - loss: 0.9830 - acc: 0.6832 - val_loss: 0.8987 - val_acc: 0.7222\n",
            "\n",
            "Epoch 00013: val_acc did not improve from 0.73460\n",
            "Epoch 14/200\n",
            "196/196 [==============================] - 37s 187ms/step - loss: 0.9731 - acc: 0.6852 - val_loss: 0.9360 - val_acc: 0.7108\n",
            "\n",
            "Epoch 00014: val_acc did not improve from 0.73460\n",
            "Epoch 15/200\n",
            " 79/196 [===========>..................] - ETA: 20s - loss: 0.9575 - acc: 0.6922"
          ],
          "name": "stdout"
        },
        {
          "output_type": "stream",
          "text": [
            "196/196 [==============================] - 37s 187ms/step - loss: 0.9601 - acc: 0.6922 - val_loss: 0.8635 - val_acc: 0.7316\n",
            "\n",
            "Epoch 00015: val_acc did not improve from 0.73460\n",
            "Epoch 16/200\n",
            "196/196 [==============================] - 37s 189ms/step - loss: 0.9482 - acc: 0.6950 - val_loss: 0.8584 - val_acc: 0.7324\n",
            "\n",
            "Epoch 00016: val_acc did not improve from 0.73460\n",
            "Epoch 17/200\n",
            " 79/196 [===========>..................] - ETA: 20s - loss: 0.9427 - acc: 0.6944"
          ],
          "name": "stdout"
        },
        {
          "output_type": "stream",
          "text": [
            "196/196 [==============================] - 37s 191ms/step - loss: 0.9406 - acc: 0.6965 - val_loss: 0.9051 - val_acc: 0.7245\n",
            "\n",
            "Epoch 00017: val_acc did not improve from 0.73460\n",
            "Epoch 18/200\n",
            "196/196 [==============================] - 37s 189ms/step - loss: 0.9356 - acc: 0.7018 - val_loss: 0.8488 - val_acc: 0.7424\n",
            "\n",
            "Epoch 00018: val_acc improved from 0.73460 to 0.74240, saving model to /content/saved_models/convnet_agmentation_20_model.018.h5\n",
            "Epoch 19/200\n",
            " 67/196 [=========>....................] - ETA: 22s - loss: 0.9194 - acc: 0.7055"
          ],
          "name": "stdout"
        },
        {
          "output_type": "stream",
          "text": [
            "196/196 [==============================] - 37s 188ms/step - loss: 0.9296 - acc: 0.7031 - val_loss: 0.8119 - val_acc: 0.7500\n",
            "\n",
            "Epoch 00019: val_acc improved from 0.74240 to 0.75000, saving model to /content/saved_models/convnet_agmentation_20_model.019.h5\n",
            "Epoch 20/200\n",
            "196/196 [==============================] - 38s 194ms/step - loss: 0.9313 - acc: 0.7039 - val_loss: 0.8396 - val_acc: 0.7397\n",
            "\n",
            "Epoch 00020: val_acc did not improve from 0.75000\n",
            "Epoch 21/200\n",
            " 36/196 [====>.........................] - ETA: 25s - loss: 0.9217 - acc: 0.7033"
          ],
          "name": "stdout"
        },
        {
          "output_type": "stream",
          "text": [
            "196/196 [==============================] - 37s 187ms/step - loss: 0.9154 - acc: 0.7085 - val_loss: 0.8067 - val_acc: 0.7581\n",
            "\n",
            "Epoch 00021: val_acc improved from 0.75000 to 0.75810, saving model to /content/saved_models/convnet_agmentation_20_model.021.h5\n",
            "Epoch 22/200\n",
            "196/196 [==============================] - 36s 186ms/step - loss: 0.9178 - acc: 0.7092 - val_loss: 0.9743 - val_acc: 0.7038\n",
            "\n",
            "Epoch 00022: val_acc did not improve from 0.75810\n",
            "Epoch 23/200\n",
            " 34/196 [====>.........................] - ETA: 26s - loss: 0.8879 - acc: 0.7151"
          ],
          "name": "stdout"
        },
        {
          "output_type": "stream",
          "text": [
            "196/196 [==============================] - 37s 188ms/step - loss: 0.9042 - acc: 0.7111 - val_loss: 0.8744 - val_acc: 0.7346\n",
            "\n",
            "Epoch 00023: val_acc did not improve from 0.75810\n",
            "Epoch 24/200\n",
            "196/196 [==============================] - 37s 187ms/step - loss: 0.9028 - acc: 0.7154 - val_loss: 0.9206 - val_acc: 0.7189\n",
            "\n",
            "Epoch 00024: val_acc did not improve from 0.75810\n",
            "Epoch 25/200\n",
            " 73/196 [==========>...................] - ETA: 21s - loss: 0.9053 - acc: 0.7124"
          ],
          "name": "stdout"
        },
        {
          "output_type": "stream",
          "text": [
            "196/196 [==============================] - 37s 187ms/step - loss: 0.8992 - acc: 0.7154 - val_loss: 0.8003 - val_acc: 0.7580\n",
            "\n",
            "Epoch 00025: val_acc did not improve from 0.75810\n",
            "Epoch 26/200\n",
            "196/196 [==============================] - 37s 188ms/step - loss: 0.9018 - acc: 0.7141 - val_loss: 0.7749 - val_acc: 0.7669\n",
            "\n",
            "Epoch 00026: val_acc improved from 0.75810 to 0.76690, saving model to /content/saved_models/convnet_agmentation_20_model.026.h5\n",
            "Epoch 27/200\n",
            " 67/196 [=========>....................] - ETA: 21s - loss: 0.8883 - acc: 0.7211"
          ],
          "name": "stdout"
        },
        {
          "output_type": "stream",
          "text": [
            "196/196 [==============================] - 37s 187ms/step - loss: 0.8965 - acc: 0.7174 - val_loss: 0.8379 - val_acc: 0.7429\n",
            "\n",
            "Epoch 00027: val_acc did not improve from 0.76690\n",
            "Epoch 28/200\n",
            "196/196 [==============================] - 37s 187ms/step - loss: 0.8896 - acc: 0.7213 - val_loss: 0.7814 - val_acc: 0.7633\n",
            "\n",
            "Epoch 00028: val_acc did not improve from 0.76690\n",
            "Epoch 29/200\n",
            " 76/196 [==========>...................] - ETA: 20s - loss: 0.8810 - acc: 0.7191"
          ],
          "name": "stdout"
        },
        {
          "output_type": "stream",
          "text": [
            "196/196 [==============================] - 37s 187ms/step - loss: 0.8929 - acc: 0.7173 - val_loss: 0.8122 - val_acc: 0.7551\n",
            "\n",
            "Epoch 00029: val_acc did not improve from 0.76690\n",
            "Epoch 30/200\n",
            "196/196 [==============================] - 37s 187ms/step - loss: 0.8859 - acc: 0.7234 - val_loss: 0.9108 - val_acc: 0.7272\n",
            "\n",
            "Epoch 00030: val_acc did not improve from 0.76690\n",
            "Epoch 31/200\n",
            " 80/196 [===========>..................] - ETA: 20s - loss: 0.8856 - acc: 0.7239"
          ],
          "name": "stdout"
        },
        {
          "output_type": "stream",
          "text": [
            "196/196 [==============================] - 36s 186ms/step - loss: 0.8883 - acc: 0.7234 - val_loss: 0.8272 - val_acc: 0.7494\n",
            "\n",
            "Epoch 00031: val_acc did not improve from 0.76690\n",
            "Epoch 32/200\n",
            "196/196 [==============================] - 36s 185ms/step - loss: 0.8799 - acc: 0.7245 - val_loss: 0.8644 - val_acc: 0.7442\n",
            "\n",
            "Epoch 00032: val_acc did not improve from 0.76690\n",
            "Epoch 33/200\n",
            " 82/196 [===========>..................] - ETA: 19s - loss: 0.8832 - acc: 0.7262"
          ],
          "name": "stdout"
        },
        {
          "output_type": "stream",
          "text": [
            "196/196 [==============================] - 37s 186ms/step - loss: 0.8826 - acc: 0.7247 - val_loss: 0.8774 - val_acc: 0.7425\n",
            "\n",
            "Epoch 00033: val_acc did not improve from 0.76690\n",
            "Epoch 34/200\n",
            "196/196 [==============================] - 36s 186ms/step - loss: 0.8828 - acc: 0.7255 - val_loss: 0.8794 - val_acc: 0.7378\n",
            "\n",
            "Epoch 00034: val_acc did not improve from 0.76690\n",
            "Epoch 35/200\n",
            " 79/196 [===========>..................] - ETA: 20s - loss: 0.8790 - acc: 0.7259"
          ],
          "name": "stdout"
        },
        {
          "output_type": "stream",
          "text": [
            "196/196 [==============================] - 36s 186ms/step - loss: 0.8807 - acc: 0.7260 - val_loss: 0.8366 - val_acc: 0.7481\n",
            "\n",
            "Epoch 00035: val_acc did not improve from 0.76690\n",
            "Epoch 36/200\n",
            "196/196 [==============================] - 36s 185ms/step - loss: 0.8740 - acc: 0.7268 - val_loss: 0.8137 - val_acc: 0.7564\n",
            "\n",
            "Epoch 00036: val_acc did not improve from 0.76690\n",
            "Epoch 37/200\n",
            " 82/196 [===========>..................] - ETA: 19s - loss: 0.8739 - acc: 0.7294"
          ],
          "name": "stdout"
        },
        {
          "output_type": "stream",
          "text": [
            "196/196 [==============================] - 37s 187ms/step - loss: 0.8747 - acc: 0.7271 - val_loss: 0.7445 - val_acc: 0.7764\n",
            "\n",
            "Epoch 00037: val_acc improved from 0.76690 to 0.77640, saving model to /content/saved_models/convnet_agmentation_20_model.037.h5\n",
            "Epoch 38/200\n",
            "196/196 [==============================] - 37s 187ms/step - loss: 0.8704 - acc: 0.7292 - val_loss: 0.7948 - val_acc: 0.7650\n",
            "\n",
            "Epoch 00038: val_acc did not improve from 0.77640\n",
            "Epoch 39/200\n",
            " 39/196 [====>.........................] - ETA: 25s - loss: 0.8721 - acc: 0.7284"
          ],
          "name": "stdout"
        },
        {
          "output_type": "stream",
          "text": [
            "196/196 [==============================] - 37s 187ms/step - loss: 0.8693 - acc: 0.7306 - val_loss: 0.7809 - val_acc: 0.7676\n",
            "\n",
            "Epoch 00039: val_acc did not improve from 0.77640\n",
            "Epoch 40/200\n",
            "196/196 [==============================] - 37s 188ms/step - loss: 0.8668 - acc: 0.7320 - val_loss: 0.8422 - val_acc: 0.7470\n",
            "\n",
            "Epoch 00040: val_acc did not improve from 0.77640\n",
            "Epoch 41/200\n",
            " 67/196 [=========>....................] - ETA: 22s - loss: 0.8660 - acc: 0.7315"
          ],
          "name": "stdout"
        },
        {
          "output_type": "stream",
          "text": [
            "196/196 [==============================] - 37s 187ms/step - loss: 0.8681 - acc: 0.7322 - val_loss: 0.7749 - val_acc: 0.7748\n",
            "\n",
            "Epoch 00041: val_acc did not improve from 0.77640\n",
            "Epoch 42/200\n",
            "196/196 [==============================] - 37s 187ms/step - loss: 0.8694 - acc: 0.7315 - val_loss: 0.7745 - val_acc: 0.7722\n",
            "\n",
            "Epoch 00042: val_acc did not improve from 0.77640\n",
            "Epoch 43/200\n",
            " 80/196 [===========>..................] - ETA: 20s - loss: 0.8514 - acc: 0.7381"
          ],
          "name": "stdout"
        },
        {
          "output_type": "stream",
          "text": [
            "196/196 [==============================] - 37s 188ms/step - loss: 0.8605 - acc: 0.7330 - val_loss: 0.7590 - val_acc: 0.7798\n",
            "\n",
            "Epoch 00043: val_acc improved from 0.77640 to 0.77980, saving model to /content/saved_models/convnet_agmentation_20_model.043.h5\n",
            "Epoch 44/200\n",
            "196/196 [==============================] - 37s 187ms/step - loss: 0.8647 - acc: 0.7336 - val_loss: 0.8815 - val_acc: 0.7483\n",
            "\n",
            "Epoch 00044: val_acc did not improve from 0.77980\n",
            "Epoch 45/200\n",
            " 39/196 [====>.........................] - ETA: 25s - loss: 0.8525 - acc: 0.7389"
          ],
          "name": "stdout"
        },
        {
          "output_type": "stream",
          "text": [
            "196/196 [==============================] - 37s 188ms/step - loss: 0.8680 - acc: 0.7335 - val_loss: 0.7867 - val_acc: 0.7669\n",
            "\n",
            "Epoch 00045: val_acc did not improve from 0.77980\n",
            "Epoch 46/200\n",
            "196/196 [==============================] - 37s 187ms/step - loss: 0.8607 - acc: 0.7332 - val_loss: 0.7714 - val_acc: 0.7717\n",
            "\n",
            "Epoch 00046: val_acc did not improve from 0.77980\n",
            "Epoch 47/200\n",
            " 74/196 [==========>...................] - ETA: 21s - loss: 0.8514 - acc: 0.7372"
          ],
          "name": "stdout"
        },
        {
          "output_type": "stream",
          "text": [
            "196/196 [==============================] - 37s 187ms/step - loss: 0.8598 - acc: 0.7352 - val_loss: 0.8822 - val_acc: 0.7399\n",
            "\n",
            "Epoch 00047: val_acc did not improve from 0.77980\n",
            "Epoch 48/200\n",
            "196/196 [==============================] - 37s 188ms/step - loss: 0.8604 - acc: 0.7323 - val_loss: 0.7771 - val_acc: 0.7729\n",
            "\n",
            "Epoch 00048: val_acc did not improve from 0.77980\n",
            "Epoch 49/200\n",
            " 78/196 [==========>...................] - ETA: 20s - loss: 0.8598 - acc: 0.7373\b\b\b\b\b\b\b\b\b\b\b\b\b\b\b\b\b\b\b\b\b\b\b\b\b\b\b\b\b\b\b\b\b\b\b\b\b\b\b\b\b\b\b\b\b\b\b\b\b\b\b\b\b\b\b\b\b\b\b\b\b\b\b\b\b\b\b\b\b\b\b\b\b\b\b\b\b\b\b\b"
          ],
          "name": "stdout"
        },
        {
          "output_type": "stream",
          "text": [
            "196/196 [==============================] - 37s 187ms/step - loss: 0.8581 - acc: 0.7385 - val_loss: 0.7338 - val_acc: 0.7853\n",
            "\n",
            "Epoch 00049: val_acc improved from 0.77980 to 0.78530, saving model to /content/saved_models/convnet_agmentation_20_model.049.h5\n",
            "Epoch 50/200\n",
            "196/196 [==============================] - 37s 187ms/step - loss: 0.8498 - acc: 0.7380 - val_loss: 0.7605 - val_acc: 0.7737\n",
            "\n",
            "Epoch 00050: val_acc did not improve from 0.78530\n",
            "Epoch 51/200\n",
            " 40/196 [=====>........................] - ETA: 25s - loss: 0.8367 - acc: 0.7480"
          ],
          "name": "stdout"
        },
        {
          "output_type": "stream",
          "text": [
            "196/196 [==============================] - 37s 187ms/step - loss: 0.8597 - acc: 0.7371 - val_loss: 0.8091 - val_acc: 0.7608\n",
            "\n",
            "Epoch 00051: val_acc did not improve from 0.78530\n",
            "Epoch 52/200\n",
            "196/196 [==============================] - 37s 187ms/step - loss: 0.8542 - acc: 0.7391 - val_loss: 0.8562 - val_acc: 0.7496\n",
            "\n",
            "Epoch 00052: val_acc did not improve from 0.78530\n",
            "Epoch 53/200\n",
            " 75/196 [==========>...................] - ETA: 20s - loss: 0.8433 - acc: 0.7417"
          ],
          "name": "stdout"
        },
        {
          "output_type": "stream",
          "text": [
            "196/196 [==============================] - 37s 187ms/step - loss: 0.8527 - acc: 0.7382 - val_loss: 0.7474 - val_acc: 0.7842\n",
            "\n",
            "Epoch 00053: val_acc did not improve from 0.78530\n",
            "Epoch 54/200\n",
            "196/196 [==============================] - 37s 187ms/step - loss: 0.8542 - acc: 0.7383 - val_loss: 0.7737 - val_acc: 0.7752\n",
            "\n",
            "Epoch 00054: val_acc did not improve from 0.78530\n",
            "Epoch 55/200\n",
            " 79/196 [===========>..................] - ETA: 20s - loss: 0.8427 - acc: 0.7423"
          ],
          "name": "stdout"
        },
        {
          "output_type": "stream",
          "text": [
            "196/196 [==============================] - 37s 187ms/step - loss: 0.8499 - acc: 0.7392 - val_loss: 0.7416 - val_acc: 0.7822\n",
            "\n",
            "Epoch 00055: val_acc did not improve from 0.78530\n",
            "Epoch 56/200\n",
            "196/196 [==============================] - 37s 187ms/step - loss: 0.8489 - acc: 0.7393 - val_loss: 0.8083 - val_acc: 0.7586\n",
            "\n",
            "Epoch 00056: val_acc did not improve from 0.78530\n",
            "Epoch 57/200\n",
            " 81/196 [===========>..................] - ETA: 20s - loss: 0.8449 - acc: 0.7408"
          ],
          "name": "stdout"
        },
        {
          "output_type": "stream",
          "text": [
            "196/196 [==============================] - 37s 186ms/step - loss: 0.8497 - acc: 0.7396 - val_loss: 0.8131 - val_acc: 0.7653\n",
            "\n",
            "Epoch 00057: val_acc did not improve from 0.78530\n",
            "Epoch 58/200\n",
            "196/196 [==============================] - 37s 187ms/step - loss: 0.8402 - acc: 0.7423 - val_loss: 0.7373 - val_acc: 0.7784\n",
            "\n",
            "Epoch 00058: val_acc did not improve from 0.78530\n",
            "Epoch 59/200\n",
            " 81/196 [===========>..................] - ETA: 20s - loss: 0.8430 - acc: 0.7413"
          ],
          "name": "stdout"
        },
        {
          "output_type": "stream",
          "text": [
            "196/196 [==============================] - 37s 187ms/step - loss: 0.8500 - acc: 0.7396 - val_loss: 0.8145 - val_acc: 0.7622\n",
            "\n",
            "Epoch 00059: val_acc did not improve from 0.78530\n",
            "Epoch 60/200\n",
            "196/196 [==============================] - 37s 186ms/step - loss: 0.8456 - acc: 0.7410 - val_loss: 0.7883 - val_acc: 0.7692\n",
            "\n",
            "Epoch 00060: val_acc did not improve from 0.78530\n",
            "Epoch 61/200\n",
            " 79/196 [===========>..................] - ETA: 20s - loss: 0.8441 - acc: 0.7395"
          ],
          "name": "stdout"
        },
        {
          "output_type": "stream",
          "text": [
            "196/196 [==============================] - 37s 187ms/step - loss: 0.8447 - acc: 0.7405 - val_loss: 0.7666 - val_acc: 0.7752\n",
            "\n",
            "Epoch 00061: val_acc did not improve from 0.78530\n",
            "Epoch 62/200\n",
            "196/196 [==============================] - 37s 187ms/step - loss: 0.8437 - acc: 0.7426 - val_loss: 0.7419 - val_acc: 0.7825\n",
            "\n",
            "Epoch 00062: val_acc did not improve from 0.78530\n",
            "Epoch 63/200\n",
            " 79/196 [===========>..................] - ETA: 20s - loss: 0.8441 - acc: 0.7386"
          ],
          "name": "stdout"
        },
        {
          "output_type": "stream",
          "text": [
            "196/196 [==============================] - 37s 187ms/step - loss: 0.8458 - acc: 0.7393 - val_loss: 0.8602 - val_acc: 0.7425\n",
            "\n",
            "Epoch 00063: val_acc did not improve from 0.78530\n",
            "Epoch 64/200\n",
            "196/196 [==============================] - 37s 187ms/step - loss: 0.8375 - acc: 0.7413 - val_loss: 0.7531 - val_acc: 0.7818\n",
            "\n",
            "Epoch 00064: val_acc did not improve from 0.78530\n",
            "Epoch 65/200\n",
            " 83/196 [===========>..................] - ETA: 19s - loss: 0.8384 - acc: 0.7468"
          ],
          "name": "stdout"
        },
        {
          "output_type": "stream",
          "text": [
            "196/196 [==============================] - 37s 187ms/step - loss: 0.8387 - acc: 0.7453 - val_loss: 0.7401 - val_acc: 0.7820\n",
            "\n",
            "Epoch 00065: val_acc did not improve from 0.78530\n",
            "Epoch 66/200\n",
            "196/196 [==============================] - 37s 188ms/step - loss: 0.8389 - acc: 0.7446 - val_loss: 0.7846 - val_acc: 0.7669\n",
            "\n",
            "Epoch 00066: val_acc did not improve from 0.78530\n",
            "Epoch 67/200\n",
            " 81/196 [===========>..................] - ETA: 20s - loss: 0.8398 - acc: 0.7440"
          ],
          "name": "stdout"
        },
        {
          "output_type": "stream",
          "text": [
            "196/196 [==============================] - 37s 188ms/step - loss: 0.8421 - acc: 0.7428 - val_loss: 0.7707 - val_acc: 0.7771\n",
            "\n",
            "Epoch 00067: val_acc did not improve from 0.78530\n",
            "Epoch 68/200\n",
            "196/196 [==============================] - 37s 187ms/step - loss: 0.8393 - acc: 0.7455 - val_loss: 0.7532 - val_acc: 0.7769\n",
            "\n",
            "Epoch 00068: val_acc did not improve from 0.78530\n",
            "Epoch 69/200\n",
            " 79/196 [===========>..................] - ETA: 20s - loss: 0.8376 - acc: 0.7422"
          ],
          "name": "stdout"
        },
        {
          "output_type": "stream",
          "text": [
            "196/196 [==============================] - 37s 188ms/step - loss: 0.8424 - acc: 0.7429 - val_loss: 0.7785 - val_acc: 0.7730\n",
            "\n",
            "Epoch 00069: val_acc did not improve from 0.78530\n",
            "Epoch 70/200\n",
            "196/196 [==============================] - 37s 188ms/step - loss: 0.8371 - acc: 0.7470 - val_loss: 0.7812 - val_acc: 0.7701\n",
            "\n",
            "Epoch 00070: val_acc did not improve from 0.78530\n",
            "Epoch 71/200\n",
            " 79/196 [===========>..................] - ETA: 20s - loss: 0.8298 - acc: 0.7460"
          ],
          "name": "stdout"
        },
        {
          "output_type": "stream",
          "text": [
            "196/196 [==============================] - 37s 188ms/step - loss: 0.8421 - acc: 0.7422 - val_loss: 0.7091 - val_acc: 0.7933\n",
            "\n",
            "Epoch 00071: val_acc improved from 0.78530 to 0.79330, saving model to /content/saved_models/convnet_agmentation_20_model.071.h5\n",
            "Epoch 72/200\n",
            "196/196 [==============================] - 37s 188ms/step - loss: 0.8348 - acc: 0.7465 - val_loss: 0.7550 - val_acc: 0.7798\n",
            "\n",
            "Epoch 00072: val_acc did not improve from 0.79330\n",
            "Epoch 73/200\n",
            " 40/196 [=====>........................] - ETA: 25s - loss: 0.8458 - acc: 0.7382"
          ],
          "name": "stdout"
        },
        {
          "output_type": "stream",
          "text": [
            "196/196 [==============================] - 37s 187ms/step - loss: 0.8407 - acc: 0.7426 - val_loss: 0.7340 - val_acc: 0.7881\n",
            "\n",
            "Epoch 00073: val_acc did not improve from 0.79330\n",
            "Epoch 74/200\n",
            "196/196 [==============================] - 37s 188ms/step - loss: 0.8396 - acc: 0.7451 - val_loss: 0.7741 - val_acc: 0.7769\n",
            "\n",
            "Epoch 00074: val_acc did not improve from 0.79330\n",
            "Epoch 75/200\n",
            " 69/196 [=========>....................] - ETA: 22s - loss: 0.8372 - acc: 0.7462"
          ],
          "name": "stdout"
        },
        {
          "output_type": "stream",
          "text": [
            "196/196 [==============================] - 37s 188ms/step - loss: 0.8347 - acc: 0.7451 - val_loss: 0.7119 - val_acc: 0.7886\n",
            "\n",
            "Epoch 00075: val_acc did not improve from 0.79330\n",
            "Epoch 76/200\n",
            "196/196 [==============================] - 37s 187ms/step - loss: 0.8403 - acc: 0.7462 - val_loss: 0.8542 - val_acc: 0.7517\n",
            "\n",
            "Epoch 00076: val_acc did not improve from 0.79330\n",
            "Epoch 77/200\n",
            " 81/196 [===========>..................] - ETA: 19s - loss: 0.8372 - acc: 0.7471"
          ],
          "name": "stdout"
        },
        {
          "output_type": "stream",
          "text": [
            "196/196 [==============================] - 37s 188ms/step - loss: 0.8340 - acc: 0.7465 - val_loss: 0.8401 - val_acc: 0.7568\n",
            "\n",
            "Epoch 00077: val_acc did not improve from 0.79330\n",
            "Epoch 78/200\n",
            "196/196 [==============================] - 37s 188ms/step - loss: 0.8298 - acc: 0.7465 - val_loss: 0.7518 - val_acc: 0.7787\n",
            "\n",
            "Epoch 00078: val_acc did not improve from 0.79330\n",
            "Epoch 79/200\n",
            " 79/196 [===========>..................] - ETA: 20s - loss: 0.8306 - acc: 0.7513"
          ],
          "name": "stdout"
        },
        {
          "output_type": "stream",
          "text": [
            "196/196 [==============================] - 37s 188ms/step - loss: 0.8338 - acc: 0.7477 - val_loss: 0.7946 - val_acc: 0.7668\n",
            "\n",
            "Epoch 00079: val_acc did not improve from 0.79330\n",
            "Epoch 80/200\n",
            "196/196 [==============================] - 37s 188ms/step - loss: 0.8296 - acc: 0.7492 - val_loss: 0.7509 - val_acc: 0.7827\n",
            "\n",
            "Epoch 00080: val_acc did not improve from 0.79330\n",
            "Epoch 81/200\n",
            " 78/196 [==========>...................] - ETA: 20s - loss: 0.8262 - acc: 0.7472"
          ],
          "name": "stdout"
        },
        {
          "output_type": "stream",
          "text": [
            "196/196 [==============================] - 37s 188ms/step - loss: 0.8347 - acc: 0.7447 - val_loss: 0.7239 - val_acc: 0.7819\n",
            "\n",
            "Epoch 00081: val_acc did not improve from 0.79330\n",
            "Epoch 82/200\n",
            "196/196 [==============================] - 37s 188ms/step - loss: 0.7918 - acc: 0.7608 - val_loss: 0.7047 - val_acc: 0.7940\n",
            "\n",
            "Epoch 00082: val_acc improved from 0.79330 to 0.79400, saving model to /content/saved_models/convnet_agmentation_20_model.082.h5\n",
            "Epoch 83/200\n",
            " 66/196 [=========>....................] - ETA: 22s - loss: 0.7709 - acc: 0.7680"
          ],
          "name": "stdout"
        },
        {
          "output_type": "stream",
          "text": [
            "196/196 [==============================] - 37s 187ms/step - loss: 0.7741 - acc: 0.7664 - val_loss: 0.6935 - val_acc: 0.7978\n",
            "\n",
            "Epoch 00083: val_acc improved from 0.79400 to 0.79780, saving model to /content/saved_models/convnet_agmentation_20_model.083.h5\n",
            "Epoch 84/200\n",
            "196/196 [==============================] - 37s 187ms/step - loss: 0.7682 - acc: 0.7697 - val_loss: 0.7066 - val_acc: 0.7944\n",
            "\n",
            "Epoch 00084: val_acc did not improve from 0.79780\n",
            "Epoch 85/200\n",
            " 34/196 [====>.........................] - ETA: 26s - loss: 0.7711 - acc: 0.7678"
          ],
          "name": "stdout"
        },
        {
          "output_type": "stream",
          "text": [
            "196/196 [==============================] - 37s 188ms/step - loss: 0.7638 - acc: 0.7695 - val_loss: 0.6855 - val_acc: 0.8000\n",
            "\n",
            "Epoch 00085: val_acc improved from 0.79780 to 0.80000, saving model to /content/saved_models/convnet_agmentation_20_model.085.h5\n",
            "Epoch 86/200\n",
            "196/196 [==============================] - 37s 187ms/step - loss: 0.7647 - acc: 0.7696 - val_loss: 0.6714 - val_acc: 0.8013\n",
            "\n",
            "Epoch 00086: val_acc improved from 0.80000 to 0.80130, saving model to /content/saved_models/convnet_agmentation_20_model.086.h5\n",
            "Epoch 87/200\n",
            " 25/196 [==>...........................] - ETA: 24s - loss: 0.7281 - acc: 0.7832"
          ],
          "name": "stdout"
        },
        {
          "output_type": "stream",
          "text": [
            "196/196 [==============================] - 37s 188ms/step - loss: 0.7578 - acc: 0.7705 - val_loss: 0.6945 - val_acc: 0.7972\n",
            "\n",
            "Epoch 00087: val_acc did not improve from 0.80130\n",
            "Epoch 88/200\n",
            "196/196 [==============================] - 36s 186ms/step - loss: 0.7584 - acc: 0.7713 - val_loss: 0.6879 - val_acc: 0.7976\n",
            "\n",
            "Epoch 00088: val_acc did not improve from 0.80130\n",
            "Epoch 89/200\n",
            " 71/196 [=========>....................] - ETA: 21s - loss: 0.7565 - acc: 0.7710"
          ],
          "name": "stdout"
        },
        {
          "output_type": "stream",
          "text": [
            "196/196 [==============================] - 37s 188ms/step - loss: 0.7531 - acc: 0.7727 - val_loss: 0.6822 - val_acc: 0.8007\n",
            "\n",
            "Epoch 00089: val_acc did not improve from 0.80130\n",
            "Epoch 90/200\n",
            "196/196 [==============================] - 37s 188ms/step - loss: 0.7541 - acc: 0.7720 - val_loss: 0.6752 - val_acc: 0.8040\n",
            "\n",
            "Epoch 00090: val_acc improved from 0.80130 to 0.80400, saving model to /content/saved_models/convnet_agmentation_20_model.090.h5\n",
            "Epoch 91/200\n",
            " 67/196 [=========>....................] - ETA: 21s - loss: 0.7457 - acc: 0.7748"
          ],
          "name": "stdout"
        },
        {
          "output_type": "stream",
          "text": [
            "196/196 [==============================] - 37s 187ms/step - loss: 0.7495 - acc: 0.7746 - val_loss: 0.6729 - val_acc: 0.8017\n",
            "\n",
            "Epoch 00091: val_acc did not improve from 0.80400\n",
            "Epoch 92/200\n",
            "196/196 [==============================] - 37s 188ms/step - loss: 0.7471 - acc: 0.7748 - val_loss: 0.6844 - val_acc: 0.8015\n",
            "\n",
            "Epoch 00092: val_acc did not improve from 0.80400\n",
            "Epoch 93/200\n",
            " 77/196 [==========>...................] - ETA: 20s - loss: 0.7483 - acc: 0.7736"
          ],
          "name": "stdout"
        },
        {
          "output_type": "stream",
          "text": [
            "196/196 [==============================] - 37s 188ms/step - loss: 0.7442 - acc: 0.7759 - val_loss: 0.6764 - val_acc: 0.8029\n",
            "\n",
            "Epoch 00093: val_acc did not improve from 0.80400\n",
            "Epoch 94/200\n",
            "196/196 [==============================] - 37s 187ms/step - loss: 0.7411 - acc: 0.7766 - val_loss: 0.6574 - val_acc: 0.8074\n",
            "\n",
            "Epoch 00094: val_acc improved from 0.80400 to 0.80740, saving model to /content/saved_models/convnet_agmentation_20_model.094.h5\n",
            "Epoch 95/200\n",
            " 65/196 [========>.....................] - ETA: 22s - loss: 0.7572 - acc: 0.7718"
          ],
          "name": "stdout"
        },
        {
          "output_type": "stream",
          "text": [
            "196/196 [==============================] - 37s 188ms/step - loss: 0.7398 - acc: 0.7772 - val_loss: 0.6797 - val_acc: 0.8038\n",
            "\n",
            "Epoch 00095: val_acc did not improve from 0.80740\n",
            "Epoch 96/200\n",
            "196/196 [==============================] - 37s 188ms/step - loss: 0.7423 - acc: 0.7753 - val_loss: 0.6750 - val_acc: 0.8019\n",
            "\n",
            "Epoch 00096: val_acc did not improve from 0.80740\n",
            "Epoch 97/200\n",
            " 74/196 [==========>...................] - ETA: 21s - loss: 0.7540 - acc: 0.7719"
          ],
          "name": "stdout"
        },
        {
          "output_type": "stream",
          "text": [
            "196/196 [==============================] - 37s 187ms/step - loss: 0.7453 - acc: 0.7752 - val_loss: 0.6554 - val_acc: 0.8045\n",
            "\n",
            "Epoch 00097: val_acc did not improve from 0.80740\n",
            "Epoch 98/200\n",
            "196/196 [==============================] - 37s 188ms/step - loss: 0.7394 - acc: 0.7764 - val_loss: 0.6922 - val_acc: 0.7978\n",
            "\n",
            "Epoch 00098: val_acc did not improve from 0.80740\n",
            "Epoch 99/200\n",
            " 79/196 [===========>..................] - ETA: 20s - loss: 0.7312 - acc: 0.7768"
          ],
          "name": "stdout"
        },
        {
          "output_type": "stream",
          "text": [
            "196/196 [==============================] - 38s 192ms/step - loss: 0.7324 - acc: 0.7775 - val_loss: 0.6556 - val_acc: 0.8067\n",
            "\n",
            "Epoch 00099: val_acc did not improve from 0.80740\n",
            "Epoch 100/200\n",
            "196/196 [==============================] - 36s 185ms/step - loss: 0.7362 - acc: 0.7770 - val_loss: 0.6718 - val_acc: 0.8022\n",
            "\n",
            "Epoch 00100: val_acc did not improve from 0.80740\n",
            "Epoch 101/200\n",
            " 82/196 [===========>..................] - ETA: 19s - loss: 0.7404 - acc: 0.7756"
          ],
          "name": "stdout"
        },
        {
          "output_type": "stream",
          "text": [
            "196/196 [==============================] - 37s 187ms/step - loss: 0.7370 - acc: 0.7761 - val_loss: 0.6703 - val_acc: 0.8042\n",
            "\n",
            "Epoch 00101: val_acc did not improve from 0.80740\n",
            "Epoch 102/200\n",
            "196/196 [==============================] - 37s 187ms/step - loss: 0.7357 - acc: 0.7770 - val_loss: 0.6673 - val_acc: 0.8048\n",
            "\n",
            "Epoch 00102: val_acc did not improve from 0.80740\n",
            "Epoch 103/200\n",
            " 80/196 [===========>..................] - ETA: 20s - loss: 0.7317 - acc: 0.7783"
          ],
          "name": "stdout"
        },
        {
          "output_type": "stream",
          "text": [
            "196/196 [==============================] - 37s 187ms/step - loss: 0.7337 - acc: 0.7777 - val_loss: 0.6659 - val_acc: 0.8038\n",
            "\n",
            "Epoch 00103: val_acc did not improve from 0.80740\n",
            "Epoch 104/200\n",
            "196/196 [==============================] - 37s 187ms/step - loss: 0.7295 - acc: 0.7778 - val_loss: 0.6725 - val_acc: 0.8031\n",
            "\n",
            "Epoch 00104: val_acc did not improve from 0.80740\n",
            "Epoch 105/200\n",
            " 80/196 [===========>..................] - ETA: 20s - loss: 0.7332 - acc: 0.7762"
          ],
          "name": "stdout"
        },
        {
          "output_type": "stream",
          "text": [
            "196/196 [==============================] - 37s 187ms/step - loss: 0.7298 - acc: 0.7770 - val_loss: 0.6580 - val_acc: 0.8066\n",
            "\n",
            "Epoch 00105: val_acc did not improve from 0.80740\n",
            "Epoch 106/200\n",
            "196/196 [==============================] - 36s 186ms/step - loss: 0.7238 - acc: 0.7813 - val_loss: 0.6591 - val_acc: 0.8060\n",
            "\n",
            "Epoch 00106: val_acc did not improve from 0.80740\n",
            "Epoch 107/200\n",
            " 81/196 [===========>..................] - ETA: 20s - loss: 0.7291 - acc: 0.7813"
          ],
          "name": "stdout"
        },
        {
          "output_type": "stream",
          "text": [
            "196/196 [==============================] - 37s 187ms/step - loss: 0.7266 - acc: 0.7795 - val_loss: 0.6641 - val_acc: 0.8044\n",
            "\n",
            "Epoch 00107: val_acc did not improve from 0.80740\n",
            "Epoch 108/200\n",
            "196/196 [==============================] - 37s 188ms/step - loss: 0.7240 - acc: 0.7800 - val_loss: 0.6629 - val_acc: 0.8057\n",
            "\n",
            "Epoch 00108: val_acc did not improve from 0.80740\n",
            "Epoch 109/200\n",
            " 78/196 [==========>...................] - ETA: 20s - loss: 0.7267 - acc: 0.7778"
          ],
          "name": "stdout"
        },
        {
          "output_type": "stream",
          "text": [
            "196/196 [==============================] - 37s 187ms/step - loss: 0.7264 - acc: 0.7795 - val_loss: 0.6476 - val_acc: 0.8085\n",
            "\n",
            "Epoch 00109: val_acc improved from 0.80740 to 0.80850, saving model to /content/saved_models/convnet_agmentation_20_model.109.h5\n",
            "Epoch 110/200\n",
            "196/196 [==============================] - 37s 186ms/step - loss: 0.7215 - acc: 0.7797 - val_loss: 0.6873 - val_acc: 0.8002\n",
            "\n",
            "Epoch 00110: val_acc did not improve from 0.80850\n",
            "Epoch 111/200\n",
            " 39/196 [====>.........................] - ETA: 25s - loss: 0.7299 - acc: 0.7771"
          ],
          "name": "stdout"
        },
        {
          "output_type": "stream",
          "text": [
            "196/196 [==============================] - 37s 188ms/step - loss: 0.7239 - acc: 0.7811 - val_loss: 0.6736 - val_acc: 0.8004\n",
            "\n",
            "Epoch 00111: val_acc did not improve from 0.80850\n",
            "Epoch 112/200\n",
            "196/196 [==============================] - 37s 187ms/step - loss: 0.7189 - acc: 0.7835 - val_loss: 0.6509 - val_acc: 0.8066\n",
            "\n",
            "Epoch 00112: val_acc did not improve from 0.80850\n",
            "Epoch 113/200\n",
            " 71/196 [=========>....................] - ETA: 21s - loss: 0.7268 - acc: 0.7771"
          ],
          "name": "stdout"
        },
        {
          "output_type": "stream",
          "text": [
            "196/196 [==============================] - 37s 188ms/step - loss: 0.7231 - acc: 0.7801 - val_loss: 0.6620 - val_acc: 0.8056\n",
            "\n",
            "Epoch 00113: val_acc did not improve from 0.80850\n",
            "Epoch 114/200\n",
            "196/196 [==============================] - 37s 187ms/step - loss: 0.7242 - acc: 0.7790 - val_loss: 0.6561 - val_acc: 0.8071\n",
            "\n",
            "Epoch 00114: val_acc did not improve from 0.80850\n",
            "Epoch 115/200\n",
            " 77/196 [==========>...................] - ETA: 20s - loss: 0.7129 - acc: 0.7812"
          ],
          "name": "stdout"
        },
        {
          "output_type": "stream",
          "text": [
            "196/196 [==============================] - 37s 187ms/step - loss: 0.7190 - acc: 0.7806 - val_loss: 0.6516 - val_acc: 0.8075\n",
            "\n",
            "Epoch 00115: val_acc did not improve from 0.80850\n",
            "Epoch 116/200\n",
            "196/196 [==============================] - 37s 188ms/step - loss: 0.7210 - acc: 0.7791 - val_loss: 0.6721 - val_acc: 0.8010\n",
            "\n",
            "Epoch 00116: val_acc did not improve from 0.80850\n",
            "Epoch 117/200\n",
            " 79/196 [===========>..................] - ETA: 20s - loss: 0.7056 - acc: 0.7852"
          ],
          "name": "stdout"
        },
        {
          "output_type": "stream",
          "text": [
            "196/196 [==============================] - 37s 187ms/step - loss: 0.7148 - acc: 0.7811 - val_loss: 0.6219 - val_acc: 0.8163\n",
            "\n",
            "Epoch 00117: val_acc improved from 0.80850 to 0.81630, saving model to /content/saved_models/convnet_agmentation_20_model.117.h5\n",
            "Epoch 118/200\n",
            "196/196 [==============================] - 37s 187ms/step - loss: 0.7150 - acc: 0.7826 - val_loss: 0.6480 - val_acc: 0.8074\n",
            "\n",
            "Epoch 00118: val_acc did not improve from 0.81630\n",
            "Epoch 119/200\n",
            " 38/196 [====>.........................] - ETA: 25s - loss: 0.7219 - acc: 0.7835"
          ],
          "name": "stdout"
        },
        {
          "output_type": "stream",
          "text": [
            "196/196 [==============================] - 37s 188ms/step - loss: 0.7204 - acc: 0.7788 - val_loss: 0.6559 - val_acc: 0.8060\n",
            "\n",
            "Epoch 00119: val_acc did not improve from 0.81630\n",
            "Epoch 120/200\n",
            "196/196 [==============================] - 37s 188ms/step - loss: 0.7171 - acc: 0.7827 - val_loss: 0.6575 - val_acc: 0.8082\n",
            "\n",
            "Epoch 00120: val_acc did not improve from 0.81630\n",
            "Epoch 121/200\n",
            " 72/196 [==========>...................] - ETA: 21s - loss: 0.7095 - acc: 0.7843"
          ],
          "name": "stdout"
        },
        {
          "output_type": "stream",
          "text": [
            "196/196 [==============================] - 37s 188ms/step - loss: 0.7095 - acc: 0.7825 - val_loss: 0.6628 - val_acc: 0.8049\n",
            "\n",
            "Epoch 00121: val_acc did not improve from 0.81630\n",
            "Epoch 122/200\n",
            "196/196 [==============================] - 37s 188ms/step - loss: 0.7124 - acc: 0.7827 - val_loss: 0.6465 - val_acc: 0.8087\n",
            "\n",
            "Epoch 00122: val_acc did not improve from 0.81630\n",
            "Epoch 123/200\n",
            " 77/196 [==========>...................] - ETA: 20s - loss: 0.7022 - acc: 0.7840"
          ],
          "name": "stdout"
        },
        {
          "output_type": "stream",
          "text": [
            "196/196 [==============================] - 37s 186ms/step - loss: 0.7050 - acc: 0.7841 - val_loss: 0.6438 - val_acc: 0.8098\n",
            "\n",
            "Epoch 00123: val_acc did not improve from 0.81630\n",
            "Epoch 124/200\n",
            "196/196 [==============================] - 37s 188ms/step - loss: 0.7054 - acc: 0.7861 - val_loss: 0.6447 - val_acc: 0.8092\n",
            "\n",
            "Epoch 00124: val_acc did not improve from 0.81630\n",
            "Epoch 125/200\n",
            " 79/196 [===========>..................] - ETA: 20s - loss: 0.7025 - acc: 0.7862\b\b\b\b\b\b\b\b\b\b\b\b\b\b\b\b\b\b\b\b\b\b\b\b\b\b\b\b\b\b\b\b\b\b\b\b\b\b\b\b\b\b\b\b\b\b\b\b\b\b\b\b\b\b\b\b\b\b\b\b\b\b\b\b\b\b\b\b\b\b\b\b\b\b\b\b\b\b\b\b"
          ],
          "name": "stdout"
        },
        {
          "output_type": "stream",
          "text": [
            "196/196 [==============================] - 37s 187ms/step - loss: 0.7092 - acc: 0.7847 - val_loss: 0.6474 - val_acc: 0.8081\n",
            "\n",
            "Epoch 00125: val_acc did not improve from 0.81630\n",
            "Epoch 126/200\n",
            "196/196 [==============================] - 37s 188ms/step - loss: 0.7096 - acc: 0.7839 - val_loss: 0.6475 - val_acc: 0.8094\n",
            "\n",
            "Epoch 00126: val_acc did not improve from 0.81630\n",
            "Epoch 127/200\n",
            " 80/196 [===========>..................] - ETA: 20s - loss: 0.7167 - acc: 0.7824"
          ],
          "name": "stdout"
        },
        {
          "output_type": "stream",
          "text": [
            "196/196 [==============================] - 37s 187ms/step - loss: 0.7094 - acc: 0.7842 - val_loss: 0.6409 - val_acc: 0.8102\n",
            "\n",
            "Epoch 00127: val_acc did not improve from 0.81630\n",
            "Epoch 128/200\n",
            "196/196 [==============================] - 37s 187ms/step - loss: 0.7089 - acc: 0.7839 - val_loss: 0.6441 - val_acc: 0.8092\n",
            "\n",
            "Epoch 00128: val_acc did not improve from 0.81630\n",
            "Epoch 129/200\n",
            " 81/196 [===========>..................] - ETA: 20s - loss: 0.7000 - acc: 0.7858"
          ],
          "name": "stdout"
        },
        {
          "output_type": "stream",
          "text": [
            "196/196 [==============================] - 37s 187ms/step - loss: 0.7035 - acc: 0.7862 - val_loss: 0.6419 - val_acc: 0.8094\n",
            "\n",
            "Epoch 00129: val_acc did not improve from 0.81630\n",
            "Epoch 130/200\n",
            "196/196 [==============================] - 37s 188ms/step - loss: 0.7099 - acc: 0.7826 - val_loss: 0.6449 - val_acc: 0.8075\n",
            "\n",
            "Epoch 00130: val_acc did not improve from 0.81630\n",
            "Epoch 131/200\n",
            " 80/196 [===========>..................] - ETA: 20s - loss: 0.6984 - acc: 0.7861"
          ],
          "name": "stdout"
        },
        {
          "output_type": "stream",
          "text": [
            "196/196 [==============================] - 37s 188ms/step - loss: 0.7084 - acc: 0.7837 - val_loss: 0.6434 - val_acc: 0.8094\n",
            "\n",
            "Epoch 00131: val_acc did not improve from 0.81630\n",
            "Epoch 132/200\n",
            "196/196 [==============================] - 37s 188ms/step - loss: 0.7037 - acc: 0.7847 - val_loss: 0.6436 - val_acc: 0.8098\n",
            "\n",
            "Epoch 00132: val_acc did not improve from 0.81630\n",
            "Epoch 133/200\n",
            " 81/196 [===========>..................] - ETA: 20s - loss: 0.7138 - acc: 0.7818"
          ],
          "name": "stdout"
        },
        {
          "output_type": "stream",
          "text": [
            "196/196 [==============================] - 37s 188ms/step - loss: 0.7080 - acc: 0.7838 - val_loss: 0.6441 - val_acc: 0.8095\n",
            "\n",
            "Epoch 00133: val_acc did not improve from 0.81630\n",
            "Epoch 134/200\n",
            "196/196 [==============================] - 37s 188ms/step - loss: 0.7075 - acc: 0.7823 - val_loss: 0.6442 - val_acc: 0.8086\n",
            "\n",
            "Epoch 00134: val_acc did not improve from 0.81630\n",
            "Epoch 135/200\n",
            " 77/196 [==========>...................] - ETA: 20s - loss: 0.7090 - acc: 0.7852"
          ],
          "name": "stdout"
        },
        {
          "output_type": "stream",
          "text": [
            "196/196 [==============================] - 37s 186ms/step - loss: 0.7075 - acc: 0.7841 - val_loss: 0.6486 - val_acc: 0.8079\n",
            "\n",
            "Epoch 00135: val_acc did not improve from 0.81630\n",
            "Epoch 136/200\n",
            "196/196 [==============================] - 37s 187ms/step - loss: 0.7017 - acc: 0.7867 - val_loss: 0.6489 - val_acc: 0.8086\n",
            "\n",
            "Epoch 00136: val_acc did not improve from 0.81630\n",
            "Epoch 137/200\n",
            " 81/196 [===========>..................] - ETA: 20s - loss: 0.7029 - acc: 0.7847"
          ],
          "name": "stdout"
        },
        {
          "output_type": "stream",
          "text": [
            "196/196 [==============================] - 37s 187ms/step - loss: 0.7062 - acc: 0.7836 - val_loss: 0.6449 - val_acc: 0.8079\n",
            "\n",
            "Epoch 00137: val_acc did not improve from 0.81630\n",
            "Epoch 138/200\n",
            "196/196 [==============================] - 36s 186ms/step - loss: 0.7039 - acc: 0.7843 - val_loss: 0.6434 - val_acc: 0.8090\n",
            "\n",
            "Epoch 00138: val_acc did not improve from 0.81630\n",
            "Epoch 139/200\n",
            " 82/196 [===========>..................] - ETA: 19s - loss: 0.7024 - acc: 0.7851"
          ],
          "name": "stdout"
        },
        {
          "output_type": "stream",
          "text": [
            "196/196 [==============================] - 36s 186ms/step - loss: 0.7048 - acc: 0.7838 - val_loss: 0.6452 - val_acc: 0.8088\n",
            "\n",
            "Epoch 00139: val_acc did not improve from 0.81630\n",
            "Epoch 140/200\n",
            "196/196 [==============================] - 37s 187ms/step - loss: 0.7069 - acc: 0.7859 - val_loss: 0.6461 - val_acc: 0.8086\n",
            "\n",
            "Epoch 00140: val_acc did not improve from 0.81630\n",
            "Epoch 141/200\n",
            " 80/196 [===========>..................] - ETA: 20s - loss: 0.7086 - acc: 0.7854"
          ],
          "name": "stdout"
        },
        {
          "output_type": "stream",
          "text": [
            "196/196 [==============================] - 37s 187ms/step - loss: 0.7077 - acc: 0.7835 - val_loss: 0.6416 - val_acc: 0.8093\n",
            "\n",
            "Epoch 00141: val_acc did not improve from 0.81630\n",
            "Epoch 142/200\n",
            "196/196 [==============================] - 37s 187ms/step - loss: 0.7038 - acc: 0.7841 - val_loss: 0.6428 - val_acc: 0.8099\n",
            "\n",
            "Epoch 00142: val_acc did not improve from 0.81630\n",
            "Epoch 143/200\n",
            " 81/196 [===========>..................] - ETA: 20s - loss: 0.7034 - acc: 0.7841"
          ],
          "name": "stdout"
        },
        {
          "output_type": "stream",
          "text": [
            "196/196 [==============================] - 37s 187ms/step - loss: 0.7050 - acc: 0.7847 - val_loss: 0.6406 - val_acc: 0.8093\n",
            "\n",
            "Epoch 00143: val_acc did not improve from 0.81630\n",
            "Epoch 144/200\n",
            "196/196 [==============================] - 37s 187ms/step - loss: 0.7033 - acc: 0.7840 - val_loss: 0.6450 - val_acc: 0.8089\n",
            "\n",
            "Epoch 00144: val_acc did not improve from 0.81630\n",
            "Epoch 145/200\n",
            " 81/196 [===========>..................] - ETA: 20s - loss: 0.7082 - acc: 0.7853"
          ],
          "name": "stdout"
        },
        {
          "output_type": "stream",
          "text": [
            "196/196 [==============================] - 37s 188ms/step - loss: 0.7023 - acc: 0.7871 - val_loss: 0.6474 - val_acc: 0.8081\n",
            "\n",
            "Epoch 00145: val_acc did not improve from 0.81630\n",
            "Epoch 146/200\n",
            "196/196 [==============================] - 37s 188ms/step - loss: 0.7043 - acc: 0.7846 - val_loss: 0.6499 - val_acc: 0.8088\n",
            "\n",
            "Epoch 00146: val_acc did not improve from 0.81630\n",
            "Epoch 147/200\n",
            " 79/196 [===========>..................] - ETA: 20s - loss: 0.6921 - acc: 0.7896"
          ],
          "name": "stdout"
        },
        {
          "output_type": "stream",
          "text": [
            "196/196 [==============================] - 37s 188ms/step - loss: 0.7040 - acc: 0.7852 - val_loss: 0.6458 - val_acc: 0.8085\n",
            "\n",
            "Epoch 00147: val_acc did not improve from 0.81630\n",
            "Epoch 148/200\n",
            "196/196 [==============================] - 37s 188ms/step - loss: 0.7004 - acc: 0.7867 - val_loss: 0.6455 - val_acc: 0.8083\n",
            "\n",
            "Epoch 00148: val_acc did not improve from 0.81630\n",
            "Epoch 149/200\n",
            " 80/196 [===========>..................] - ETA: 20s - loss: 0.7002 - acc: 0.7881"
          ],
          "name": "stdout"
        },
        {
          "output_type": "stream",
          "text": [
            "196/196 [==============================] - 37s 188ms/step - loss: 0.7045 - acc: 0.7844 - val_loss: 0.6415 - val_acc: 0.8095\n",
            "\n",
            "Epoch 00149: val_acc did not improve from 0.81630\n",
            "Epoch 150/200\n",
            "196/196 [==============================] - 37s 187ms/step - loss: 0.7033 - acc: 0.7873 - val_loss: 0.6423 - val_acc: 0.8095\n",
            "\n",
            "Epoch 00150: val_acc did not improve from 0.81630\n",
            "Epoch 151/200\n",
            " 80/196 [===========>..................] - ETA: 20s - loss: 0.6986 - acc: 0.7847"
          ],
          "name": "stdout"
        },
        {
          "output_type": "stream",
          "text": [
            "196/196 [==============================] - 37s 186ms/step - loss: 0.7025 - acc: 0.7852 - val_loss: 0.6454 - val_acc: 0.8087\n",
            "\n",
            "Epoch 00151: val_acc did not improve from 0.81630\n",
            "Epoch 152/200\n",
            "196/196 [==============================] - 37s 188ms/step - loss: 0.7019 - acc: 0.7853 - val_loss: 0.6452 - val_acc: 0.8085\n",
            "\n",
            "Epoch 00152: val_acc did not improve from 0.81630\n",
            "Epoch 153/200\n",
            " 80/196 [===========>..................] - ETA: 20s - loss: 0.7081 - acc: 0.7868"
          ],
          "name": "stdout"
        },
        {
          "output_type": "stream",
          "text": [
            "196/196 [==============================] - 37s 187ms/step - loss: 0.7071 - acc: 0.7864 - val_loss: 0.6434 - val_acc: 0.8085\n",
            "\n",
            "Epoch 00153: val_acc did not improve from 0.81630\n",
            "Epoch 154/200\n",
            "196/196 [==============================] - 37s 188ms/step - loss: 0.7018 - acc: 0.7869 - val_loss: 0.6415 - val_acc: 0.8093\n",
            "\n",
            "Epoch 00154: val_acc did not improve from 0.81630\n",
            "Epoch 155/200\n",
            " 81/196 [===========>..................] - ETA: 19s - loss: 0.7004 - acc: 0.7878"
          ],
          "name": "stdout"
        },
        {
          "output_type": "stream",
          "text": [
            "196/196 [==============================] - 37s 187ms/step - loss: 0.7068 - acc: 0.7841 - val_loss: 0.6439 - val_acc: 0.8088\n",
            "\n",
            "Epoch 00155: val_acc did not improve from 0.81630\n",
            "Epoch 156/200\n",
            "196/196 [==============================] - 37s 187ms/step - loss: 0.6965 - acc: 0.7884 - val_loss: 0.6420 - val_acc: 0.8090\n",
            "\n",
            "Epoch 00156: val_acc did not improve from 0.81630\n",
            "Epoch 157/200\n",
            " 79/196 [===========>..................] - ETA: 20s - loss: 0.7022 - acc: 0.7823"
          ],
          "name": "stdout"
        },
        {
          "output_type": "stream",
          "text": [
            "196/196 [==============================] - 37s 187ms/step - loss: 0.7033 - acc: 0.7845 - val_loss: 0.6423 - val_acc: 0.8092\n",
            "\n",
            "Epoch 00157: val_acc did not improve from 0.81630\n",
            "Epoch 158/200\n",
            "196/196 [==============================] - 37s 188ms/step - loss: 0.7032 - acc: 0.7858 - val_loss: 0.6430 - val_acc: 0.8094\n",
            "\n",
            "Epoch 00158: val_acc did not improve from 0.81630\n",
            "Epoch 159/200\n",
            " 78/196 [==========>...................] - ETA: 20s - loss: 0.6974 - acc: 0.7883"
          ],
          "name": "stdout"
        },
        {
          "output_type": "stream",
          "text": [
            "196/196 [==============================] - 37s 187ms/step - loss: 0.7017 - acc: 0.7853 - val_loss: 0.6389 - val_acc: 0.8102\n",
            "\n",
            "Epoch 00159: val_acc did not improve from 0.81630\n",
            "Epoch 160/200\n",
            "196/196 [==============================] - 37s 188ms/step - loss: 0.7022 - acc: 0.7852 - val_loss: 0.6399 - val_acc: 0.8103\n",
            "\n",
            "Epoch 00160: val_acc did not improve from 0.81630\n",
            "Epoch 161/200\n",
            " 80/196 [===========>..................] - ETA: 19s - loss: 0.6993 - acc: 0.7872"
          ],
          "name": "stdout"
        },
        {
          "output_type": "stream",
          "text": [
            "196/196 [==============================] - 37s 187ms/step - loss: 0.7020 - acc: 0.7853 - val_loss: 0.6370 - val_acc: 0.8105\n",
            "\n",
            "Epoch 00161: val_acc did not improve from 0.81630\n",
            "Epoch 162/200\n",
            "196/196 [==============================] - 37s 187ms/step - loss: 0.7041 - acc: 0.7839 - val_loss: 0.6375 - val_acc: 0.8104\n",
            "\n",
            "Epoch 00162: val_acc did not improve from 0.81630\n",
            "Epoch 163/200\n",
            " 81/196 [===========>..................] - ETA: 20s - loss: 0.7037 - acc: 0.7850"
          ],
          "name": "stdout"
        },
        {
          "output_type": "stream",
          "text": [
            "196/196 [==============================] - 37s 187ms/step - loss: 0.7042 - acc: 0.7843 - val_loss: 0.6381 - val_acc: 0.8106\n",
            "\n",
            "Epoch 00163: val_acc did not improve from 0.81630\n",
            "Epoch 164/200\n",
            "196/196 [==============================] - 37s 187ms/step - loss: 0.7072 - acc: 0.7817 - val_loss: 0.6391 - val_acc: 0.8103\n",
            "\n",
            "Epoch 00164: val_acc did not improve from 0.81630\n",
            "Epoch 165/200\n",
            " 81/196 [===========>..................] - ETA: 20s - loss: 0.7000 - acc: 0.7880"
          ],
          "name": "stdout"
        },
        {
          "output_type": "stream",
          "text": [
            "196/196 [==============================] - 37s 186ms/step - loss: 0.7017 - acc: 0.7857 - val_loss: 0.6396 - val_acc: 0.8101\n",
            "\n",
            "Epoch 00165: val_acc did not improve from 0.81630\n",
            "Epoch 166/200\n",
            "196/196 [==============================] - 37s 187ms/step - loss: 0.7033 - acc: 0.7853 - val_loss: 0.6393 - val_acc: 0.8098\n",
            "\n",
            "Epoch 00166: val_acc did not improve from 0.81630\n",
            "Epoch 167/200\n",
            " 76/196 [==========>...................] - ETA: 20s - loss: 0.7034 - acc: 0.7859"
          ],
          "name": "stdout"
        },
        {
          "output_type": "stream",
          "text": [
            "196/196 [==============================] - 37s 188ms/step - loss: 0.7010 - acc: 0.7858 - val_loss: 0.6391 - val_acc: 0.8100\n",
            "\n",
            "Epoch 00167: val_acc did not improve from 0.81630\n",
            "Epoch 168/200\n",
            "196/196 [==============================] - 37s 187ms/step - loss: 0.6994 - acc: 0.7837 - val_loss: 0.6396 - val_acc: 0.8100\n",
            "\n",
            "Epoch 00168: val_acc did not improve from 0.81630\n",
            "Epoch 169/200\n",
            " 79/196 [===========>..................] - ETA: 20s - loss: 0.6888 - acc: 0.7893"
          ],
          "name": "stdout"
        },
        {
          "output_type": "stream",
          "text": [
            "196/196 [==============================] - 37s 187ms/step - loss: 0.7025 - acc: 0.7860 - val_loss: 0.6395 - val_acc: 0.8100\n",
            "\n",
            "Epoch 00169: val_acc did not improve from 0.81630\n",
            "Epoch 170/200\n",
            "196/196 [==============================] - 37s 187ms/step - loss: 0.7026 - acc: 0.7840 - val_loss: 0.6393 - val_acc: 0.8101\n",
            "\n",
            "Epoch 00170: val_acc did not improve from 0.81630\n",
            "Epoch 171/200\n",
            " 77/196 [==========>...................] - ETA: 20s - loss: 0.7015 - acc: 0.7831"
          ],
          "name": "stdout"
        },
        {
          "output_type": "stream",
          "text": [
            "196/196 [==============================] - 37s 188ms/step - loss: 0.7058 - acc: 0.7834 - val_loss: 0.6390 - val_acc: 0.8099\n",
            "\n",
            "Epoch 00171: val_acc did not improve from 0.81630\n",
            "Epoch 172/200\n",
            "196/196 [==============================] - 37s 187ms/step - loss: 0.7069 - acc: 0.7832 - val_loss: 0.6388 - val_acc: 0.8100\n",
            "\n",
            "Epoch 00172: val_acc did not improve from 0.81630\n",
            "Epoch 173/200\n",
            " 80/196 [===========>..................] - ETA: 20s - loss: 0.6955 - acc: 0.7900"
          ],
          "name": "stdout"
        },
        {
          "output_type": "stream",
          "text": [
            "196/196 [==============================] - 37s 187ms/step - loss: 0.7010 - acc: 0.7865 - val_loss: 0.6395 - val_acc: 0.8103\n",
            "\n",
            "Epoch 00173: val_acc did not improve from 0.81630\n",
            "Epoch 174/200\n",
            "196/196 [==============================] - 37s 187ms/step - loss: 0.7002 - acc: 0.7852 - val_loss: 0.6394 - val_acc: 0.8102\n",
            "\n",
            "Epoch 00174: val_acc did not improve from 0.81630\n",
            "Epoch 175/200\n",
            " 81/196 [===========>..................] - ETA: 20s - loss: 0.7012 - acc: 0.7836"
          ],
          "name": "stdout"
        },
        {
          "output_type": "stream",
          "text": [
            "196/196 [==============================] - 37s 188ms/step - loss: 0.7002 - acc: 0.7868 - val_loss: 0.6390 - val_acc: 0.8103\n",
            "\n",
            "Epoch 00175: val_acc did not improve from 0.81630\n",
            "Epoch 176/200\n",
            "196/196 [==============================] - 37s 188ms/step - loss: 0.7001 - acc: 0.7872 - val_loss: 0.6392 - val_acc: 0.8101\n",
            "\n",
            "Epoch 00176: val_acc did not improve from 0.81630\n",
            "Epoch 177/200\n",
            " 79/196 [===========>..................] - ETA: 20s - loss: 0.6979 - acc: 0.7875"
          ],
          "name": "stdout"
        },
        {
          "output_type": "stream",
          "text": [
            "196/196 [==============================] - 37s 187ms/step - loss: 0.7000 - acc: 0.7888 - val_loss: 0.6393 - val_acc: 0.8102\n",
            "\n",
            "Epoch 00177: val_acc did not improve from 0.81630\n",
            "Epoch 178/200\n",
            "196/196 [==============================] - 37s 188ms/step - loss: 0.7016 - acc: 0.7867 - val_loss: 0.6392 - val_acc: 0.8100\n",
            "\n",
            "Epoch 00178: val_acc did not improve from 0.81630\n",
            "Epoch 179/200\n",
            " 78/196 [==========>...................] - ETA: 20s - loss: 0.7053 - acc: 0.7840"
          ],
          "name": "stdout"
        },
        {
          "output_type": "stream",
          "text": [
            "196/196 [==============================] - 37s 187ms/step - loss: 0.7032 - acc: 0.7839 - val_loss: 0.6403 - val_acc: 0.8102\n",
            "\n",
            "Epoch 00179: val_acc did not improve from 0.81630\n",
            "Epoch 180/200\n",
            "196/196 [==============================] - 37s 187ms/step - loss: 0.7006 - acc: 0.7856 - val_loss: 0.6400 - val_acc: 0.8103\n",
            "\n",
            "Epoch 00180: val_acc did not improve from 0.81630\n",
            "Epoch 181/200\n",
            " 80/196 [===========>..................] - ETA: 20s - loss: 0.7020 - acc: 0.7862"
          ],
          "name": "stdout"
        },
        {
          "output_type": "stream",
          "text": [
            "196/196 [==============================] - 37s 187ms/step - loss: 0.6986 - acc: 0.7857 - val_loss: 0.6400 - val_acc: 0.8100\n",
            "\n",
            "Epoch 00181: val_acc did not improve from 0.81630\n",
            "Epoch 182/200\n",
            "196/196 [==============================] - 37s 187ms/step - loss: 0.6972 - acc: 0.7854 - val_loss: 0.6401 - val_acc: 0.8099\n",
            "\n",
            "Epoch 00182: val_acc did not improve from 0.81630\n",
            "Epoch 183/200\n",
            " 80/196 [===========>..................] - ETA: 20s - loss: 0.7125 - acc: 0.7823"
          ],
          "name": "stdout"
        },
        {
          "output_type": "stream",
          "text": [
            "196/196 [==============================] - 37s 187ms/step - loss: 0.7034 - acc: 0.7861 - val_loss: 0.6397 - val_acc: 0.8099\n",
            "\n",
            "Epoch 00183: val_acc did not improve from 0.81630\n",
            "Epoch 184/200\n",
            "196/196 [==============================] - 37s 188ms/step - loss: 0.7005 - acc: 0.7854 - val_loss: 0.6396 - val_acc: 0.8099\n",
            "\n",
            "Epoch 00184: val_acc did not improve from 0.81630\n",
            "Epoch 185/200\n",
            " 76/196 [==========>...................] - ETA: 20s - loss: 0.7056 - acc: 0.7858"
          ],
          "name": "stdout"
        },
        {
          "output_type": "stream",
          "text": [
            "196/196 [==============================] - 37s 187ms/step - loss: 0.6984 - acc: 0.7879 - val_loss: 0.6397 - val_acc: 0.8098\n",
            "\n",
            "Epoch 00185: val_acc did not improve from 0.81630\n",
            "Epoch 186/200\n",
            "196/196 [==============================] - 37s 189ms/step - loss: 0.7015 - acc: 0.7863 - val_loss: 0.6395 - val_acc: 0.8100\n",
            "\n",
            "Epoch 00186: val_acc did not improve from 0.81630\n",
            "Epoch 187/200\n",
            " 77/196 [==========>...................] - ETA: 20s - loss: 0.7024 - acc: 0.7843"
          ],
          "name": "stdout"
        },
        {
          "output_type": "stream",
          "text": [
            "196/196 [==============================] - 37s 188ms/step - loss: 0.7022 - acc: 0.7855 - val_loss: 0.6401 - val_acc: 0.8097\n",
            "\n",
            "Epoch 00187: val_acc did not improve from 0.81630\n",
            "Epoch 188/200\n",
            "196/196 [==============================] - 37s 188ms/step - loss: 0.7066 - acc: 0.7831 - val_loss: 0.6401 - val_acc: 0.8098\n",
            "\n",
            "Epoch 00188: val_acc did not improve from 0.81630\n",
            "Epoch 189/200\n",
            " 77/196 [==========>...................] - ETA: 20s - loss: 0.6946 - acc: 0.7849"
          ],
          "name": "stdout"
        },
        {
          "output_type": "stream",
          "text": [
            "196/196 [==============================] - 37s 187ms/step - loss: 0.7020 - acc: 0.7841 - val_loss: 0.6404 - val_acc: 0.8098\n",
            "\n",
            "Epoch 00189: val_acc did not improve from 0.81630\n",
            "Epoch 190/200\n",
            "196/196 [==============================] - 37s 187ms/step - loss: 0.6951 - acc: 0.7879 - val_loss: 0.6404 - val_acc: 0.8099\n",
            "\n",
            "Epoch 00190: val_acc did not improve from 0.81630\n",
            "Epoch 191/200\n",
            " 78/196 [==========>...................] - ETA: 20s - loss: 0.6980 - acc: 0.7871"
          ],
          "name": "stdout"
        },
        {
          "output_type": "stream",
          "text": [
            "196/196 [==============================] - 37s 188ms/step - loss: 0.6990 - acc: 0.7864 - val_loss: 0.6403 - val_acc: 0.8101\n",
            "\n",
            "Epoch 00191: val_acc did not improve from 0.81630\n",
            "Epoch 192/200\n",
            "196/196 [==============================] - 37s 188ms/step - loss: 0.7032 - acc: 0.7883 - val_loss: 0.6397 - val_acc: 0.8099\n",
            "\n",
            "Epoch 00192: val_acc did not improve from 0.81630\n",
            "Epoch 193/200\n",
            " 79/196 [===========>..................] - ETA: 20s - loss: 0.6957 - acc: 0.7874"
          ],
          "name": "stdout"
        },
        {
          "output_type": "stream",
          "text": [
            "196/196 [==============================] - 37s 188ms/step - loss: 0.6972 - acc: 0.7860 - val_loss: 0.6393 - val_acc: 0.8098\n",
            "\n",
            "Epoch 00193: val_acc did not improve from 0.81630\n",
            "Epoch 194/200\n",
            "196/196 [==============================] - 37s 188ms/step - loss: 0.7020 - acc: 0.7849 - val_loss: 0.6410 - val_acc: 0.8096\n",
            "\n",
            "Epoch 00194: val_acc did not improve from 0.81630\n",
            "Epoch 195/200\n",
            " 81/196 [===========>..................] - ETA: 19s - loss: 0.6923 - acc: 0.7893"
          ],
          "name": "stdout"
        },
        {
          "output_type": "stream",
          "text": [
            "196/196 [==============================] - 37s 187ms/step - loss: 0.6983 - acc: 0.7868 - val_loss: 0.6402 - val_acc: 0.8097\n",
            "\n",
            "Epoch 00195: val_acc did not improve from 0.81630\n",
            "Epoch 196/200\n",
            "196/196 [==============================] - 37s 187ms/step - loss: 0.7049 - acc: 0.7853 - val_loss: 0.6410 - val_acc: 0.8094\n",
            "\n",
            "Epoch 00196: val_acc did not improve from 0.81630\n",
            "Epoch 197/200\n",
            " 79/196 [===========>..................] - ETA: 20s - loss: 0.7040 - acc: 0.7837"
          ],
          "name": "stdout"
        },
        {
          "output_type": "stream",
          "text": [
            "196/196 [==============================] - 37s 188ms/step - loss: 0.6978 - acc: 0.7856 - val_loss: 0.6397 - val_acc: 0.8098\n",
            "\n",
            "Epoch 00197: val_acc did not improve from 0.81630\n",
            "Epoch 198/200\n",
            "196/196 [==============================] - 37s 188ms/step - loss: 0.7008 - acc: 0.7860 - val_loss: 0.6407 - val_acc: 0.8095\n",
            "\n",
            "Epoch 00198: val_acc did not improve from 0.81630\n",
            "Epoch 199/200\n",
            " 80/196 [===========>..................] - ETA: 20s - loss: 0.7072 - acc: 0.7825"
          ],
          "name": "stdout"
        },
        {
          "output_type": "stream",
          "text": [
            "196/196 [==============================] - 37s 187ms/step - loss: 0.7020 - acc: 0.7850 - val_loss: 0.6416 - val_acc: 0.8096\n",
            "\n",
            "Epoch 00199: val_acc did not improve from 0.81630\n",
            "Epoch 200/200\n",
            "196/196 [==============================] - 37s 187ms/step - loss: 0.7033 - acc: 0.7867 - val_loss: 0.6408 - val_acc: 0.8096\n",
            "\n",
            "Epoch 00200: val_acc did not improve from 0.81630\n"
          ],
          "name": "stdout"
        }
      ]
    },
    {
      "metadata": {
        "id": "Uw6mKlOLHqor",
        "colab_type": "text"
      },
      "cell_type": "markdown",
      "source": [
        "## Observation and Discussion \n",
        "\n",
        "The data augmentation step did improve the results by 2 or 3 % rising from 78% as previously shown in the simple architecture to 81.6%. It is worth to mention that this is the only model that is underfited as you see the testing accuracy is higher than the training accuracy in almost all the epoches. The explanation to this can be either the dropouts are fairly aggresive. Another explanation is that the testing data is not noisy as the training data so that causes the model to be ambigious classifying the noisy set and deeper layers is required to learn these noisy examples. Due to time limitation, I will leave this approach here for now and I wont investigate more to find out why. "
      ]
    },
    {
      "metadata": {
        "id": "dMe4d3d4mXyc",
        "colab_type": "text"
      },
      "cell_type": "markdown",
      "source": [
        "# Xception Model: \n",
        "\n",
        "We can think of the Xception model as an extreme way of doing inception. It is based on the hypothesis that cross-channel correlations and spatial correlations are sufficiently decoupled from each other and it is preferable not to map them jointly. The regular convolution layer basically layer basiacly seeks out both correlations in one go which is not prefared by this hypothesis. The regular convolution filter simultaneously considers a spatial dimension and a cross-channel dimension (depth of the image RBG). In [5] the author basically argues  we do we need to consider both the image region and the channels (RBG) at the same time ? The Inception model uses 1×1 convolution to project the original input into separate chunks of input spaces. Then different types of filters are applied to each space to transform these chunks. Unlike Xception model, instead of partitioning input data into several compressed chunks, it maps the spatial correlations for each output channel separately, and then performs a 1×1 depthwise convolution to capture cross-channel correlation. The author notes that this is essentially equivalent to an existing operation known as a “depthwise separable convolution\", which is also an efficient way to estimate convolution. In [5] the author shows that the Xception model outperforms Inception v3 on the ImageNet dataset, and vastly outperforms it on a larger image classification dataset with 17,000 classes. \n",
        "\n",
        "The Xception model is computationaly very efficient as shown in [5]. Based on my own humble observation it has about 20 million trainable parameters which is dramatically more parameters than a Resnet 56 but the average epoch time takes slighly more time than the Xception module. Xception is much newer (it came out in April 2017), but its architecture is already powering Google’s mobile vision applications through MobileNet."
      ]
    },
    {
      "metadata": {
        "id": "3hcTJUybHeiw",
        "colab_type": "text"
      },
      "cell_type": "markdown",
      "source": [
        "## Model"
      ]
    },
    {
      "metadata": {
        "id": "hLZfuBH2Iv43",
        "colab_type": "code",
        "colab": {
          "base_uri": "https://localhost:8080/",
          "height": 4896
        },
        "outputId": "67432404-d519-41a8-b5bc-764858e3e9be"
      },
      "cell_type": "code",
      "source": [
        "from keras.applications.xception import Xception\n",
        "\n",
        "# retrain model or use saved model\n",
        "retrain_xception = True\n",
        "#save model_after_train \n",
        "model_name_xception = '/xception_trained.h5'\n",
        "# Data augmentation \n",
        "data_augmentation = True\n",
        "# Training parameters\n",
        "batch_size = 128\n",
        "epochs = 100\n",
        "\n",
        "input_tensor = Input(shape=x_train.shape[1:])\n",
        "model = Xception(weights=None,input_tensor=input_tensor,classes=10)\n",
        "model.compile(loss='categorical_crossentropy', optimizer=Adam(lr=learning_rate_adjuster(0)),metrics=['accuracy'])\n",
        "save_dir = os.path.join(os.getcwd(), 'saved_models')\n",
        "m_name3 = 'xception_%d_model.{epoch:03d}.h5' % depth\n",
        "if not os.path.isdir(save_dir):\n",
        "    os.makedirs(save_dir)\n",
        "filepath = os.path.join(save_dir, m_name3)\n",
        "# callbacks for best saved models and for learning rates\n",
        "checkpoint = ModelCheckpoint(filepath=filepath,monitor='val_acc',verbose=1,save_best_only=True)\n",
        "lr_scheduler = LearningRateScheduler(learning_rate_adjuster)\n",
        "lr_reducer = ReduceLROnPlateau(factor=np.sqrt(0.1),cooldown=0,patience=5,min_lr=0.5e-6)\n",
        "callbacks = [checkpoint, lr_reducer, lr_scheduler]\n",
        "model.summary()\n"
      ],
      "execution_count": 12,
      "outputs": [
        {
          "output_type": "stream",
          "text": [
            "__________________________________________________________________________________________________\n",
            "Layer (type)                    Output Shape         Param #     Connected to                     \n",
            "==================================================================================================\n",
            "input_5 (InputLayer)            (None, 32, 32, 3)    0                                            \n",
            "__________________________________________________________________________________________________\n",
            "block1_conv1 (Conv2D)           (None, 15, 15, 32)   864         input_5[0][0]                    \n",
            "__________________________________________________________________________________________________\n",
            "block1_conv1_bn (BatchNormaliza (None, 15, 15, 32)   128         block1_conv1[0][0]               \n",
            "__________________________________________________________________________________________________\n",
            "block1_conv1_act (Activation)   (None, 15, 15, 32)   0           block1_conv1_bn[0][0]            \n",
            "__________________________________________________________________________________________________\n",
            "block1_conv2 (Conv2D)           (None, 13, 13, 64)   18432       block1_conv1_act[0][0]           \n",
            "__________________________________________________________________________________________________\n",
            "block1_conv2_bn (BatchNormaliza (None, 13, 13, 64)   256         block1_conv2[0][0]               \n",
            "__________________________________________________________________________________________________\n",
            "block1_conv2_act (Activation)   (None, 13, 13, 64)   0           block1_conv2_bn[0][0]            \n",
            "__________________________________________________________________________________________________\n",
            "block2_sepconv1 (SeparableConv2 (None, 13, 13, 128)  8768        block1_conv2_act[0][0]           \n",
            "__________________________________________________________________________________________________\n",
            "block2_sepconv1_bn (BatchNormal (None, 13, 13, 128)  512         block2_sepconv1[0][0]            \n",
            "__________________________________________________________________________________________________\n",
            "block2_sepconv2_act (Activation (None, 13, 13, 128)  0           block2_sepconv1_bn[0][0]         \n",
            "__________________________________________________________________________________________________\n",
            "block2_sepconv2 (SeparableConv2 (None, 13, 13, 128)  17536       block2_sepconv2_act[0][0]        \n",
            "__________________________________________________________________________________________________\n",
            "block2_sepconv2_bn (BatchNormal (None, 13, 13, 128)  512         block2_sepconv2[0][0]            \n",
            "__________________________________________________________________________________________________\n",
            "conv2d_35 (Conv2D)              (None, 7, 7, 128)    8192        block1_conv2_act[0][0]           \n",
            "__________________________________________________________________________________________________\n",
            "block2_pool (MaxPooling2D)      (None, 7, 7, 128)    0           block2_sepconv2_bn[0][0]         \n",
            "__________________________________________________________________________________________________\n",
            "batch_normalization_32 (BatchNo (None, 7, 7, 128)    512         conv2d_35[0][0]                  \n",
            "__________________________________________________________________________________________________\n",
            "add_43 (Add)                    (None, 7, 7, 128)    0           block2_pool[0][0]                \n",
            "                                                                 batch_normalization_32[0][0]     \n",
            "__________________________________________________________________________________________________\n",
            "block3_sepconv1_act (Activation (None, 7, 7, 128)    0           add_43[0][0]                     \n",
            "__________________________________________________________________________________________________\n",
            "block3_sepconv1 (SeparableConv2 (None, 7, 7, 256)    33920       block3_sepconv1_act[0][0]        \n",
            "__________________________________________________________________________________________________\n",
            "block3_sepconv1_bn (BatchNormal (None, 7, 7, 256)    1024        block3_sepconv1[0][0]            \n",
            "__________________________________________________________________________________________________\n",
            "block3_sepconv2_act (Activation (None, 7, 7, 256)    0           block3_sepconv1_bn[0][0]         \n",
            "__________________________________________________________________________________________________\n",
            "block3_sepconv2 (SeparableConv2 (None, 7, 7, 256)    67840       block3_sepconv2_act[0][0]        \n",
            "__________________________________________________________________________________________________\n",
            "block3_sepconv2_bn (BatchNormal (None, 7, 7, 256)    1024        block3_sepconv2[0][0]            \n",
            "__________________________________________________________________________________________________\n",
            "conv2d_36 (Conv2D)              (None, 4, 4, 256)    32768       add_43[0][0]                     \n",
            "__________________________________________________________________________________________________\n",
            "block3_pool (MaxPooling2D)      (None, 4, 4, 256)    0           block3_sepconv2_bn[0][0]         \n",
            "__________________________________________________________________________________________________\n",
            "batch_normalization_33 (BatchNo (None, 4, 4, 256)    1024        conv2d_36[0][0]                  \n",
            "__________________________________________________________________________________________________\n",
            "add_44 (Add)                    (None, 4, 4, 256)    0           block3_pool[0][0]                \n",
            "                                                                 batch_normalization_33[0][0]     \n",
            "__________________________________________________________________________________________________\n",
            "block4_sepconv1_act (Activation (None, 4, 4, 256)    0           add_44[0][0]                     \n",
            "__________________________________________________________________________________________________\n",
            "block4_sepconv1 (SeparableConv2 (None, 4, 4, 728)    188672      block4_sepconv1_act[0][0]        \n",
            "__________________________________________________________________________________________________\n",
            "block4_sepconv1_bn (BatchNormal (None, 4, 4, 728)    2912        block4_sepconv1[0][0]            \n",
            "__________________________________________________________________________________________________\n",
            "block4_sepconv2_act (Activation (None, 4, 4, 728)    0           block4_sepconv1_bn[0][0]         \n",
            "__________________________________________________________________________________________________\n",
            "block4_sepconv2 (SeparableConv2 (None, 4, 4, 728)    536536      block4_sepconv2_act[0][0]        \n",
            "__________________________________________________________________________________________________\n",
            "block4_sepconv2_bn (BatchNormal (None, 4, 4, 728)    2912        block4_sepconv2[0][0]            \n",
            "__________________________________________________________________________________________________\n",
            "conv2d_37 (Conv2D)              (None, 2, 2, 728)    186368      add_44[0][0]                     \n",
            "__________________________________________________________________________________________________\n",
            "block4_pool (MaxPooling2D)      (None, 2, 2, 728)    0           block4_sepconv2_bn[0][0]         \n",
            "__________________________________________________________________________________________________\n",
            "batch_normalization_34 (BatchNo (None, 2, 2, 728)    2912        conv2d_37[0][0]                  \n",
            "__________________________________________________________________________________________________\n",
            "add_45 (Add)                    (None, 2, 2, 728)    0           block4_pool[0][0]                \n",
            "                                                                 batch_normalization_34[0][0]     \n",
            "__________________________________________________________________________________________________\n",
            "block5_sepconv1_act (Activation (None, 2, 2, 728)    0           add_45[0][0]                     \n",
            "__________________________________________________________________________________________________\n",
            "block5_sepconv1 (SeparableConv2 (None, 2, 2, 728)    536536      block5_sepconv1_act[0][0]        \n",
            "__________________________________________________________________________________________________\n",
            "block5_sepconv1_bn (BatchNormal (None, 2, 2, 728)    2912        block5_sepconv1[0][0]            \n",
            "__________________________________________________________________________________________________\n",
            "block5_sepconv2_act (Activation (None, 2, 2, 728)    0           block5_sepconv1_bn[0][0]         \n",
            "__________________________________________________________________________________________________\n",
            "block5_sepconv2 (SeparableConv2 (None, 2, 2, 728)    536536      block5_sepconv2_act[0][0]        \n",
            "__________________________________________________________________________________________________\n",
            "block5_sepconv2_bn (BatchNormal (None, 2, 2, 728)    2912        block5_sepconv2[0][0]            \n",
            "__________________________________________________________________________________________________\n",
            "block5_sepconv3_act (Activation (None, 2, 2, 728)    0           block5_sepconv2_bn[0][0]         \n",
            "__________________________________________________________________________________________________\n",
            "block5_sepconv3 (SeparableConv2 (None, 2, 2, 728)    536536      block5_sepconv3_act[0][0]        \n",
            "__________________________________________________________________________________________________\n",
            "block5_sepconv3_bn (BatchNormal (None, 2, 2, 728)    2912        block5_sepconv3[0][0]            \n",
            "__________________________________________________________________________________________________\n",
            "add_46 (Add)                    (None, 2, 2, 728)    0           block5_sepconv3_bn[0][0]         \n",
            "                                                                 add_45[0][0]                     \n",
            "__________________________________________________________________________________________________\n",
            "block6_sepconv1_act (Activation (None, 2, 2, 728)    0           add_46[0][0]                     \n",
            "__________________________________________________________________________________________________\n",
            "block6_sepconv1 (SeparableConv2 (None, 2, 2, 728)    536536      block6_sepconv1_act[0][0]        \n",
            "__________________________________________________________________________________________________\n",
            "block6_sepconv1_bn (BatchNormal (None, 2, 2, 728)    2912        block6_sepconv1[0][0]            \n",
            "__________________________________________________________________________________________________\n",
            "block6_sepconv2_act (Activation (None, 2, 2, 728)    0           block6_sepconv1_bn[0][0]         \n",
            "__________________________________________________________________________________________________\n",
            "block6_sepconv2 (SeparableConv2 (None, 2, 2, 728)    536536      block6_sepconv2_act[0][0]        \n",
            "__________________________________________________________________________________________________\n",
            "block6_sepconv2_bn (BatchNormal (None, 2, 2, 728)    2912        block6_sepconv2[0][0]            \n",
            "__________________________________________________________________________________________________\n",
            "block6_sepconv3_act (Activation (None, 2, 2, 728)    0           block6_sepconv2_bn[0][0]         \n",
            "__________________________________________________________________________________________________\n",
            "block6_sepconv3 (SeparableConv2 (None, 2, 2, 728)    536536      block6_sepconv3_act[0][0]        \n",
            "__________________________________________________________________________________________________\n",
            "block6_sepconv3_bn (BatchNormal (None, 2, 2, 728)    2912        block6_sepconv3[0][0]            \n",
            "__________________________________________________________________________________________________\n",
            "add_47 (Add)                    (None, 2, 2, 728)    0           block6_sepconv3_bn[0][0]         \n",
            "                                                                 add_46[0][0]                     \n",
            "__________________________________________________________________________________________________\n",
            "block7_sepconv1_act (Activation (None, 2, 2, 728)    0           add_47[0][0]                     \n",
            "__________________________________________________________________________________________________\n",
            "block7_sepconv1 (SeparableConv2 (None, 2, 2, 728)    536536      block7_sepconv1_act[0][0]        \n",
            "__________________________________________________________________________________________________\n",
            "block7_sepconv1_bn (BatchNormal (None, 2, 2, 728)    2912        block7_sepconv1[0][0]            \n",
            "__________________________________________________________________________________________________\n",
            "block7_sepconv2_act (Activation (None, 2, 2, 728)    0           block7_sepconv1_bn[0][0]         \n",
            "__________________________________________________________________________________________________\n",
            "block7_sepconv2 (SeparableConv2 (None, 2, 2, 728)    536536      block7_sepconv2_act[0][0]        \n",
            "__________________________________________________________________________________________________\n",
            "block7_sepconv2_bn (BatchNormal (None, 2, 2, 728)    2912        block7_sepconv2[0][0]            \n",
            "__________________________________________________________________________________________________\n",
            "block7_sepconv3_act (Activation (None, 2, 2, 728)    0           block7_sepconv2_bn[0][0]         \n",
            "__________________________________________________________________________________________________\n",
            "block7_sepconv3 (SeparableConv2 (None, 2, 2, 728)    536536      block7_sepconv3_act[0][0]        \n",
            "__________________________________________________________________________________________________\n",
            "block7_sepconv3_bn (BatchNormal (None, 2, 2, 728)    2912        block7_sepconv3[0][0]            \n",
            "__________________________________________________________________________________________________\n",
            "add_48 (Add)                    (None, 2, 2, 728)    0           block7_sepconv3_bn[0][0]         \n",
            "                                                                 add_47[0][0]                     \n",
            "__________________________________________________________________________________________________\n",
            "block8_sepconv1_act (Activation (None, 2, 2, 728)    0           add_48[0][0]                     \n",
            "__________________________________________________________________________________________________\n",
            "block8_sepconv1 (SeparableConv2 (None, 2, 2, 728)    536536      block8_sepconv1_act[0][0]        \n",
            "__________________________________________________________________________________________________\n",
            "block8_sepconv1_bn (BatchNormal (None, 2, 2, 728)    2912        block8_sepconv1[0][0]            \n",
            "__________________________________________________________________________________________________\n",
            "block8_sepconv2_act (Activation (None, 2, 2, 728)    0           block8_sepconv1_bn[0][0]         \n",
            "__________________________________________________________________________________________________\n",
            "block8_sepconv2 (SeparableConv2 (None, 2, 2, 728)    536536      block8_sepconv2_act[0][0]        \n",
            "__________________________________________________________________________________________________\n",
            "block8_sepconv2_bn (BatchNormal (None, 2, 2, 728)    2912        block8_sepconv2[0][0]            \n",
            "__________________________________________________________________________________________________\n",
            "block8_sepconv3_act (Activation (None, 2, 2, 728)    0           block8_sepconv2_bn[0][0]         \n",
            "__________________________________________________________________________________________________\n",
            "block8_sepconv3 (SeparableConv2 (None, 2, 2, 728)    536536      block8_sepconv3_act[0][0]        \n",
            "__________________________________________________________________________________________________\n",
            "block8_sepconv3_bn (BatchNormal (None, 2, 2, 728)    2912        block8_sepconv3[0][0]            \n",
            "__________________________________________________________________________________________________\n",
            "add_49 (Add)                    (None, 2, 2, 728)    0           block8_sepconv3_bn[0][0]         \n",
            "                                                                 add_48[0][0]                     \n",
            "__________________________________________________________________________________________________\n",
            "block9_sepconv1_act (Activation (None, 2, 2, 728)    0           add_49[0][0]                     \n",
            "__________________________________________________________________________________________________\n",
            "block9_sepconv1 (SeparableConv2 (None, 2, 2, 728)    536536      block9_sepconv1_act[0][0]        \n",
            "__________________________________________________________________________________________________\n",
            "block9_sepconv1_bn (BatchNormal (None, 2, 2, 728)    2912        block9_sepconv1[0][0]            \n",
            "__________________________________________________________________________________________________\n",
            "block9_sepconv2_act (Activation (None, 2, 2, 728)    0           block9_sepconv1_bn[0][0]         \n",
            "__________________________________________________________________________________________________\n",
            "block9_sepconv2 (SeparableConv2 (None, 2, 2, 728)    536536      block9_sepconv2_act[0][0]        \n",
            "__________________________________________________________________________________________________\n",
            "block9_sepconv2_bn (BatchNormal (None, 2, 2, 728)    2912        block9_sepconv2[0][0]            \n",
            "__________________________________________________________________________________________________\n",
            "block9_sepconv3_act (Activation (None, 2, 2, 728)    0           block9_sepconv2_bn[0][0]         \n",
            "__________________________________________________________________________________________________\n",
            "block9_sepconv3 (SeparableConv2 (None, 2, 2, 728)    536536      block9_sepconv3_act[0][0]        \n",
            "__________________________________________________________________________________________________\n",
            "block9_sepconv3_bn (BatchNormal (None, 2, 2, 728)    2912        block9_sepconv3[0][0]            \n",
            "__________________________________________________________________________________________________\n",
            "add_50 (Add)                    (None, 2, 2, 728)    0           block9_sepconv3_bn[0][0]         \n",
            "                                                                 add_49[0][0]                     \n",
            "__________________________________________________________________________________________________\n",
            "block10_sepconv1_act (Activatio (None, 2, 2, 728)    0           add_50[0][0]                     \n",
            "__________________________________________________________________________________________________\n",
            "block10_sepconv1 (SeparableConv (None, 2, 2, 728)    536536      block10_sepconv1_act[0][0]       \n",
            "__________________________________________________________________________________________________\n",
            "block10_sepconv1_bn (BatchNorma (None, 2, 2, 728)    2912        block10_sepconv1[0][0]           \n",
            "__________________________________________________________________________________________________\n",
            "block10_sepconv2_act (Activatio (None, 2, 2, 728)    0           block10_sepconv1_bn[0][0]        \n",
            "__________________________________________________________________________________________________\n",
            "block10_sepconv2 (SeparableConv (None, 2, 2, 728)    536536      block10_sepconv2_act[0][0]       \n",
            "__________________________________________________________________________________________________\n",
            "block10_sepconv2_bn (BatchNorma (None, 2, 2, 728)    2912        block10_sepconv2[0][0]           \n",
            "__________________________________________________________________________________________________\n",
            "block10_sepconv3_act (Activatio (None, 2, 2, 728)    0           block10_sepconv2_bn[0][0]        \n",
            "__________________________________________________________________________________________________\n",
            "block10_sepconv3 (SeparableConv (None, 2, 2, 728)    536536      block10_sepconv3_act[0][0]       \n",
            "__________________________________________________________________________________________________\n",
            "block10_sepconv3_bn (BatchNorma (None, 2, 2, 728)    2912        block10_sepconv3[0][0]           \n",
            "__________________________________________________________________________________________________\n",
            "add_51 (Add)                    (None, 2, 2, 728)    0           block10_sepconv3_bn[0][0]        \n",
            "                                                                 add_50[0][0]                     \n",
            "__________________________________________________________________________________________________\n",
            "block11_sepconv1_act (Activatio (None, 2, 2, 728)    0           add_51[0][0]                     \n",
            "__________________________________________________________________________________________________\n",
            "block11_sepconv1 (SeparableConv (None, 2, 2, 728)    536536      block11_sepconv1_act[0][0]       \n",
            "__________________________________________________________________________________________________\n",
            "block11_sepconv1_bn (BatchNorma (None, 2, 2, 728)    2912        block11_sepconv1[0][0]           \n",
            "__________________________________________________________________________________________________\n",
            "block11_sepconv2_act (Activatio (None, 2, 2, 728)    0           block11_sepconv1_bn[0][0]        \n",
            "__________________________________________________________________________________________________\n",
            "block11_sepconv2 (SeparableConv (None, 2, 2, 728)    536536      block11_sepconv2_act[0][0]       \n",
            "__________________________________________________________________________________________________\n",
            "block11_sepconv2_bn (BatchNorma (None, 2, 2, 728)    2912        block11_sepconv2[0][0]           \n",
            "__________________________________________________________________________________________________\n",
            "block11_sepconv3_act (Activatio (None, 2, 2, 728)    0           block11_sepconv2_bn[0][0]        \n",
            "__________________________________________________________________________________________________\n",
            "block11_sepconv3 (SeparableConv (None, 2, 2, 728)    536536      block11_sepconv3_act[0][0]       \n",
            "__________________________________________________________________________________________________\n",
            "block11_sepconv3_bn (BatchNorma (None, 2, 2, 728)    2912        block11_sepconv3[0][0]           \n",
            "__________________________________________________________________________________________________\n",
            "add_52 (Add)                    (None, 2, 2, 728)    0           block11_sepconv3_bn[0][0]        \n",
            "                                                                 add_51[0][0]                     \n",
            "__________________________________________________________________________________________________\n",
            "block12_sepconv1_act (Activatio (None, 2, 2, 728)    0           add_52[0][0]                     \n",
            "__________________________________________________________________________________________________\n",
            "block12_sepconv1 (SeparableConv (None, 2, 2, 728)    536536      block12_sepconv1_act[0][0]       \n",
            "__________________________________________________________________________________________________\n",
            "block12_sepconv1_bn (BatchNorma (None, 2, 2, 728)    2912        block12_sepconv1[0][0]           \n",
            "__________________________________________________________________________________________________\n",
            "block12_sepconv2_act (Activatio (None, 2, 2, 728)    0           block12_sepconv1_bn[0][0]        \n",
            "__________________________________________________________________________________________________\n",
            "block12_sepconv2 (SeparableConv (None, 2, 2, 728)    536536      block12_sepconv2_act[0][0]       \n",
            "__________________________________________________________________________________________________\n",
            "block12_sepconv2_bn (BatchNorma (None, 2, 2, 728)    2912        block12_sepconv2[0][0]           \n",
            "__________________________________________________________________________________________________\n",
            "block12_sepconv3_act (Activatio (None, 2, 2, 728)    0           block12_sepconv2_bn[0][0]        \n",
            "__________________________________________________________________________________________________\n",
            "block12_sepconv3 (SeparableConv (None, 2, 2, 728)    536536      block12_sepconv3_act[0][0]       \n",
            "__________________________________________________________________________________________________\n",
            "block12_sepconv3_bn (BatchNorma (None, 2, 2, 728)    2912        block12_sepconv3[0][0]           \n",
            "__________________________________________________________________________________________________\n",
            "add_53 (Add)                    (None, 2, 2, 728)    0           block12_sepconv3_bn[0][0]        \n",
            "                                                                 add_52[0][0]                     \n",
            "__________________________________________________________________________________________________\n",
            "block13_sepconv1_act (Activatio (None, 2, 2, 728)    0           add_53[0][0]                     \n",
            "__________________________________________________________________________________________________\n",
            "block13_sepconv1 (SeparableConv (None, 2, 2, 728)    536536      block13_sepconv1_act[0][0]       \n",
            "__________________________________________________________________________________________________\n",
            "block13_sepconv1_bn (BatchNorma (None, 2, 2, 728)    2912        block13_sepconv1[0][0]           \n",
            "__________________________________________________________________________________________________\n",
            "block13_sepconv2_act (Activatio (None, 2, 2, 728)    0           block13_sepconv1_bn[0][0]        \n",
            "__________________________________________________________________________________________________\n",
            "block13_sepconv2 (SeparableConv (None, 2, 2, 1024)   752024      block13_sepconv2_act[0][0]       \n",
            "__________________________________________________________________________________________________\n",
            "block13_sepconv2_bn (BatchNorma (None, 2, 2, 1024)   4096        block13_sepconv2[0][0]           \n",
            "__________________________________________________________________________________________________\n",
            "conv2d_38 (Conv2D)              (None, 1, 1, 1024)   745472      add_53[0][0]                     \n",
            "__________________________________________________________________________________________________\n",
            "block13_pool (MaxPooling2D)     (None, 1, 1, 1024)   0           block13_sepconv2_bn[0][0]        \n",
            "__________________________________________________________________________________________________\n",
            "batch_normalization_35 (BatchNo (None, 1, 1, 1024)   4096        conv2d_38[0][0]                  \n",
            "__________________________________________________________________________________________________\n",
            "add_54 (Add)                    (None, 1, 1, 1024)   0           block13_pool[0][0]               \n",
            "                                                                 batch_normalization_35[0][0]     \n",
            "__________________________________________________________________________________________________\n",
            "block14_sepconv1 (SeparableConv (None, 1, 1, 1536)   1582080     add_54[0][0]                     \n",
            "__________________________________________________________________________________________________\n",
            "block14_sepconv1_bn (BatchNorma (None, 1, 1, 1536)   6144        block14_sepconv1[0][0]           \n",
            "__________________________________________________________________________________________________\n",
            "block14_sepconv1_act (Activatio (None, 1, 1, 1536)   0           block14_sepconv1_bn[0][0]        \n",
            "__________________________________________________________________________________________________\n",
            "block14_sepconv2 (SeparableConv (None, 1, 1, 2048)   3159552     block14_sepconv1_act[0][0]       \n",
            "__________________________________________________________________________________________________\n",
            "block14_sepconv2_bn (BatchNorma (None, 1, 1, 2048)   8192        block14_sepconv2[0][0]           \n",
            "__________________________________________________________________________________________________\n",
            "block14_sepconv2_act (Activatio (None, 1, 1, 2048)   0           block14_sepconv2_bn[0][0]        \n",
            "__________________________________________________________________________________________________\n",
            "avg_pool (GlobalAveragePooling2 (None, 2048)         0           block14_sepconv2_act[0][0]       \n",
            "__________________________________________________________________________________________________\n",
            "predictions (Dense)             (None, 10)           20490       avg_pool[0][0]                   \n",
            "==================================================================================================\n",
            "Total params: 20,881,970\n",
            "Trainable params: 20,827,442\n",
            "Non-trainable params: 54,528\n",
            "__________________________________________________________________________________________________\n"
          ],
          "name": "stdout"
        }
      ]
    },
    {
      "metadata": {
        "id": "QiIXQUP-KpJe",
        "colab_type": "code",
        "colab": {
          "base_uri": "https://localhost:8080/",
          "height": 2774
        },
        "outputId": "de17f8dd-c5c5-40d3-d8c1-3d08c17aa156"
      },
      "cell_type": "code",
      "source": [
        "print (save_dir)\n",
        "if retrain_xception: \n",
        "  history = model.fit_generator(datagenerator.flow(x_train, y_train, batch_size=batch_size),\n",
        "                            validation_data=(x_test, y_test),\n",
        "                            epochs=40, verbose=1, workers=4,\n",
        "                            callbacks=callbacks)\n",
        "  model = history.model\n",
        "  model.save_weights(save_dir+model_name_xception)\n",
        "else:\n",
        "  model.load_weights(save_dir+model_name_xception)\n",
        "  print ('Model weights loaded')"
      ],
      "execution_count": 16,
      "outputs": [
        {
          "output_type": "stream",
          "text": [
            "/content/saved_models\n",
            "Epoch 1/40\n",
            "391/391 [==============================] - 108s 276ms/step - loss: 0.1024 - acc: 0.9642 - val_loss: 0.6369 - val_acc: 0.8456\n",
            "\n",
            "Epoch 00001: val_acc did not improve from 0.87750\n",
            "Epoch 2/40\n",
            "184/391 [=============>................] - ETA: 58s - loss: 0.0911 - acc: 0.9677"
          ],
          "name": "stdout"
        },
        {
          "output_type": "stream",
          "text": [
            "391/391 [==============================] - 116s 296ms/step - loss: 0.0980 - acc: 0.9645 - val_loss: 0.6243 - val_acc: 0.8536\n",
            "\n",
            "Epoch 00002: val_acc did not improve from 0.87750\n",
            "Epoch 3/40\n",
            "310/391 [======================>.......] - ETA: 21s - loss: 0.0982 - acc: 0.9649"
          ],
          "name": "stdout"
        },
        {
          "output_type": "stream",
          "text": [
            "391/391 [==============================] - 109s 278ms/step - loss: 0.0967 - acc: 0.9656 - val_loss: 0.5641 - val_acc: 0.8550\n",
            "\n",
            "Epoch 00003: val_acc did not improve from 0.87750\n",
            "Epoch 4/40\n",
            "348/391 [=========================>....] - ETA: 11s - loss: 0.0884 - acc: 0.9689"
          ],
          "name": "stdout"
        },
        {
          "output_type": "stream",
          "text": [
            "391/391 [==============================] - 106s 271ms/step - loss: 0.0910 - acc: 0.9681 - val_loss: 0.6388 - val_acc: 0.8493\n",
            "\n",
            "Epoch 00004: val_acc did not improve from 0.87750\n",
            "Epoch 5/40\n",
            "360/391 [==========================>...] - ETA: 8s - loss: 0.0862 - acc: 0.9694"
          ],
          "name": "stdout"
        },
        {
          "output_type": "stream",
          "text": [
            "391/391 [==============================] - 105s 269ms/step - loss: 0.0863 - acc: 0.9695 - val_loss: 0.6171 - val_acc: 0.8495\n",
            "\n",
            "Epoch 00005: val_acc did not improve from 0.87750\n",
            "Epoch 6/40\n",
            "363/391 [==========================>...] - ETA: 7s - loss: 0.0892 - acc: 0.9685"
          ],
          "name": "stdout"
        },
        {
          "output_type": "stream",
          "text": [
            "391/391 [==============================] - 104s 267ms/step - loss: 0.0895 - acc: 0.9683 - val_loss: 0.6184 - val_acc: 0.8529\n",
            "\n",
            "Epoch 00006: val_acc did not improve from 0.87750\n",
            "Epoch 7/40\n",
            "364/391 [==========================>...] - ETA: 7s - loss: 0.0862 - acc: 0.9700"
          ],
          "name": "stdout"
        },
        {
          "output_type": "stream",
          "text": [
            "391/391 [==============================] - 112s 286ms/step - loss: 0.0868 - acc: 0.9695 - val_loss: 0.5682 - val_acc: 0.8601\n",
            "\n",
            "Epoch 00007: val_acc did not improve from 0.87750\n",
            "Epoch 8/40\n",
            "364/391 [==========================>...] - ETA: 7s - loss: 0.0828 - acc: 0.9703"
          ],
          "name": "stdout"
        },
        {
          "output_type": "stream",
          "text": [
            "391/391 [==============================] - 112s 286ms/step - loss: 0.0832 - acc: 0.9702 - val_loss: 0.6459 - val_acc: 0.8482\n",
            "\n",
            "Epoch 00008: val_acc did not improve from 0.87750\n",
            "Epoch 9/40\n",
            "364/391 [==========================>...] - ETA: 7s - loss: 0.0826 - acc: 0.9704"
          ],
          "name": "stdout"
        },
        {
          "output_type": "stream",
          "text": [
            "391/391 [==============================] - 106s 272ms/step - loss: 0.0825 - acc: 0.9705 - val_loss: 0.6318 - val_acc: 0.8525\n",
            "\n",
            "Epoch 00009: val_acc did not improve from 0.87750\n",
            "Epoch 10/40\n",
            "363/391 [==========================>...] - ETA: 7s - loss: 0.0819 - acc: 0.9708"
          ],
          "name": "stdout"
        },
        {
          "output_type": "stream",
          "text": [
            "391/391 [==============================] - 105s 269ms/step - loss: 0.0825 - acc: 0.9706 - val_loss: 0.6478 - val_acc: 0.8536\n",
            "\n",
            "Epoch 00010: val_acc did not improve from 0.87750\n",
            "Epoch 11/40\n",
            "363/391 [==========================>...] - ETA: 7s - loss: 0.0838 - acc: 0.9706"
          ],
          "name": "stdout"
        },
        {
          "output_type": "stream",
          "text": [
            "391/391 [==============================] - 114s 291ms/step - loss: 0.0833 - acc: 0.9707 - val_loss: 0.6293 - val_acc: 0.8544\n",
            "\n",
            "Epoch 00011: val_acc did not improve from 0.87750\n",
            "Epoch 12/40\n",
            "363/391 [==========================>...] - ETA: 7s - loss: 0.0839 - acc: 0.9702"
          ],
          "name": "stdout"
        },
        {
          "output_type": "stream",
          "text": [
            "391/391 [==============================] - 113s 289ms/step - loss: 0.0837 - acc: 0.9703 - val_loss: 0.6193 - val_acc: 0.8486\n",
            "\n",
            "Epoch 00012: val_acc did not improve from 0.87750\n",
            "Epoch 13/40\n",
            "363/391 [==========================>...] - ETA: 7s - loss: 0.0790 - acc: 0.9714"
          ],
          "name": "stdout"
        },
        {
          "output_type": "stream",
          "text": [
            "391/391 [==============================] - 105s 268ms/step - loss: 0.0796 - acc: 0.9716 - val_loss: 0.5893 - val_acc: 0.8569\n",
            "\n",
            "Epoch 00013: val_acc did not improve from 0.87750\n",
            "Epoch 14/40\n",
            "363/391 [==========================>...] - ETA: 7s - loss: 0.0778 - acc: 0.9736"
          ],
          "name": "stdout"
        },
        {
          "output_type": "stream",
          "text": [
            "391/391 [==============================] - 106s 270ms/step - loss: 0.0784 - acc: 0.9733 - val_loss: 0.5877 - val_acc: 0.8580\n",
            "\n",
            "Epoch 00014: val_acc did not improve from 0.87750\n",
            "Epoch 15/40\n",
            "363/391 [==========================>...] - ETA: 7s - loss: 0.0780 - acc: 0.9725"
          ],
          "name": "stdout"
        },
        {
          "output_type": "stream",
          "text": [
            "391/391 [==============================] - 105s 267ms/step - loss: 0.0785 - acc: 0.9725 - val_loss: 0.6008 - val_acc: 0.8597\n",
            "\n",
            "Epoch 00015: val_acc did not improve from 0.87750\n",
            "Epoch 16/40\n",
            "363/391 [==========================>...] - ETA: 7s - loss: 0.0732 - acc: 0.9738"
          ],
          "name": "stdout"
        },
        {
          "output_type": "stream",
          "text": [
            "391/391 [==============================] - 105s 269ms/step - loss: 0.0745 - acc: 0.9733 - val_loss: 0.6433 - val_acc: 0.8528\n",
            "\n",
            "Epoch 00016: val_acc did not improve from 0.87750\n",
            "Epoch 17/40\n",
            "363/391 [==========================>...] - ETA: 8s - loss: 0.0731 - acc: 0.9749"
          ],
          "name": "stdout"
        },
        {
          "output_type": "stream",
          "text": [
            "391/391 [==============================] - 117s 300ms/step - loss: 0.0740 - acc: 0.9743 - val_loss: 0.6118 - val_acc: 0.8594\n",
            "\n",
            "Epoch 00017: val_acc did not improve from 0.87750\n",
            "Epoch 18/40\n",
            "363/391 [==========================>...] - ETA: 7s - loss: 0.0754 - acc: 0.9743"
          ],
          "name": "stdout"
        },
        {
          "output_type": "stream",
          "text": [
            "391/391 [==============================] - 108s 276ms/step - loss: 0.0757 - acc: 0.9742 - val_loss: 0.6092 - val_acc: 0.8585\n",
            "\n",
            "Epoch 00018: val_acc did not improve from 0.87750\n",
            "Epoch 19/40\n",
            "363/391 [==========================>...] - ETA: 7s - loss: 0.0737 - acc: 0.9743"
          ],
          "name": "stdout"
        },
        {
          "output_type": "stream",
          "text": [
            "391/391 [==============================] - 106s 271ms/step - loss: 0.0744 - acc: 0.9740 - val_loss: 0.6345 - val_acc: 0.8480\n",
            "\n",
            "Epoch 00019: val_acc did not improve from 0.87750\n",
            "Epoch 20/40\n",
            "363/391 [==========================>...] - ETA: 7s - loss: 0.0732 - acc: 0.9732"
          ],
          "name": "stdout"
        },
        {
          "output_type": "stream",
          "text": [
            "391/391 [==============================] - 111s 285ms/step - loss: 0.0734 - acc: 0.9731 - val_loss: 0.6252 - val_acc: 0.8542\n",
            "\n",
            "Epoch 00020: val_acc did not improve from 0.87750\n",
            "Epoch 21/40\n",
            "363/391 [==========================>...] - ETA: 8s - loss: 0.0724 - acc: 0.9745"
          ],
          "name": "stdout"
        },
        {
          "output_type": "stream",
          "text": [
            "391/391 [==============================] - 116s 297ms/step - loss: 0.0734 - acc: 0.9743 - val_loss: 0.6019 - val_acc: 0.8549\n",
            "\n",
            "Epoch 00021: val_acc did not improve from 0.87750\n",
            "Epoch 22/40\n",
            "363/391 [==========================>...] - ETA: 7s - loss: 0.0725 - acc: 0.9742"
          ],
          "name": "stdout"
        },
        {
          "output_type": "stream",
          "text": [
            "391/391 [==============================] - 105s 270ms/step - loss: 0.0730 - acc: 0.9742 - val_loss: 0.5884 - val_acc: 0.8623\n",
            "\n",
            "Epoch 00022: val_acc did not improve from 0.87750\n",
            "Epoch 23/40\n",
            "363/391 [==========================>...] - ETA: 7s - loss: 0.0742 - acc: 0.9744"
          ],
          "name": "stdout"
        },
        {
          "output_type": "stream",
          "text": [
            "391/391 [==============================] - 106s 271ms/step - loss: 0.0735 - acc: 0.9745 - val_loss: 0.6452 - val_acc: 0.8553\n",
            "\n",
            "Epoch 00023: val_acc did not improve from 0.87750\n",
            "Epoch 24/40\n",
            "363/391 [==========================>...] - ETA: 7s - loss: 0.0753 - acc: 0.9733"
          ],
          "name": "stdout"
        },
        {
          "output_type": "stream",
          "text": [
            "391/391 [==============================] - 105s 269ms/step - loss: 0.0757 - acc: 0.9734 - val_loss: 0.6174 - val_acc: 0.8579\n",
            "\n",
            "Epoch 00024: val_acc did not improve from 0.87750\n",
            "Epoch 25/40\n",
            "363/391 [==========================>...] - ETA: 7s - loss: 0.0728 - acc: 0.9749"
          ],
          "name": "stdout"
        },
        {
          "output_type": "stream",
          "text": [
            "391/391 [==============================] - 105s 268ms/step - loss: 0.0729 - acc: 0.9749 - val_loss: 0.6400 - val_acc: 0.8546\n",
            "\n",
            "Epoch 00025: val_acc did not improve from 0.87750\n",
            "Epoch 26/40\n",
            "363/391 [==========================>...] - ETA: 7s - loss: 0.0692 - acc: 0.9754"
          ],
          "name": "stdout"
        },
        {
          "output_type": "stream",
          "text": [
            "391/391 [==============================] - 115s 294ms/step - loss: 0.0699 - acc: 0.9751 - val_loss: 0.6367 - val_acc: 0.8570\n",
            "\n",
            "Epoch 00026: val_acc did not improve from 0.87750\n",
            "Epoch 27/40\n",
            "363/391 [==========================>...] - ETA: 7s - loss: 0.0713 - acc: 0.9739"
          ],
          "name": "stdout"
        },
        {
          "output_type": "stream",
          "text": [
            "391/391 [==============================] - 110s 281ms/step - loss: 0.0712 - acc: 0.9738 - val_loss: 0.6210 - val_acc: 0.8589\n",
            "\n",
            "Epoch 00027: val_acc did not improve from 0.87750\n",
            "Epoch 28/40\n",
            "363/391 [==========================>...] - ETA: 7s - loss: 0.0697 - acc: 0.9749"
          ],
          "name": "stdout"
        },
        {
          "output_type": "stream",
          "text": [
            "391/391 [==============================] - 104s 267ms/step - loss: 0.0700 - acc: 0.9747 - val_loss: 0.5913 - val_acc: 0.8609\n",
            "\n",
            "Epoch 00028: val_acc did not improve from 0.87750\n",
            "Epoch 29/40\n",
            "363/391 [==========================>...] - ETA: 7s - loss: 0.0663 - acc: 0.9770"
          ],
          "name": "stdout"
        },
        {
          "output_type": "stream",
          "text": [
            "391/391 [==============================] - 112s 286ms/step - loss: 0.0672 - acc: 0.9765 - val_loss: 0.6102 - val_acc: 0.8603\n",
            "\n",
            "Epoch 00029: val_acc did not improve from 0.87750\n",
            "Epoch 30/40\n",
            "363/391 [==========================>...] - ETA: 7s - loss: 0.0686 - acc: 0.9761"
          ],
          "name": "stdout"
        },
        {
          "output_type": "stream",
          "text": [
            "391/391 [==============================] - 117s 299ms/step - loss: 0.0688 - acc: 0.9760 - val_loss: 0.6215 - val_acc: 0.8593\n",
            "\n",
            "Epoch 00030: val_acc did not improve from 0.87750\n",
            "Epoch 31/40\n",
            "363/391 [==========================>...] - ETA: 7s - loss: 0.0687 - acc: 0.9762"
          ],
          "name": "stdout"
        },
        {
          "output_type": "stream",
          "text": [
            "391/391 [==============================] - 108s 275ms/step - loss: 0.0684 - acc: 0.9762 - val_loss: 0.6409 - val_acc: 0.8539\n",
            "\n",
            "Epoch 00031: val_acc did not improve from 0.87750\n",
            "Epoch 32/40\n",
            "363/391 [==========================>...] - ETA: 7s - loss: 0.0637 - acc: 0.9780"
          ],
          "name": "stdout"
        },
        {
          "output_type": "stream",
          "text": [
            "391/391 [==============================] - 106s 272ms/step - loss: 0.0634 - acc: 0.9779 - val_loss: 0.6130 - val_acc: 0.8620\n",
            "\n",
            "Epoch 00032: val_acc did not improve from 0.87750\n",
            "Epoch 33/40\n",
            "363/391 [==========================>...] - ETA: 7s - loss: 0.0638 - acc: 0.9788"
          ],
          "name": "stdout"
        },
        {
          "output_type": "stream",
          "text": [
            "391/391 [==============================] - 105s 268ms/step - loss: 0.0651 - acc: 0.9783 - val_loss: 0.6408 - val_acc: 0.8539\n",
            "\n",
            "Epoch 00033: val_acc did not improve from 0.87750\n",
            "Epoch 34/40\n",
            "363/391 [==========================>...] - ETA: 7s - loss: 0.0634 - acc: 0.9784"
          ],
          "name": "stdout"
        },
        {
          "output_type": "stream",
          "text": [
            "391/391 [==============================] - 105s 270ms/step - loss: 0.0635 - acc: 0.9784 - val_loss: 0.6305 - val_acc: 0.8568\n",
            "\n",
            "Epoch 00034: val_acc did not improve from 0.87750\n",
            "Epoch 35/40\n",
            "363/391 [==========================>...] - ETA: 7s - loss: 0.0661 - acc: 0.9765"
          ],
          "name": "stdout"
        },
        {
          "output_type": "stream",
          "text": [
            "391/391 [==============================] - 107s 275ms/step - loss: 0.0662 - acc: 0.9764 - val_loss: 0.6063 - val_acc: 0.8590\n",
            "\n",
            "Epoch 00035: val_acc did not improve from 0.87750\n",
            "Epoch 36/40\n",
            "363/391 [==========================>...] - ETA: 7s - loss: 0.0647 - acc: 0.9769"
          ],
          "name": "stdout"
        },
        {
          "output_type": "stream",
          "text": [
            "391/391 [==============================] - 113s 290ms/step - loss: 0.0648 - acc: 0.9769 - val_loss: 0.6097 - val_acc: 0.8604\n",
            "\n",
            "Epoch 00036: val_acc did not improve from 0.87750\n",
            "Epoch 37/40\n",
            "363/391 [==========================>...] - ETA: 7s - loss: 0.0650 - acc: 0.9766"
          ],
          "name": "stdout"
        },
        {
          "output_type": "stream",
          "text": [
            "391/391 [==============================] - 107s 273ms/step - loss: 0.0645 - acc: 0.9768 - val_loss: 0.6498 - val_acc: 0.8504\n",
            "\n",
            "Epoch 00037: val_acc did not improve from 0.87750\n",
            "Epoch 38/40\n",
            "363/391 [==========================>...] - ETA: 7s - loss: 0.0631 - acc: 0.9780"
          ],
          "name": "stdout"
        },
        {
          "output_type": "stream",
          "text": [
            "391/391 [==============================] - 105s 268ms/step - loss: 0.0629 - acc: 0.9782 - val_loss: 0.6101 - val_acc: 0.8607\n",
            "\n",
            "Epoch 00038: val_acc did not improve from 0.87750\n",
            "Epoch 39/40\n",
            "363/391 [==========================>...] - ETA: 7s - loss: 0.0618 - acc: 0.9780"
          ],
          "name": "stdout"
        },
        {
          "output_type": "stream",
          "text": [
            "391/391 [==============================] - 116s 297ms/step - loss: 0.0619 - acc: 0.9780 - val_loss: 0.6013 - val_acc: 0.8623\n",
            "\n",
            "Epoch 00039: val_acc did not improve from 0.87750\n",
            "Epoch 40/40\n",
            "363/391 [==========================>...] - ETA: 7s - loss: 0.0631 - acc: 0.9782"
          ],
          "name": "stdout"
        },
        {
          "output_type": "stream",
          "text": [
            "391/391 [==============================] - 112s 286ms/step - loss: 0.0635 - acc: 0.9781 - val_loss: 0.6561 - val_acc: 0.8513\n",
            "\n",
            "Epoch 00040: val_acc did not improve from 0.87750\n"
          ],
          "name": "stdout"
        }
      ]
    },
    {
      "metadata": {
        "id": "UYqYMSJiHkP8",
        "colab_type": "text"
      },
      "cell_type": "markdown",
      "source": [
        "## Observation and Discussion \n",
        "\n",
        "The model scored slighly above 87% and again like the other deep models it tends to overfit at higher epoches levels while attempting to increase the accuracy of the overall model this problem should be addressed. It is worth to mention that the number of parameters of this model is more than 20 million trainable parameters, however, the average epoch time is only about104 seconds. On the other hand the ResnetV2 of 20 layers has about 500K trainable parameters and it took 59 seconds on average for each epoch. The aveage epoch time for a deeper Resnet can surpase the amount of time required to train it than that of an Xception model. This statement doesnt imply that the Xception model is generaly better or more efficient than the Resnet20, but it implies that when depthwise separable convolution is used it can generaly make the models more computationaly efficient especially for a deep model like an xception model. "
      ]
    },
    {
      "metadata": {
        "id": "5WSOGVV2mm3i",
        "colab_type": "text"
      },
      "cell_type": "markdown",
      "source": [
        "#CONCLUSION AND FUTURE DIRECTION: \n",
        "\n",
        "A resnetv2 of depth equal to 20 is implemented which achieved almost 91% accuracy. At first a simple convolution architecture can achieve a reasonable good accuracy of almost 82% accuracy and a deeper architecture shows only 9% more accuracy. In [1] they show that a Resnet of depth equal to 1001 can achieve almost 95% accuracy but the computational complexity is fairly large. For this reason I didnot pursue this experiement due to time limitation and it is only 3% to 4% extra gains, also I thought it would be more interesteing to try other approaches. Data augmentation and learning rate scheduling improved the simple convolution net by 2%. The Xception model achieved more than 87% accuracy given that the complexity of this model is fairly less than a Resnet archietcture. More than 20 million parameters were learned in a dramaitically shorter time if you compare the same condition with a very deep architecture like Resent1001. The concept of depthwise separable convolution shown to be computationaly efficient. I ran the models on 200 epoches but it looks like it doesnt need that much computational time as the models stoped improving so I reduced it to 100 with minimal tradeoff on accuracy outcome. \n",
        "\n",
        "Overall the deep architectures tends to over fit as you can see in the implementations the training accuracy is alwasy higher than the testing accuracy by 9%. This was not the case with the simple convolution architecture provided that dropouts and regularizations was used. Even though batch normalizations were used in these deep architectures but it may not be sufficient for this dataset and it might be a good idea to try dropouts and/or L2 regularization. \n",
        "\n",
        "Still arguably and undeniable that a deeper architecture can lead to the best results, however, it may not be very practical because of its training time. This issue can be addressed by using more efficient ways to compute convolution and conduct a research in this direction. There are also other techniques such as transfer learning and synthetic gradients. \n",
        "\n",
        "\n"
      ]
    },
    {
      "metadata": {
        "id": "n5qnqPppeO37",
        "colab_type": "text"
      },
      "cell_type": "markdown",
      "source": [
        "### Tranfer Learning and Synthetic Gradients: \n",
        "\n",
        "A quick experiement that I wanted to do is to basically use an already pretrained Resnet1001 on the image net data set. Then we can freeze the first layers and mid layers and retrain the last few layers on the new data set. This is usually refered to as trasfer learning in the litreture. This can save some training time. \n",
        "\n",
        "Personaly, I think machine vision is still far away from human performance in terms of image classificaiton. Humans are far more robust and efficient in image classificaiton outperforming Machine Learning in noisy enviroments. May be our visual system can be compared with a fairly very deep neural network, but our visual system is trained over the years, and we are trying to train a new deep network within hours. So from here I think it makes sense to research better ways to train these networks rather than relying on backprogation. The concept of Synthetic gradients introduced in [6] has shown some efficient convergence techninques and it is also used by google's DeepMind. The idea of Synthetic gradients is to be able to update parts of a neural network asynchronously or executed through parallel computing without waiting for gradient update of the previous layers like backpropagation. This allows for faster training of deep and complex architectures such as a ResnetV2 1001. "
      ]
    },
    {
      "metadata": {
        "id": "Pf2Q3dIzuEy9",
        "colab_type": "text"
      },
      "cell_type": "markdown",
      "source": [
        "# ACKNOWLEDGMENT\n",
        "\n",
        "Regardless of the outcome of this interview assesment I would like to thank you for this oppurtuenty, it made me revamp my machine vision concepts and I had fun working on this assesment. I wish I had more time to do more experiments that I had in mind but I was not able to commit more than 2 hours a day on average (excluding code execution time) the past week because of other work commitments I had on my end. "
      ]
    },
    {
      "metadata": {
        "id": "zoAcoMOiupY8",
        "colab_type": "text"
      },
      "cell_type": "markdown",
      "source": [
        "# REFRENCES\n",
        "\n",
        "[1] Sun, et al. 'Identity Mappings in Deep Residual Networks', [LINK](https://arxiv.org/pdf/1603.05027.pdf)\n",
        "\n",
        "[2] Alemi, et al. 'Inception-v4, Inception-ResNet and the Impact of Residual Connections on Learning', [LINK](https://arxiv.org/pdf/1602.07261.pdf)\n",
        "\n",
        "[3] Sun, et al. 'Deep Residual Learning for Image Recognition' [LINK](https://arxiv.org/pdf/1512.03385.pdf)\n",
        "\n",
        "[4] Louis Prove. 'An Introduction to different Types of Convolutions in Deep Learning' [LINK](https://towardsdatascience.com/types-of-convolutions-in-deep-learning-717013397f4d)\n",
        "\n",
        "[5] Chollet. 'Xception: Deep Learning with Depthwise Separable Convolutions' [LINK](https://arxiv.org/abs/1610.02357)\n",
        "\n",
        "[6] Kavukcuoglu, et al. 'Decoupled Neural Interfaces using Synthetic Gradients' [LINK](https://arxiv.org/pdf/1608.05343.pdf)"
      ]
    }
  ]
}